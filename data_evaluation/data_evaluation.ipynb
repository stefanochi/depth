{
 "cells": [
  {
   "cell_type": "code",
   "execution_count": 1,
   "id": "552c6058",
   "metadata": {},
   "outputs": [],
   "source": [
    "%load_ext autoreload\n",
    "%autoreload 2\n",
    "import numpy as np\n",
    "import matplotlib.pyplot as plt\n",
    "from multiprocessing.dummy import Pool as ThreadPool\n",
    "from tqdm import tqdm\n",
    "from multiprocessing import Pool\n",
    "import numpy.ma as ma\n",
    "from scipy.ndimage import gaussian_filter, convolve\n",
    "import sys\n",
    "\n",
    "sys.path.append(\"../\")\n",
    "import utils"
   ]
  },
  {
   "cell_type": "code",
   "execution_count": 2,
   "id": "3e03d9d7",
   "metadata": {},
   "outputs": [],
   "source": [
    "event_data = np.loadtxt(\"../data/shapes_translation/events.txt\")\n",
    "position_data = np.loadtxt(\"../data/shapes_translation/groundtruth.txt\")"
   ]
  },
  {
   "cell_type": "code",
   "execution_count": 35,
   "id": "84cfdc74",
   "metadata": {},
   "outputs": [],
   "source": [
    "#params\n",
    "t_start = 0.5\n",
    "duration = 0.1\n",
    "\n",
    "img_height = 180\n",
    "img_width = 240"
   ]
  },
  {
   "cell_type": "markdown",
   "id": "bc1ff9f4",
   "metadata": {},
   "source": [
    "Filter the events for a given time frame"
   ]
  },
  {
   "cell_type": "code",
   "execution_count": 36,
   "id": "667c17b4",
   "metadata": {},
   "outputs": [],
   "source": [
    "events_range = utils.get_events_range(event_data, t_start, duration)"
   ]
  },
  {
   "cell_type": "markdown",
   "id": "0095e4c7",
   "metadata": {},
   "source": [
    "Select the patch of the events we want to consider"
   ]
  },
  {
   "cell_type": "code",
   "execution_count": 37,
   "id": "e9133c09",
   "metadata": {},
   "outputs": [
    {
     "name": "stdout",
     "output_type": "stream",
     "text": [
      "(69, 83)\n"
     ]
    }
   ],
   "source": [
    "patch_center = (40, 76)\n",
    "patch_size = 15\n",
    "x_lim = (patch_center[1] - int(patch_size/2), patch_center[1] + int(patch_size/2))\n",
    "y_lim = (patch_center[0] - int(patch_size/2), patch_center[0] + int(patch_size/2))\n",
    "print(x_lim)\n",
    "\n",
    "events_filtered = events_range\n",
    "events_filtered = events_filtered[np.logical_and((x_lim[0] <= events_filtered[:,1]) , (events_filtered[:,1] <= x_lim[1]))]\n",
    "events_filtered = events_filtered[np.logical_and((y_lim[0] <= events_filtered[:,2]) , (events_filtered[:,2] <= y_lim[1]))]\n",
    "#events_filtered = events_filtered[[(y_lim[0] >= events_range[:,2]) & (events_range[:,2] <= y_lim[1])]\n",
    "events_filtered = np.array(events_filtered)"
   ]
  },
  {
   "cell_type": "code",
   "execution_count": 38,
   "id": "bdfd8fbc",
   "metadata": {},
   "outputs": [],
   "source": [
    "def img_from_events(events):\n",
    "    img = np.zeros((img_height, img_width))\n",
    "    for e in events:\n",
    "        if e[3] == 1:\n",
    "            continue\n",
    "        x = int(e[1])\n",
    "        y = int(e[2])\n",
    "        img[y, x] += 1\n",
    "    return img"
   ]
  },
  {
   "cell_type": "code",
   "execution_count": 39,
   "id": "69ee34e9",
   "metadata": {},
   "outputs": [],
   "source": [
    "def img_from_events_patch(events, patch_size):\n",
    "    img = np.zeros((patch_size, patch_size))\n",
    "    for e in events:\n",
    "        if e[3] == 1:\n",
    "            continue\n",
    "        x = int(e[1]) - patch_center[1] + int(patch_size/2)\n",
    "        y = int(e[2]) - patch_center[0] + int(patch_size/2)\n",
    "        img[y, x] += 1\n",
    "    return img"
   ]
  },
  {
   "cell_type": "code",
   "execution_count": 40,
   "id": "e78dfba5",
   "metadata": {},
   "outputs": [
    {
     "data": {
      "text/plain": [
       "<matplotlib.image.AxesImage at 0x1f2b1b81040>"
      ]
     },
     "execution_count": 40,
     "metadata": {},
     "output_type": "execute_result"
    },
    {
     "data": {
      "image/png": "[encoded data removed]",
      "text/plain": [
       "<Figure size 432x288 with 1 Axes>"
      ]
     },
     "metadata": {
      "needs_background": "light"
     },
     "output_type": "display_data"
    }
   ],
   "source": [
    "img = img_from_events_patch(events_filtered, patch_size)\n",
    "plt.imshow(img)"
   ]
  },
  {
   "cell_type": "code",
   "execution_count": 41,
   "id": "12dcf9d9",
   "metadata": {},
   "outputs": [
    {
     "data": {
      "text/plain": [
       "<matplotlib.image.AxesImage at 0x1f2b1ae4d60>"
      ]
     },
     "execution_count": 41,
     "metadata": {},
     "output_type": "execute_result"
    },
    {
     "data": {
      "image/png": "[encoded data removed]",
      "text/plain": [
       "<Figure size 432x288 with 1 Axes>"
      ]
     },
     "metadata": {
      "needs_background": "light"
     },
     "output_type": "display_data"
    }
   ],
   "source": [
    "img = np.zeros((180, 240))\n",
    "for e in events_range:\n",
    "    if e[3] == 1:\n",
    "        continue\n",
    "    x = int(e[1])\n",
    "    y = int(e[2])\n",
    "    img[y, x] += 1\n",
    "plt.imshow(img)"
   ]
  },
  {
   "cell_type": "code",
   "execution_count": 42,
   "id": "caf4603e",
   "metadata": {},
   "outputs": [],
   "source": [
    "def filter_refactory(events, ref_time):\n",
    "    time_dict = {}\n",
    "    result = []\n",
    "    for e in events:\n",
    "        key = (e[1], e[2])\n",
    "        if key not in time_dict:\n",
    "            time_dict[key] = e[0]\n",
    "            result.append(e)\n",
    "            continue\n",
    "        if e[0] - time_dict[key] > ref_time:\n",
    "            time_dict[key] = e[0]\n",
    "            result.append(e)\n",
    "    return np.array(result)"
   ]
  },
  {
   "cell_type": "code",
   "execution_count": 43,
   "id": "6898a106",
   "metadata": {},
   "outputs": [],
   "source": [
    "events_filtered_ref = filter_refactory(events_filtered, 0.04)"
   ]
  },
  {
   "cell_type": "code",
   "execution_count": 44,
   "id": "c16dcab9",
   "metadata": {},
   "outputs": [
    {
     "data": {
      "text/plain": [
       "<matplotlib.colorbar.Colorbar at 0x1f2b1e87a60>"
      ]
     },
     "execution_count": 44,
     "metadata": {},
     "output_type": "execute_result"
    },
    {
     "data": {
      "image/png": "[encoded data removed]",
      "text/plain": [
       "<Figure size 432x288 with 2 Axes>"
      ]
     },
     "metadata": {
      "needs_background": "light"
     },
     "output_type": "display_data"
    }
   ],
   "source": [
    "img = img_from_events_patch(events_filtered_ref, patch_size)\n",
    "img_m = np.ma.masked_where(img == 0, img)\n",
    "m = plt.imshow(img_m)\n",
    "plt.colorbar(mappable=m)"
   ]
  },
  {
   "cell_type": "code",
   "execution_count": 45,
   "id": "a11f72af",
   "metadata": {},
   "outputs": [],
   "source": [
    "events_ref = filter_refactory(events_range, 0.09)"
   ]
  },
  {
   "cell_type": "code",
   "execution_count": 46,
   "id": "dc09750b",
   "metadata": {},
   "outputs": [
    {
     "data": {
      "text/plain": [
       "<matplotlib.colorbar.Colorbar at 0x1f2b1f5af40>"
      ]
     },
     "execution_count": 46,
     "metadata": {},
     "output_type": "execute_result"
    },
    {
     "data": {
      "image/png": "[encoded data removed]",
      "text/plain": [
       "<Figure size 720x720 with 2 Axes>"
      ]
     },
     "metadata": {
      "needs_background": "light"
     },
     "output_type": "display_data"
    }
   ],
   "source": [
    "plt.figure(figsize=(10, 10))\n",
    "img = img_from_events(events_ref)\n",
    "m = plt.imshow(img)\n",
    "plt.colorbar(mappable=m)"
   ]
  },
  {
   "cell_type": "code",
   "execution_count": 47,
   "id": "69099da9",
   "metadata": {},
   "outputs": [
    {
     "data": {
      "text/plain": [
       "array([[  0.500008, 164.      , 161.      ,   0.      ],\n",
       "       [  0.500016, 203.      ,  23.      ,   0.      ],\n",
       "       [  0.500034, 188.      , 163.      ,   1.      ],\n",
       "       ...,\n",
       "       [  0.599969, 169.      , 174.      ,   1.      ],\n",
       "       [  0.59997 , 140.      , 170.      ,   0.      ],\n",
       "       [  0.599976, 166.      , 157.      ,   0.      ]])"
      ]
     },
     "execution_count": 47,
     "metadata": {},
     "output_type": "execute_result"
    }
   ],
   "source": [
    "events_ref"
   ]
  },
  {
   "cell_type": "code",
   "execution_count": 48,
   "id": "9835ad02",
   "metadata": {},
   "outputs": [],
   "source": [
    "np.savetxt(\"../data_processed/events_refact_shapes_translation01.txt\", events_ref)"
   ]
  },
  {
   "cell_type": "code",
   "execution_count": 17,
   "id": "d496c13b",
   "metadata": {},
   "outputs": [],
   "source": [
    "events_r = events_ref.copy()"
   ]
  },
  {
   "cell_type": "code",
   "execution_count": 18,
   "id": "cff77b5a",
   "metadata": {},
   "outputs": [],
   "source": [
    "test = events_r.copy()\n",
    "test[:,1:] = events_r[:,1:].astype(int)"
   ]
  },
  {
   "cell_type": "code",
   "execution_count": 19,
   "id": "9732c54a",
   "metadata": {},
   "outputs": [],
   "source": [
    "# np.savetxt(\"../data_processed/events_refact.txt\", test)"
   ]
  },
  {
   "cell_type": "code",
   "execution_count": 20,
   "id": "dca3e069",
   "metadata": {},
   "outputs": [],
   "source": [
    "a = np.array([\n",
    "    [0, 0, 1],\n",
    "    [1, 0, 1],\n",
    "    [0, 1, 0]\n",
    "])\n",
    "u = np.array([\n",
    "    [0.5, 1, 0],\n",
    "    [1, 1, 0.5],\n",
    "    [0, 1, 1]\n",
    "])"
   ]
  },
  {
   "cell_type": "code",
   "execution_count": 21,
   "id": "15770395",
   "metadata": {},
   "outputs": [
    {
     "data": {
      "text/plain": [
       "array([[False, False,  True],\n",
       "       [ True, False,  True],\n",
       "       [False,  True, False]])"
      ]
     },
     "execution_count": 21,
     "metadata": {},
     "output_type": "execute_result"
    }
   ],
   "source": [
    "t = a > np.zeros((3, 3))\n",
    "t"
   ]
  },
  {
   "cell_type": "code",
   "execution_count": 22,
   "id": "791a4172",
   "metadata": {},
   "outputs": [],
   "source": [
    "u[t] = a[t]"
   ]
  },
  {
   "cell_type": "code",
   "execution_count": 23,
   "id": "53b2f04f",
   "metadata": {},
   "outputs": [
    {
     "data": {
      "text/plain": [
       "array([[0.5, 1. , 1. ],\n",
       "       [1. , 1. , 1. ],\n",
       "       [0. , 1. , 1. ]])"
      ]
     },
     "execution_count": 23,
     "metadata": {},
     "output_type": "execute_result"
    }
   ],
   "source": [
    "u"
   ]
  },
  {
   "cell_type": "code",
   "execution_count": 24,
   "id": "3fb42f05",
   "metadata": {},
   "outputs": [],
   "source": [
    "a = np.array([0, 1, 0, 1, 1, 0])\n",
    "b = np.array([0.5, 1, 1, 0, 0.5, 0])"
   ]
  },
  {
   "cell_type": "code",
   "execution_count": 25,
   "id": "0c674be1",
   "metadata": {},
   "outputs": [],
   "source": [
    "t = a > np.array([0, 0, 0, 0, 0, 0])\n",
    "b[t] = 2"
   ]
  },
  {
   "cell_type": "code",
   "execution_count": 26,
   "id": "52e0c630",
   "metadata": {},
   "outputs": [
    {
     "data": {
      "text/plain": [
       "array([0.5, 2. , 1. , 2. , 2. , 0. ])"
      ]
     },
     "execution_count": 26,
     "metadata": {},
     "output_type": "execute_result"
    }
   ],
   "source": [
    "b"
   ]
  },
  {
   "cell_type": "code",
   "execution_count": 50,
   "id": "4d8f7550",
   "metadata": {},
   "outputs": [
    {
     "data": {
      "text/plain": [
       "(11947, 8)"
      ]
     },
     "execution_count": 50,
     "metadata": {},
     "output_type": "execute_result"
    }
   ],
   "source": [
    "position_data.shape"
   ]
  },
  {
   "cell_type": "code",
   "execution_count": 51,
   "id": "72566de1",
   "metadata": {},
   "outputs": [],
   "source": [
    "id_pos_start = np.searchsorted(position_data[:,0], t_start)\n",
    "id_pos_end = np.searchsorted(position_data[:,0], t_start + duration)"
   ]
  },
  {
   "cell_type": "code",
   "execution_count": 52,
   "id": "3d3ca37e",
   "metadata": {},
   "outputs": [],
   "source": [
    "position_range = position_data[id_pos_start:id_pos_end,:]"
   ]
  },
  {
   "cell_type": "code",
   "execution_count": 57,
   "id": "93d996a9",
   "metadata": {},
   "outputs": [
    {
     "data": {
      "text/plain": [
       "[<matplotlib.lines.Line2D at 0x1f2b2653760>]"
      ]
     },
     "execution_count": 57,
     "metadata": {},
     "output_type": "execute_result"
    },
    {
     "data": {
      "image/png": "[encoded data removed]",
      "text/plain": [
       "<Figure size 432x288 with 1 Axes>"
      ]
     },
     "metadata": {
      "needs_background": "light"
     },
     "output_type": "display_data"
    }
   ],
   "source": [
    "plt.axis(\"equal\")\n",
    "plt.plot(position_range[:,1], position_range[:,2])"
   ]
  },
  {
   "cell_type": "code",
   "execution_count": null,
   "id": "2779c037",
   "metadata": {},
   "outputs": [],
   "source": []
  }
 ],
 "metadata": {
  "kernelspec": {
   "display_name": "Python 3 (ipykernel)",
   "language": "python",
   "name": "python3"
  },
  "language_info": {
   "codemirror_mode": {
    "name": "ipython",
    "version": 3
   },
   "file_extension": ".py",
   "mimetype": "text/x-python",
   "name": "python",
   "nbconvert_exporter": "python",
   "pygments_lexer": "ipython3",
   "version": "3.8.10"
  }
 },
 "nbformat": 4,
 "nbformat_minor": 5
}
