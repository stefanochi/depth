{
 "cells": [
  {
   "cell_type": "code",
   "execution_count": 1,
   "id": "9164af8e",
   "metadata": {},
   "outputs": [],
   "source": [
    "import sys\n",
    "\n",
    "sys.path.append(\"../\")\n",
    "\n",
    "import numpy as np\n",
    "from matplotlib import pyplot as plt\n",
    "from matplotlib.animation import FuncAnimation, PillowWriter, FFMpegWriter\n",
    "\n",
    "from semd.proc.tde_2d.process import TDE2D\n",
    "from semd.proc.reshape_conv.process import ReshapeConv\n",
    "from semd.proc.change_dim.process import ChangeDim\n",
    "from semd.proc.add_dim.process import AddDim\n",
    "from semd.proc.sel_exp.process import SelExp\n",
    "\n",
    "from lava.proc.lif.process import LIF\n",
    "from lava.magma.core.process.process import AbstractProcess\n",
    "from lava.magma.core.process.ports.ports import InPort, OutPort\n",
    "from lava.magma.core.process.variable import Var\n",
    "from lava.magma.core.model.sub.model import AbstractSubProcessModel\n",
    "\n",
    "from lava.proc.io.source import RingBuffer\n",
    "from lava.proc.io.sink import RingBuffer as SinkBuffer\n",
    "from lava.proc.monitor.process import Monitor\n",
    "\n",
    "from lava.magma.core.run_configs import RunConfig, Loihi1SimCfg\n",
    "from lava.magma.core.run_conditions import RunSteps\n",
    "\n",
    "import semd2d_utils\n",
    "\n",
    "events = np.loadtxt(\"../data_processed/events_refact_circ05.txt\")\n",
    "directions = np.loadtxt(\"active_dir.txt\")\n",
    "# this data is already filtered by time, no need to redo it here\n",
    "\n",
    "# use only the specified patch of input events\n",
    "patch_center = (90, 120)\n",
    "patch_size = 180\n",
    "events = semd2d_utils.filter_patch(events, patch_center, patch_size)\n",
    "\n",
    "data_steps = 50 # timesteps to divide the data into\n",
    "sim_steps = 50 # simulation steps\n",
    "shape = (patch_size, patch_size)\n",
    "t_start = events[0, 0]\n",
    "duration = events[-1, 0] - events[0, 0]\n",
    "n_directions = 16\n",
    "\n",
    "input_directions = np.zeros((n_directions, data_steps))\n",
    "for t in range(data_steps):\n",
    "    \n",
    "    t_real = t_start + t * (duration / data_steps)\n",
    "    \n",
    "    t_dif = t_real - directions[:,0]\n",
    "    t_dif_m = np.ma.masked_where(t_dif < 0, t_dif)\n",
    "    \n",
    "    idx = t_dif_m.argmin()\n",
    "\n",
    "    input_directions[int(directions[idx, 1]), t] = 1\n",
    "\n",
    "directions_n = RingBuffer(input_directions)\n",
    "\n",
    "output_dir = SinkBuffer(shape=(n_directions,), buffer=sim_steps)\n",
    "directions_n.s_out.connect(output_dir.a_in)\n",
    "\n",
    "args = {\n",
    "    \"shape\":shape,\n",
    "    \"conv_shape\": (3, 3),\n",
    "    \"conv_stride\": (3, 3),\n",
    "    \"thresh_conv\": 0.5,\n",
    "    \"detector_du\": 0.1\n",
    "}\n",
    "\n",
    "vth = 10\n",
    "conv_shape = args[\"conv_shape\"]\n",
    "conv_stride = args[\"conv_stride\"]\n",
    "thresh_conv = args[\"thresh_conv\"]\n",
    "detector_dv = 0.2\n",
    "\n",
    "input_data = semd2d_utils.gen_input_data(events, shape, data_steps)\n",
    "input_n = RingBuffer(input_data)\n",
    "\n",
    "bias_weight = (vth / (conv_shape[0] * conv_shape[1])) / thresh_conv\n",
    "# convolution layer with reshape proc\n",
    "conv = ReshapeConv(input_shape=shape, conv_shape=conv_shape, conv_stride=conv_stride,\n",
    "                        bias_weight=bias_weight)\n",
    "\n",
    "out_shape = conv.out_shape\n",
    "# connect the input to the convolution\n",
    "input_n.s_out.connect(conv.in_ports.s_in)\n",
    "\n",
    "output_n = SinkBuffer(shape=out_shape, buffer=sim_steps)\n",
    "\n",
    "# lif layer that collects the value from the convolution layer and fires when enough neuron in the input fire\n",
    "lif = LIF(shape=out_shape, du=1.0, dv=0.0, vth=10.0)\n",
    "\n",
    "# conv to lif\n",
    "conv.s_out.connect(lif.a_in)\n",
    "\n",
    "dirs_list = [\n",
    "    [3, 0], [3, 1], [2, 2], [1, 3], [0, 3], [-1, 3], [-2, 2], [-3, 1], [-3,0], [-3, -1], [-2,-2],\n",
    "    [-1,-3], [0,-3], [1,-3], [2,-2], [3,-1]\n",
    "]\n",
    "\n",
    "change_dim_excit_list = [None] * n_directions\n",
    "change_dim_trig_list = [None] * n_directions\n",
    "detector_list = [None] * n_directions\n",
    "add_dim_list = [None] * n_directions\n",
    "sel_exp_list = [None] * n_directions\n",
    "\n",
    "for i, dir in enumerate(dirs_list[:]):\n",
    "    detector_shape = (out_shape[0] - np.abs(dir[1]), out_shape[1] - np.abs(dir[0]))\n",
    "\n",
    "    if dir[0] > 0:\n",
    "        col_del_excit = np.arange(-dir[0], 0)\n",
    "    else:\n",
    "        col_del_excit = np.arange(0, -dir[0])\n",
    "\n",
    "    if dir[1] > 0:\n",
    "        row_del_excit = np.arange(-dir[1], 0)\n",
    "    else:\n",
    "        row_del_excit = np.arange(0, -dir[1])\n",
    "\n",
    "    if dir[0] > 0:\n",
    "        col_del_trig = np.arange(0, dir[0])\n",
    "    else:\n",
    "        col_del_trig = np.arange(dir[0], 0)\n",
    "\n",
    "    if dir[1] > 0:\n",
    "        row_del_trig = np.arange(0, dir[1])\n",
    "    else:\n",
    "        row_del_trig = np.arange(dir[1], 0)\n",
    "\n",
    "    # removes columns and row from the lif to match the dimension of the time difference detector\n",
    "    # change_dim_excit = ChangeDim(shape=(out_shape), col_del=col_del_excit, row_del=row_del_excit, weight=11.0)\n",
    "    change_dim_excit_list[i] = ChangeDim(shape=(out_shape), col_del=col_del_excit, row_del=row_del_excit, weight=4.0)\n",
    "    change_dim_trig_list[i] = ChangeDim(shape=(out_shape), col_del=col_del_trig, row_del=row_del_trig)\n",
    "\n",
    "    # time difference detector for the left motion\n",
    "    detector_list[i] = TDE2D(shape=detector_shape, dv=detector_dv, du=1)\n",
    "\n",
    "    sel_exp_list[i] = SelExp(shape_in=(n_directions,), out_r=detector_shape[0], out_c=detector_shape[1], weight=6, sel_id=i)\n",
    "    directions_n.s_out.connect(sel_exp_list[i].s_in)\n",
    "    sel_exp_list[i].s_out.connect(detector_list[i].a_in)\n",
    "\n",
    "    add_dim_list[i] = AddDim(in_shape=detector_shape, out_shape=out_shape, dis_x=dir[0], dis_y=dir[1])\n",
    "\n",
    "    lif.s_out.connect(change_dim_excit_list[i].s_in)\n",
    "    lif.s_out.connect(change_dim_trig_list[i].s_in)\n",
    "\n",
    "    change_dim_trig_list[i].s_out.connect(detector_list[i].t_in)\n",
    "    change_dim_excit_list[i].s_out.connect(detector_list[i].a_in)\n",
    "\n",
    "    detector_list[i].s_out.connect(add_dim_list[i].s_in)\n",
    "\n",
    "    add_dim_list[i].s_out.connect(output_n.a_in)\n",
    "\n",
    "##############################\n",
    "################################\n",
    "#output_n = SinkBuffer(shape=(60, 60), buffer=sim_steps)\n",
    "\n",
    "monitor = Monitor()\n",
    "monitor.probe(detector_list[11].v, sim_steps)\n",
    "\n",
    "rcfg = Loihi1SimCfg(select_tag='floating_pt', select_sub_proc_model=True)\n",
    "\n",
    "for i in range(sim_steps):\n",
    "    run_condition = RunSteps(num_steps=1)\n",
    "    input_n.run(condition=run_condition, run_cfg=rcfg)\n",
    "data = output_n.data.get()\n",
    "data_dir = output_dir.data.get()\n",
    "data_u = monitor.get_data()\n",
    "\n",
    "input_n.stop()\n",
    "\n",
    "#data, data_u = semd2d_utils.run_sim(args, events, data_steps, sim_steps)"
   ]
  },
  {
   "cell_type": "code",
   "execution_count": 2,
   "id": "9dd28eb5",
   "metadata": {},
   "outputs": [
    {
     "data": {
      "text/plain": [
       "<matplotlib.colorbar.Colorbar at 0x1c17e92c730>"
      ]
     },
     "execution_count": 2,
     "metadata": {},
     "output_type": "execute_result"
    },
    {
     "data": {
      "image/png": "[encoded data removed]",
      "text/plain": [
       "<Figure size 1440x1440 with 2 Axes>"
      ]
     },
     "metadata": {
      "needs_background": "light"
     },
     "output_type": "display_data"
    }
   ],
   "source": [
    "plt.figure(figsize=(20, 20))\n",
    "m = plt.imshow(data[:,:,:].sum(axis=-1), cmap=\"jet\")\n",
    "plt.colorbar(m)"
   ]
  },
  {
   "cell_type": "code",
   "execution_count": 3,
   "id": "226256a5",
   "metadata": {},
   "outputs": [
    {
     "data": {
      "text/plain": [
       "(37, 35)"
      ]
     },
     "execution_count": 3,
     "metadata": {},
     "output_type": "execute_result"
    }
   ],
   "source": [
    "np.unravel_index(data.sum(axis=-1).argmax(), data[:,:,0].shape)"
   ]
  },
  {
   "cell_type": "code",
   "execution_count": 4,
   "id": "dd32dc23",
   "metadata": {},
   "outputs": [
    {
     "name": "stdout",
     "output_type": "stream",
     "text": [
      "1.600000952\n"
     ]
    }
   ],
   "source": [
    "input_directions = np.zeros((n_directions, data_steps))\n",
    "print(t_start)\n",
    "for t in range(data_steps):\n",
    "    \n",
    "    t_real = t_start + t * (duration / data_steps)\n",
    "    \n",
    "    t_dif = t_real - directions[:,0]\n",
    "    t_dif_m = np.ma.masked_where(t_dif < 0, t_dif)\n",
    "    \n",
    "    idx = t_dif_m.argmin()\n",
    "\n",
    "    input_directions[int(directions[idx, 1]), t] = 6"
   ]
  },
  {
   "cell_type": "code",
   "execution_count": 5,
   "id": "51573dfd",
   "metadata": {},
   "outputs": [
    {
     "data": {
      "text/plain": [
       "array([[0., 0., 0., 0., 0., 0., 0., 0., 0., 0., 0., 0., 0., 0., 0., 0.,\n",
       "        0., 0., 0., 0., 0., 0., 0., 0., 0., 0., 0., 0., 0., 0., 0., 0.,\n",
       "        0., 0., 0., 0., 0., 0., 0., 0., 0., 0., 0., 0., 0., 0., 0., 0.,\n",
       "        0., 0.],\n",
       "       [0., 0., 0., 0., 0., 0., 0., 0., 0., 0., 0., 0., 0., 0., 0., 0.,\n",
       "        0., 0., 0., 0., 0., 0., 0., 0., 0., 0., 0., 0., 0., 0., 0., 0.,\n",
       "        0., 0., 0., 0., 0., 0., 0., 0., 0., 0., 0., 0., 0., 0., 0., 0.,\n",
       "        0., 0.],\n",
       "       [0., 0., 0., 0., 0., 0., 0., 0., 0., 0., 0., 0., 0., 0., 0., 0.,\n",
       "        0., 0., 0., 0., 0., 0., 0., 0., 0., 0., 0., 0., 0., 0., 0., 0.,\n",
       "        0., 0., 0., 0., 0., 0., 0., 0., 0., 0., 0., 0., 0., 0., 0., 0.,\n",
       "        0., 0.],\n",
       "       [0., 0., 0., 0., 0., 0., 0., 0., 0., 0., 0., 0., 0., 0., 0., 0.,\n",
       "        0., 0., 0., 0., 0., 0., 0., 0., 0., 0., 0., 0., 0., 0., 0., 0.,\n",
       "        0., 0., 0., 0., 0., 0., 0., 0., 0., 0., 0., 0., 0., 0., 0., 0.,\n",
       "        0., 0.],\n",
       "       [0., 0., 0., 0., 0., 0., 0., 0., 0., 0., 0., 0., 0., 0., 0., 0.,\n",
       "        0., 0., 0., 0., 0., 0., 0., 0., 0., 0., 0., 0., 0., 0., 0., 0.,\n",
       "        0., 0., 0., 0., 0., 0., 0., 0., 0., 0., 0., 0., 0., 0., 0., 0.,\n",
       "        0., 0.],\n",
       "       [0., 0., 0., 0., 0., 0., 0., 0., 0., 0., 0., 0., 0., 0., 0., 0.,\n",
       "        0., 0., 0., 0., 0., 0., 0., 0., 0., 0., 0., 0., 0., 0., 0., 0.,\n",
       "        0., 0., 0., 0., 0., 0., 0., 0., 0., 0., 0., 0., 0., 0., 0., 0.,\n",
       "        0., 0.],\n",
       "       [0., 0., 0., 0., 0., 0., 0., 0., 0., 0., 0., 0., 0., 0., 0., 0.,\n",
       "        0., 0., 0., 0., 0., 0., 0., 0., 0., 0., 0., 0., 0., 0., 0., 0.,\n",
       "        0., 0., 0., 0., 0., 0., 0., 0., 0., 0., 0., 0., 0., 0., 0., 0.,\n",
       "        0., 0.],\n",
       "       [0., 0., 0., 0., 0., 0., 0., 0., 0., 0., 0., 0., 0., 0., 0., 0.,\n",
       "        0., 0., 0., 0., 0., 0., 0., 0., 0., 0., 0., 0., 0., 0., 0., 0.,\n",
       "        0., 0., 0., 0., 0., 0., 0., 0., 0., 0., 0., 0., 0., 0., 0., 0.,\n",
       "        0., 0.],\n",
       "       [0., 0., 0., 0., 0., 0., 0., 0., 0., 0., 0., 0., 0., 0., 0., 0.,\n",
       "        0., 0., 0., 0., 0., 0., 0., 0., 0., 0., 0., 0., 0., 0., 0., 0.,\n",
       "        0., 0., 0., 0., 0., 0., 0., 0., 0., 0., 0., 0., 0., 0., 0., 0.,\n",
       "        0., 0.],\n",
       "       [0., 0., 0., 0., 0., 0., 0., 0., 0., 0., 0., 0., 0., 0., 0., 0.,\n",
       "        0., 0., 0., 0., 0., 0., 0., 0., 0., 0., 0., 0., 0., 0., 0., 0.,\n",
       "        0., 0., 0., 0., 0., 0., 0., 0., 0., 0., 0., 0., 0., 0., 0., 0.,\n",
       "        0., 0.],\n",
       "       [0., 0., 0., 0., 0., 0., 0., 0., 0., 0., 0., 0., 0., 0., 0., 0.,\n",
       "        0., 0., 0., 0., 0., 0., 0., 0., 0., 0., 0., 0., 0., 0., 0., 0.,\n",
       "        0., 0., 0., 0., 0., 0., 0., 0., 0., 0., 0., 0., 0., 6., 6., 6.,\n",
       "        6., 6.],\n",
       "       [6., 6., 6., 6., 6., 6., 6., 6., 6., 6., 6., 6., 6., 6., 6., 6.,\n",
       "        6., 6., 6., 6., 6., 6., 6., 6., 6., 6., 6., 6., 6., 6., 6., 6.,\n",
       "        6., 6., 6., 6., 6., 6., 6., 6., 6., 6., 6., 6., 6., 0., 0., 0.,\n",
       "        0., 0.],\n",
       "       [0., 0., 0., 0., 0., 0., 0., 0., 0., 0., 0., 0., 0., 0., 0., 0.,\n",
       "        0., 0., 0., 0., 0., 0., 0., 0., 0., 0., 0., 0., 0., 0., 0., 0.,\n",
       "        0., 0., 0., 0., 0., 0., 0., 0., 0., 0., 0., 0., 0., 0., 0., 0.,\n",
       "        0., 0.],\n",
       "       [0., 0., 0., 0., 0., 0., 0., 0., 0., 0., 0., 0., 0., 0., 0., 0.,\n",
       "        0., 0., 0., 0., 0., 0., 0., 0., 0., 0., 0., 0., 0., 0., 0., 0.,\n",
       "        0., 0., 0., 0., 0., 0., 0., 0., 0., 0., 0., 0., 0., 0., 0., 0.,\n",
       "        0., 0.],\n",
       "       [0., 0., 0., 0., 0., 0., 0., 0., 0., 0., 0., 0., 0., 0., 0., 0.,\n",
       "        0., 0., 0., 0., 0., 0., 0., 0., 0., 0., 0., 0., 0., 0., 0., 0.,\n",
       "        0., 0., 0., 0., 0., 0., 0., 0., 0., 0., 0., 0., 0., 0., 0., 0.,\n",
       "        0., 0.],\n",
       "       [0., 0., 0., 0., 0., 0., 0., 0., 0., 0., 0., 0., 0., 0., 0., 0.,\n",
       "        0., 0., 0., 0., 0., 0., 0., 0., 0., 0., 0., 0., 0., 0., 0., 0.,\n",
       "        0., 0., 0., 0., 0., 0., 0., 0., 0., 0., 0., 0., 0., 0., 0., 0.,\n",
       "        0., 0.]])"
      ]
     },
     "execution_count": 5,
     "metadata": {},
     "output_type": "execute_result"
    }
   ],
   "source": [
    "input_directions"
   ]
  },
  {
   "cell_type": "code",
   "execution_count": 6,
   "id": "6ca2132b",
   "metadata": {},
   "outputs": [],
   "source": [
    "u = data_u[\"Process_64\"][\"v\"]"
   ]
  },
  {
   "cell_type": "code",
   "execution_count": 7,
   "id": "c374e408",
   "metadata": {},
   "outputs": [
    {
     "name": "stdout",
     "output_type": "stream",
     "text": [
      "(0, 52)\n"
     ]
    },
    {
     "data": {
      "text/plain": [
       "3.276800000000001"
      ]
     },
     "execution_count": 7,
     "metadata": {},
     "output_type": "execute_result"
    },
    {
     "data": {
      "image/png": "[encoded data removed]",
      "text/plain": [
       "<Figure size 1440x1440 with 2 Axes>"
      ]
     },
     "metadata": {
      "needs_background": "light"
     },
     "output_type": "display_data"
    }
   ],
   "source": [
    "plt.figure(figsize=(20, 20))\n",
    "m = plt.imshow(u[-1,:,:], cmap=\"jet\")\n",
    "plt.colorbar(m)\n",
    "idx = np.unravel_index(u[-1,:,:].argmax(), u[0,:,:].shape)\n",
    "print(idx)\n",
    "u[-1,:,:].max()"
   ]
  },
  {
   "cell_type": "code",
   "execution_count": 8,
   "id": "676abd7b",
   "metadata": {},
   "outputs": [
    {
     "data": {
      "text/plain": [
       "[<matplotlib.lines.Line2D at 0x1c17eb2bfa0>]"
      ]
     },
     "execution_count": 8,
     "metadata": {},
     "output_type": "execute_result"
    },
    {
     "data": {
      "image/png": "[encoded data removed]",
      "text/plain": [
       "<Figure size 432x288 with 1 Axes>"
      ]
     },
     "metadata": {
      "needs_background": "light"
     },
     "output_type": "display_data"
    }
   ],
   "source": [
    "plt.plot(u[:,37 ,35])"
   ]
  },
  {
   "cell_type": "code",
   "execution_count": 9,
   "id": "c823d009",
   "metadata": {},
   "outputs": [
    {
     "data": {
      "text/plain": [
       "{'Process_64': {'v': array([[[0.00000000e+00, 0.00000000e+00, 0.00000000e+00, ...,\n",
       "           0.00000000e+00, 0.00000000e+00, 0.00000000e+00],\n",
       "          [0.00000000e+00, 0.00000000e+00, 0.00000000e+00, ...,\n",
       "           0.00000000e+00, 0.00000000e+00, 0.00000000e+00],\n",
       "          [0.00000000e+00, 0.00000000e+00, 0.00000000e+00, ...,\n",
       "           0.00000000e+00, 0.00000000e+00, 0.00000000e+00],\n",
       "          ...,\n",
       "          [0.00000000e+00, 0.00000000e+00, 0.00000000e+00, ...,\n",
       "           0.00000000e+00, 0.00000000e+00, 0.00000000e+00],\n",
       "          [0.00000000e+00, 0.00000000e+00, 0.00000000e+00, ...,\n",
       "           0.00000000e+00, 0.00000000e+00, 0.00000000e+00],\n",
       "          [0.00000000e+00, 0.00000000e+00, 0.00000000e+00, ...,\n",
       "           0.00000000e+00, 0.00000000e+00, 0.00000000e+00]],\n",
       "  \n",
       "         [[0.00000000e+00, 0.00000000e+00, 0.00000000e+00, ...,\n",
       "           0.00000000e+00, 0.00000000e+00, 0.00000000e+00],\n",
       "          [0.00000000e+00, 0.00000000e+00, 0.00000000e+00, ...,\n",
       "           0.00000000e+00, 0.00000000e+00, 0.00000000e+00],\n",
       "          [0.00000000e+00, 0.00000000e+00, 0.00000000e+00, ...,\n",
       "           0.00000000e+00, 0.00000000e+00, 0.00000000e+00],\n",
       "          ...,\n",
       "          [0.00000000e+00, 0.00000000e+00, 0.00000000e+00, ...,\n",
       "           0.00000000e+00, 0.00000000e+00, 0.00000000e+00],\n",
       "          [0.00000000e+00, 0.00000000e+00, 0.00000000e+00, ...,\n",
       "           0.00000000e+00, 0.00000000e+00, 0.00000000e+00],\n",
       "          [0.00000000e+00, 0.00000000e+00, 0.00000000e+00, ...,\n",
       "           0.00000000e+00, 0.00000000e+00, 0.00000000e+00]],\n",
       "  \n",
       "         [[0.00000000e+00, 0.00000000e+00, 0.00000000e+00, ...,\n",
       "           0.00000000e+00, 0.00000000e+00, 0.00000000e+00],\n",
       "          [0.00000000e+00, 0.00000000e+00, 0.00000000e+00, ...,\n",
       "           0.00000000e+00, 0.00000000e+00, 0.00000000e+00],\n",
       "          [0.00000000e+00, 0.00000000e+00, 0.00000000e+00, ...,\n",
       "           0.00000000e+00, 0.00000000e+00, 0.00000000e+00],\n",
       "          ...,\n",
       "          [0.00000000e+00, 0.00000000e+00, 0.00000000e+00, ...,\n",
       "           0.00000000e+00, 0.00000000e+00, 0.00000000e+00],\n",
       "          [0.00000000e+00, 0.00000000e+00, 0.00000000e+00, ...,\n",
       "           1.00000000e+01, 0.00000000e+00, 0.00000000e+00],\n",
       "          [0.00000000e+00, 0.00000000e+00, 0.00000000e+00, ...,\n",
       "           0.00000000e+00, 0.00000000e+00, 0.00000000e+00]],\n",
       "  \n",
       "         ...,\n",
       "  \n",
       "         [[0.00000000e+00, 0.00000000e+00, 0.00000000e+00, ...,\n",
       "           2.59614843e-03, 3.02231455e-02, 1.34217728e+00],\n",
       "          [5.07060240e-03, 1.06338240e-03, 0.00000000e+00, ...,\n",
       "           0.00000000e+00, 0.00000000e+00, 1.80143985e-01],\n",
       "          [0.00000000e+00, 0.00000000e+00, 0.00000000e+00, ...,\n",
       "           1.07374182e+00, 0.00000000e+00, 0.00000000e+00],\n",
       "          ...,\n",
       "          [0.00000000e+00, 0.00000000e+00, 0.00000000e+00, ...,\n",
       "           0.00000000e+00, 0.00000000e+00, 0.00000000e+00],\n",
       "          [0.00000000e+00, 0.00000000e+00, 0.00000000e+00, ...,\n",
       "           0.00000000e+00, 0.00000000e+00, 0.00000000e+00],\n",
       "          [0.00000000e+00, 0.00000000e+00, 0.00000000e+00, ...,\n",
       "           6.33825300e-03, 0.00000000e+00, 0.00000000e+00]],\n",
       "  \n",
       "         [[0.00000000e+00, 0.00000000e+00, 0.00000000e+00, ...,\n",
       "           2.07691874e-03, 2.41785164e-02, 1.07374182e+00],\n",
       "          [4.05648192e-03, 8.50705917e-04, 0.00000000e+00, ...,\n",
       "           0.00000000e+00, 0.00000000e+00, 1.44115188e-01],\n",
       "          [0.00000000e+00, 0.00000000e+00, 0.00000000e+00, ...,\n",
       "           8.58993459e-01, 0.00000000e+00, 0.00000000e+00],\n",
       "          ...,\n",
       "          [0.00000000e+00, 0.00000000e+00, 0.00000000e+00, ...,\n",
       "           0.00000000e+00, 0.00000000e+00, 0.00000000e+00],\n",
       "          [0.00000000e+00, 0.00000000e+00, 0.00000000e+00, ...,\n",
       "           0.00000000e+00, 0.00000000e+00, 0.00000000e+00],\n",
       "          [0.00000000e+00, 0.00000000e+00, 0.00000000e+00, ...,\n",
       "           5.07060240e-03, 0.00000000e+00, 0.00000000e+00]],\n",
       "  \n",
       "         [[0.00000000e+00, 0.00000000e+00, 0.00000000e+00, ...,\n",
       "           1.66153499e-03, 0.00000000e+00, 0.00000000e+00],\n",
       "          [3.24518554e-03, 6.80564734e-04, 0.00000000e+00, ...,\n",
       "           0.00000000e+00, 0.00000000e+00, 1.15292150e-01],\n",
       "          [0.00000000e+00, 0.00000000e+00, 0.00000000e+00, ...,\n",
       "           6.87194767e-01, 0.00000000e+00, 0.00000000e+00],\n",
       "          ...,\n",
       "          [0.00000000e+00, 0.00000000e+00, 0.00000000e+00, ...,\n",
       "           0.00000000e+00, 0.00000000e+00, 0.00000000e+00],\n",
       "          [0.00000000e+00, 0.00000000e+00, 0.00000000e+00, ...,\n",
       "           0.00000000e+00, 0.00000000e+00, 0.00000000e+00],\n",
       "          [0.00000000e+00, 0.00000000e+00, 0.00000000e+00, ...,\n",
       "           4.05648192e-03, 0.00000000e+00, 0.00000000e+00]]])}}"
      ]
     },
     "execution_count": 9,
     "metadata": {},
     "output_type": "execute_result"
    }
   ],
   "source": [
    "data_u"
   ]
  },
  {
   "cell_type": "code",
   "execution_count": 10,
   "id": "bae128d5",
   "metadata": {},
   "outputs": [
    {
     "data": {
      "text/plain": [
       "(50, 57, 59)"
      ]
     },
     "execution_count": 10,
     "metadata": {},
     "output_type": "execute_result"
    }
   ],
   "source": [
    "u.shape"
   ]
  },
  {
   "cell_type": "code",
   "execution_count": null,
   "id": "6d058140",
   "metadata": {},
   "outputs": [],
   "source": []
  }
 ],
 "metadata": {
  "kernelspec": {
   "display_name": "Python 3 (ipykernel)",
   "language": "python",
   "name": "python3"
  },
  "language_info": {
   "codemirror_mode": {
    "name": "ipython",
    "version": 3
   },
   "file_extension": ".py",
   "mimetype": "text/x-python",
   "name": "python",
   "nbconvert_exporter": "python",
   "pygments_lexer": "ipython3",
   "version": "3.8.10"
  }
 },
 "nbformat": 4,
 "nbformat_minor": 5
}
