{
 "cells": [
  {
   "cell_type": "code",
   "execution_count": 109,
   "id": "e4a69397",
   "metadata": {},
   "outputs": [],
   "source": [
    "import numpy as np\n",
    "import matplotlib.pyplot as plt\n",
    "import scipy.sparse"
   ]
  },
  {
   "cell_type": "code",
   "execution_count": 110,
   "id": "edd77bcd",
   "metadata": {},
   "outputs": [],
   "source": [
    "path = \"C:/Users/schiavaz/lava-nc/depth/\"\n",
    "dataset = \"data/esim_data/curvy/\""
   ]
  },
  {
   "cell_type": "code",
   "execution_count": 111,
   "id": "3a1c6dbd",
   "metadata": {},
   "outputs": [
    {
     "data": {
      "text/plain": [
       "(1572160, 4)"
      ]
     },
     "execution_count": 111,
     "metadata": {},
     "output_type": "execute_result"
    }
   ],
   "source": [
    "events = np.loadtxt(path + dataset + \"events.txt\")\n",
    "events.shape"
   ]
  },
  {
   "cell_type": "code",
   "execution_count": 112,
   "id": "6fd2ba53",
   "metadata": {},
   "outputs": [],
   "source": [
    "    def gen_input_data(events, shape, timesteps):\n",
    "        t_start = events[0, 0]\n",
    "        duration = events[-1, 0] - events[0, 0]\n",
    "\n",
    "        events_buffer = np.zeros((shape[0], shape[1], timesteps), dtype=int)\n",
    "        for e in events:\n",
    "            x = int(e[1])\n",
    "            y = int(e[2])\n",
    "\n",
    "            time = int((float(e[0]) - t_start) / duration * timesteps) - 1\n",
    "\n",
    "            pol = e[3]\n",
    "            if e[3] == 1:\n",
    "                pol = 1\n",
    "            if e[3] == 0:\n",
    "                pol = -1\n",
    "\n",
    "            events_buffer[y, x, time] = pol\n",
    "        return events_buffer"
   ]
  },
  {
   "cell_type": "code",
   "execution_count": 127,
   "id": "9c286a57",
   "metadata": {},
   "outputs": [],
   "source": [
    "shape = (180, 240)\n",
    "sequence_duration = events[-1, 0] - events[0, 0]\n",
    "timesteps = int(5000 * sequence_duration)"
   ]
  },
  {
   "cell_type": "code",
   "execution_count": 128,
   "id": "ff402923",
   "metadata": {},
   "outputs": [],
   "source": [
    "events_buffer = gen_input_data(events, shape, timesteps)"
   ]
  },
  {
   "cell_type": "code",
   "execution_count": 129,
   "id": "88de8ba3",
   "metadata": {},
   "outputs": [
    {
     "data": {
      "text/plain": [
       "(18728, 240, 180)"
      ]
     },
     "execution_count": 129,
     "metadata": {},
     "output_type": "execute_result"
    }
   ],
   "source": [
    "events_buffer = events_buffer.transpose()\n",
    "events_buffer.shape"
   ]
  },
  {
   "cell_type": "code",
   "execution_count": 130,
   "id": "b9b086f6",
   "metadata": {},
   "outputs": [
    {
     "data": {
      "text/plain": [
       "array([3.47698800e-03, 3.67700160e-03, 3.87701521e-03, ...,\n",
       "       3.74873173e+00, 3.74893174e+00, 3.74913176e+00])"
      ]
     },
     "execution_count": 130,
     "metadata": {},
     "output_type": "execute_result"
    }
   ],
   "source": [
    "times = np.linspace(events[0, 0], events[-1, 0], timesteps)\n",
    "times"
   ]
  },
  {
   "cell_type": "code",
   "execution_count": 131,
   "id": "aeee1698",
   "metadata": {},
   "outputs": [],
   "source": [
    "new_events = []\n",
    "tid = 0\n",
    "for ef in events_buffer:\n",
    "    efs = scipy.sparse.csr_matrix(ef)\n",
    "    i, j, v = scipy.sparse.find(efs)\n",
    "    if i.size == 0:\n",
    "        continue\n",
    "    for idx, l in enumerate(i):\n",
    "        pol = v[idx] if v[idx] == 1 else 0\n",
    "        new_events.append([times[tid], int(i[idx]), int(j[idx]), int(pol)])\n",
    "    tid += 1"
   ]
  },
  {
   "cell_type": "code",
   "execution_count": 132,
   "id": "e4cb3a76",
   "metadata": {},
   "outputs": [],
   "source": [
    "new_events = np.array(new_events)"
   ]
  },
  {
   "cell_type": "code",
   "execution_count": 133,
   "id": "9ff95bbc",
   "metadata": {},
   "outputs": [
    {
     "data": {
      "text/plain": [
       "(1572160, 4)"
      ]
     },
     "execution_count": 133,
     "metadata": {},
     "output_type": "execute_result"
    }
   ],
   "source": [
    "new_events.shape"
   ]
  },
  {
   "cell_type": "code",
   "execution_count": 134,
   "id": "d903a21b",
   "metadata": {},
   "outputs": [
    {
     "data": {
      "text/plain": [
       "array([[3.47698800e-03, 1.65000000e+02, 1.19000000e+02, 0.00000000e+00],\n",
       "       [3.47698800e-03, 2.27000000e+02, 1.22000000e+02, 0.00000000e+00],\n",
       "       [3.47698800e-03, 2.28000000e+02, 1.22000000e+02, 0.00000000e+00],\n",
       "       [3.67700160e-03, 2.01000000e+02, 1.18000000e+02, 0.00000000e+00],\n",
       "       [3.67700160e-03, 2.09000000e+02, 1.20000000e+02, 1.00000000e+00],\n",
       "       [3.67700160e-03, 2.19000000e+02, 1.77000000e+02, 0.00000000e+00],\n",
       "       [3.87701521e-03, 1.71000000e+02, 1.14000000e+02, 1.00000000e+00],\n",
       "       [3.87701521e-03, 1.77000000e+02, 1.15000000e+02, 1.00000000e+00],\n",
       "       [3.87701521e-03, 2.00000000e+00, 1.61000000e+02, 0.00000000e+00],\n",
       "       [3.87701521e-03, 3.00000000e+00, 1.61000000e+02, 0.00000000e+00],\n",
       "       [3.87701521e-03, 4.00000000e+00, 1.61000000e+02, 0.00000000e+00],\n",
       "       [3.87701521e-03, 5.00000000e+00, 1.61000000e+02, 0.00000000e+00],\n",
       "       [3.87701521e-03, 6.00000000e+00, 1.61000000e+02, 0.00000000e+00],\n",
       "       [3.87701521e-03, 7.00000000e+00, 1.61000000e+02, 0.00000000e+00],\n",
       "       [3.87701521e-03, 8.00000000e+00, 1.61000000e+02, 0.00000000e+00],\n",
       "       [3.87701521e-03, 2.11000000e+02, 1.70000000e+02, 0.00000000e+00],\n",
       "       [3.87701521e-03, 2.18000000e+02, 1.76000000e+02, 0.00000000e+00],\n",
       "       [3.87701521e-03, 1.59000000e+02, 1.77000000e+02, 1.00000000e+00],\n",
       "       [3.87701521e-03, 2.20000000e+02, 1.78000000e+02, 0.00000000e+00],\n",
       "       [4.07702881e-03, 0.00000000e+00, 1.61000000e+02, 0.00000000e+00],\n",
       "       [4.07702881e-03, 1.00000000e+00, 1.61000000e+02, 0.00000000e+00],\n",
       "       [4.07702881e-03, 6.20000000e+01, 1.61000000e+02, 0.00000000e+00],\n",
       "       [4.07702881e-03, 6.30000000e+01, 1.61000000e+02, 0.00000000e+00],\n",
       "       [4.07702881e-03, 6.40000000e+01, 1.61000000e+02, 0.00000000e+00],\n",
       "       [4.07702881e-03, 6.50000000e+01, 1.61000000e+02, 0.00000000e+00],\n",
       "       [4.07702881e-03, 6.60000000e+01, 1.61000000e+02, 0.00000000e+00],\n",
       "       [4.07702881e-03, 6.70000000e+01, 1.61000000e+02, 0.00000000e+00],\n",
       "       [4.07702881e-03, 6.80000000e+01, 1.61000000e+02, 0.00000000e+00],\n",
       "       [4.07702881e-03, 6.90000000e+01, 1.61000000e+02, 0.00000000e+00],\n",
       "       [4.07702881e-03, 7.00000000e+01, 1.61000000e+02, 0.00000000e+00],\n",
       "       [4.07702881e-03, 7.10000000e+01, 1.61000000e+02, 0.00000000e+00],\n",
       "       [4.07702881e-03, 7.20000000e+01, 1.61000000e+02, 0.00000000e+00],\n",
       "       [4.07702881e-03, 7.30000000e+01, 1.61000000e+02, 0.00000000e+00],\n",
       "       [4.07702881e-03, 7.40000000e+01, 1.61000000e+02, 0.00000000e+00],\n",
       "       [4.07702881e-03, 7.50000000e+01, 1.61000000e+02, 0.00000000e+00],\n",
       "       [4.07702881e-03, 7.60000000e+01, 1.61000000e+02, 0.00000000e+00],\n",
       "       [4.07702881e-03, 7.70000000e+01, 1.61000000e+02, 0.00000000e+00],\n",
       "       [4.07702881e-03, 7.80000000e+01, 1.61000000e+02, 0.00000000e+00],\n",
       "       [4.07702881e-03, 7.90000000e+01, 1.61000000e+02, 0.00000000e+00],\n",
       "       [4.07702881e-03, 8.00000000e+01, 1.61000000e+02, 0.00000000e+00],\n",
       "       [4.07702881e-03, 8.10000000e+01, 1.61000000e+02, 0.00000000e+00],\n",
       "       [4.07702881e-03, 8.20000000e+01, 1.61000000e+02, 0.00000000e+00],\n",
       "       [4.07702881e-03, 8.30000000e+01, 1.61000000e+02, 0.00000000e+00],\n",
       "       [4.07702881e-03, 8.40000000e+01, 1.61000000e+02, 0.00000000e+00],\n",
       "       [4.07702881e-03, 8.50000000e+01, 1.61000000e+02, 0.00000000e+00],\n",
       "       [4.07702881e-03, 8.60000000e+01, 1.61000000e+02, 0.00000000e+00],\n",
       "       [4.07702881e-03, 8.70000000e+01, 1.61000000e+02, 0.00000000e+00],\n",
       "       [4.07702881e-03, 8.80000000e+01, 1.61000000e+02, 0.00000000e+00],\n",
       "       [4.07702881e-03, 8.90000000e+01, 1.61000000e+02, 0.00000000e+00]])"
      ]
     },
     "execution_count": 134,
     "metadata": {},
     "output_type": "execute_result"
    }
   ],
   "source": [
    "new_events[1:50]"
   ]
  },
  {
   "cell_type": "code",
   "execution_count": 135,
   "id": "f5b57a88",
   "metadata": {},
   "outputs": [],
   "source": [
    "np.savetxt(path + dataset + \"new_events.txt\", new_events, fmt=[\"%.9f\", \"%d\", \"%d\", \"%d\"])"
   ]
  },
  {
   "cell_type": "code",
   "execution_count": 106,
   "id": "3c6491da",
   "metadata": {},
   "outputs": [
    {
     "data": {
      "text/plain": [
       "<matplotlib.image.AxesImage at 0x212f2acd2e0>"
      ]
     },
     "execution_count": 106,
     "metadata": {},
     "output_type": "execute_result"
    },
    {
     "data": {
      "image/png": "[encoded data removed]",
      "text/plain": [
       "<Figure size 432x288 with 1 Axes>"
      ]
     },
     "metadata": {
      "needs_background": "light"
     },
     "output_type": "display_data"
    }
   ],
   "source": [
    "plt.imshow(events_buffer[100])"
   ]
  },
  {
   "cell_type": "code",
   "execution_count": null,
   "id": "a3cc7aa0",
   "metadata": {},
   "outputs": [],
   "source": []
  }
 ],
 "metadata": {
  "kernelspec": {
   "display_name": "Python 3 (ipykernel)",
   "language": "python",
   "name": "python3"
  },
  "language_info": {
   "codemirror_mode": {
    "name": "ipython",
    "version": 3
   },
   "file_extension": ".py",
   "mimetype": "text/x-python",
   "name": "python",
   "nbconvert_exporter": "python",
   "pygments_lexer": "ipython3",
   "version": "3.8.10"
  }
 },
 "nbformat": 4,
 "nbformat_minor": 5
}
