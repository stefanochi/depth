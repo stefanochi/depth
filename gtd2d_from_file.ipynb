{
 "cells": [
  {
   "cell_type": "code",
   "execution_count": 1,
   "id": "c3e10835",
   "metadata": {
    "scrolled": true
   },
   "outputs": [
    {
     "name": "stdout",
     "output_type": "stream",
     "text": [
      "Jupyter environment detected. Enabling Open3D WebVisualizer.\n",
      "[Open3D INFO] WebRTC GUI backend enabled.\n",
      "[Open3D INFO] WebRTCWindowSystem: HTTP handshake server disabled.\n"
     ]
    }
   ],
   "source": [
    "%load_ext autoreload\n",
    "%autoreload 2\n",
    "# from gtd2d import gtd2d\n",
    "import numpy as np\n",
    "import matplotlib.pyplot as plt\n",
    "from scipy.spatial.transform import Rotation as R\n",
    "import open3d as o3d\n",
    "import matplotlib\n",
    "import matplotlib.cm as cm\n",
    "from tqdm import tqdm\n",
    "import pickle\n",
    "import scipy.sparse"
   ]
  },
  {
   "cell_type": "code",
   "execution_count": 48,
   "id": "80f48b65",
   "metadata": {},
   "outputs": [],
   "source": [
    "path = \"C:/Users/schiavaz/lava-nc/depth/\"\n",
    "dataset = \"data/esim_data/curvy/\""
   ]
  },
  {
   "cell_type": "code",
   "execution_count": 49,
   "id": "a6d5d9c5",
   "metadata": {
    "scrolled": true
   },
   "outputs": [],
   "source": [
    "with open(path + dataset + 'results/result.pkl', 'rb') as f:\n",
    "    out = pickle.load(f)"
   ]
  },
  {
   "cell_type": "code",
   "execution_count": 50,
   "id": "f78315df",
   "metadata": {},
   "outputs": [],
   "source": [
    "# runner.vel_input_buffer"
   ]
  },
  {
   "cell_type": "code",
   "execution_count": 51,
   "id": "88cafac8",
   "metadata": {},
   "outputs": [],
   "source": [
    "# out = runner.run()"
   ]
  },
  {
   "cell_type": "code",
   "execution_count": 52,
   "id": "a24379c9",
   "metadata": {},
   "outputs": [],
   "source": [
    "raw_depths_sparse = out[\"raw_depths\"]\n",
    "mean_depths_sparse = out[\"mean_depths\"]"
   ]
  },
  {
   "cell_type": "code",
   "execution_count": 53,
   "id": "497e099e",
   "metadata": {},
   "outputs": [
    {
     "data": {
      "text/plain": [
       "(2999,)"
      ]
     },
     "execution_count": 53,
     "metadata": {},
     "output_type": "execute_result"
    }
   ],
   "source": [
    "out[\"times\"].shape"
   ]
  },
  {
   "cell_type": "code",
   "execution_count": 54,
   "id": "6cb253b1",
   "metadata": {},
   "outputs": [],
   "source": [
    "# raw_depths = raw_depths_sparse \n",
    "# mean_depths = mean_depths_sparse "
   ]
  },
  {
   "cell_type": "code",
   "execution_count": 55,
   "id": "48d18ef2",
   "metadata": {},
   "outputs": [],
   "source": [
    "raw_depths = np.array([s.toarray() for s in raw_depths_sparse]) \n",
    "mean_depths = np.array([s.toarray() for s in mean_depths_sparse]) "
   ]
  },
  {
   "cell_type": "code",
   "execution_count": 56,
   "id": "a081d556",
   "metadata": {
    "scrolled": false
   },
   "outputs": [
    {
     "data": {
      "image/png": "[encoded data removed]",
      "text/plain": [
       "<Figure size 720x720 with 1 Axes>"
      ]
     },
     "metadata": {
      "needs_background": "light"
     },
     "output_type": "display_data"
    }
   ],
   "source": [
    "plt.figure(figsize=(10, 10))\n",
    "m = plt.imshow(raw_depths[200:240].sum(axis=0), interpolation=\"none\", cmap=\"jet_r\", vmin=0, vmax=3)\n",
    "#plt.colorbar(m)\n",
    "# print(out[\"times\"][2000])"
   ]
  },
  {
   "cell_type": "code",
   "execution_count": 57,
   "id": "e1faa897",
   "metadata": {},
   "outputs": [
    {
     "data": {
      "image/png": "[encoded data removed]",
      "text/plain": [
       "<Figure size 432x288 with 1 Axes>"
      ]
     },
     "metadata": {
      "needs_background": "light"
     },
     "output_type": "display_data"
    }
   ],
   "source": [
    "plt.hist(raw_depths.flatten(), 100, range=(0.001, 3));"
   ]
  },
  {
   "cell_type": "code",
   "execution_count": 58,
   "id": "e6ab94e1",
   "metadata": {},
   "outputs": [
    {
     "data": {
      "image/png": "[encoded data removed]",
      "text/plain": [
       "<Figure size 432x288 with 1 Axes>"
      ]
     },
     "metadata": {
      "needs_background": "light"
     },
     "output_type": "display_data"
    }
   ],
   "source": [
    "plt.hist(mean_depths.flatten(), 100, range=(0.0001, 5));"
   ]
  },
  {
   "cell_type": "code",
   "execution_count": 59,
   "id": "31d8829e",
   "metadata": {},
   "outputs": [
    {
     "data": {
      "text/plain": [
       "array([[[0., 0., 0., ..., 0., 0., 0.],\n",
       "        [0., 0., 0., ..., 0., 0., 0.],\n",
       "        [0., 0., 0., ..., 0., 0., 0.],\n",
       "        ...,\n",
       "        [0., 0., 0., ..., 0., 0., 0.],\n",
       "        [0., 0., 0., ..., 0., 0., 0.],\n",
       "        [0., 0., 0., ..., 0., 0., 0.]],\n",
       "\n",
       "       [[0., 0., 0., ..., 0., 0., 0.],\n",
       "        [0., 0., 0., ..., 0., 0., 0.],\n",
       "        [0., 0., 0., ..., 0., 0., 0.],\n",
       "        ...,\n",
       "        [0., 0., 0., ..., 0., 0., 0.],\n",
       "        [0., 0., 0., ..., 0., 0., 0.],\n",
       "        [0., 0., 0., ..., 0., 0., 0.]],\n",
       "\n",
       "       [[0., 0., 0., ..., 0., 0., 0.],\n",
       "        [0., 0., 0., ..., 0., 0., 0.],\n",
       "        [0., 0., 0., ..., 0., 0., 0.],\n",
       "        ...,\n",
       "        [0., 0., 0., ..., 0., 0., 0.],\n",
       "        [0., 0., 0., ..., 0., 0., 0.],\n",
       "        [0., 0., 0., ..., 0., 0., 0.]],\n",
       "\n",
       "       ...,\n",
       "\n",
       "       [[0., 0., 0., ..., 0., 0., 0.],\n",
       "        [0., 0., 0., ..., 0., 0., 0.],\n",
       "        [0., 0., 0., ..., 0., 0., 0.],\n",
       "        ...,\n",
       "        [0., 0., 0., ..., 0., 0., 0.],\n",
       "        [0., 0., 0., ..., 0., 0., 0.],\n",
       "        [0., 0., 0., ..., 0., 0., 0.]],\n",
       "\n",
       "       [[0., 0., 0., ..., 0., 0., 0.],\n",
       "        [0., 0., 0., ..., 0., 0., 0.],\n",
       "        [0., 0., 0., ..., 0., 0., 0.],\n",
       "        ...,\n",
       "        [0., 0., 0., ..., 0., 0., 0.],\n",
       "        [0., 0., 0., ..., 0., 0., 0.],\n",
       "        [0., 0., 0., ..., 0., 0., 0.]],\n",
       "\n",
       "       [[0., 0., 0., ..., 0., 0., 0.],\n",
       "        [0., 0., 0., ..., 0., 0., 0.],\n",
       "        [0., 0., 0., ..., 0., 0., 0.],\n",
       "        ...,\n",
       "        [0., 0., 0., ..., 0., 0., 0.],\n",
       "        [0., 0., 0., ..., 0., 0., 0.],\n",
       "        [0., 0., 0., ..., 0., 0., 0.]]])"
      ]
     },
     "execution_count": 59,
     "metadata": {},
     "output_type": "execute_result"
    }
   ],
   "source": [
    "mean_depths"
   ]
  },
  {
   "cell_type": "code",
   "execution_count": 60,
   "id": "dc197afc",
   "metadata": {},
   "outputs": [
    {
     "ename": "NameError",
     "evalue": "name 'flow_u' is not defined",
     "output_type": "error",
     "traceback": [
      "\u001b[1;31m---------------------------------------------------------------------------\u001b[0m",
      "\u001b[1;31mNameError\u001b[0m                                 Traceback (most recent call last)",
      "\u001b[1;32m~\\AppData\\Local\\Temp/ipykernel_17812/2578768214.py\u001b[0m in \u001b[0;36m<module>\u001b[1;34m\u001b[0m\n\u001b[0;32m      1\u001b[0m \u001b[0midx\u001b[0m \u001b[1;33m=\u001b[0m \u001b[1;36m5\u001b[0m\u001b[1;33m\u001b[0m\u001b[1;33m\u001b[0m\u001b[0m\n\u001b[1;32m----> 2\u001b[1;33m \u001b[0mU\u001b[0m \u001b[1;33m=\u001b[0m \u001b[0mflow_u\u001b[0m\u001b[1;33m[\u001b[0m\u001b[0midx\u001b[0m\u001b[1;33m:\u001b[0m\u001b[0midx\u001b[0m\u001b[1;33m+\u001b[0m\u001b[1;36m5\u001b[0m\u001b[1;33m]\u001b[0m\u001b[1;33m.\u001b[0m\u001b[0msum\u001b[0m\u001b[1;33m(\u001b[0m\u001b[0maxis\u001b[0m\u001b[1;33m=\u001b[0m\u001b[1;36m0\u001b[0m\u001b[1;33m)\u001b[0m\u001b[1;33m\u001b[0m\u001b[1;33m\u001b[0m\u001b[0m\n\u001b[0m\u001b[0;32m      3\u001b[0m \u001b[0mV\u001b[0m \u001b[1;33m=\u001b[0m \u001b[0mflow_v\u001b[0m\u001b[1;33m[\u001b[0m\u001b[0midx\u001b[0m\u001b[1;33m:\u001b[0m\u001b[0midx\u001b[0m\u001b[1;33m+\u001b[0m\u001b[1;36m5\u001b[0m\u001b[1;33m]\u001b[0m\u001b[1;33m.\u001b[0m\u001b[0msum\u001b[0m\u001b[1;33m(\u001b[0m\u001b[0maxis\u001b[0m\u001b[1;33m=\u001b[0m\u001b[1;36m0\u001b[0m\u001b[1;33m)\u001b[0m\u001b[1;33m\u001b[0m\u001b[1;33m\u001b[0m\u001b[0m\n\u001b[0;32m      4\u001b[0m \u001b[0mm\u001b[0m \u001b[1;33m=\u001b[0m \u001b[0mnp\u001b[0m\u001b[1;33m.\u001b[0m\u001b[0msqrt\u001b[0m\u001b[1;33m(\u001b[0m\u001b[0mU\u001b[0m\u001b[1;33m**\u001b[0m\u001b[1;36m2\u001b[0m \u001b[1;33m+\u001b[0m \u001b[0mV\u001b[0m\u001b[1;33m**\u001b[0m\u001b[1;36m2\u001b[0m\u001b[1;33m)\u001b[0m\u001b[1;33m\u001b[0m\u001b[1;33m\u001b[0m\u001b[0m\n",
      "\u001b[1;31mNameError\u001b[0m: name 'flow_u' is not defined"
     ]
    }
   ],
   "source": [
    "idx = 5\n",
    "U = flow_u[idx:idx+5].sum(axis=0)\n",
    "V = flow_v[idx:idx+5].sum(axis=0)\n",
    "m = np.sqrt(U**2 + V**2)"
   ]
  },
  {
   "cell_type": "code",
   "execution_count": null,
   "id": "9b41b15b",
   "metadata": {},
   "outputs": [],
   "source": [
    "%matplotlib inline\n",
    "plt.figure(figsize=(10, 10))\n",
    "plt.quiver(U[::1, ::1], V[::1, ::1], m[::1, ::1], cmap=\"jet_r\")\n",
    "plt.gca().invert_yaxis()"
   ]
  },
  {
   "cell_type": "code",
   "execution_count": null,
   "id": "130eb4e5",
   "metadata": {},
   "outputs": [],
   "source": [
    "m = plt.imshow(U, interpolation=\"none\")\n",
    "plt.colorbar(m)"
   ]
  },
  {
   "cell_type": "code",
   "execution_count": null,
   "id": "1f054ae9",
   "metadata": {},
   "outputs": [],
   "source": [
    "poses = np.loadtxt(path + dataset + \"groundtruth.txt\")\n",
    "poses[:, [1, 2, 3]] = poses[:, [2, 3, 1]]\n",
    "calib = np.loadtxt(path + dataset + \"calib.txt\")\n",
    "# calib[0] = 200\n",
    "# calib[1] = 200\n",
    "# calib[2] = 120\n",
    "# calib[3] = 90\n",
    "calib = calib / 1"
   ]
  },
  {
   "cell_type": "code",
   "execution_count": 68,
   "id": "ce40cbdc",
   "metadata": {},
   "outputs": [],
   "source": [
    "depths = raw_depths[::10]\n",
    "times = out[\"times\"][::10]"
   ]
  },
  {
   "cell_type": "code",
   "execution_count": 69,
   "id": "791b09ee",
   "metadata": {},
   "outputs": [],
   "source": [
    "def _image2pointcloud(d, v_range=None):\n",
    "    points = []\n",
    "    for x in range(d.shape[1]):\n",
    "        for y in range(d.shape[0]):\n",
    "            if np.isnan(d[y, x]):\n",
    "                continue\n",
    "            if v_range != None:\n",
    "                if v_range[0] > d[y, x] or d[y, x] > v_range[1]:\n",
    "                    continue\n",
    "            points.append([x, y, d[y, x]])\n",
    "    return np.array(points)"
   ]
  },
  {
   "cell_type": "code",
   "execution_count": 108,
   "id": "a9d4290e",
   "metadata": {},
   "outputs": [],
   "source": [
    "def project3d(points, calib, pose):\n",
    "    K = np.array([\n",
    "        [calib[0], 0, calib[2]],\n",
    "        [0, calib[1], calib[3]],\n",
    "        [0, 0, 1]\n",
    "    ])\n",
    "\n",
    "    t = pose[1:4].reshape(3, 1)\n",
    "    q = pose[4:]\n",
    "\n",
    "    r = R.from_quat(q)\n",
    "    r_m = r.as_matrix()\n",
    "\n",
    "    K_b = np.block([\n",
    "        [K, np.zeros((3, 1))],\n",
    "        [np.zeros((1, 3)), 1]\n",
    "    ])\n",
    "    rt_b = np.block([\n",
    "        [r_m, t],\n",
    "        [np.zeros((1, 3)), 1]\n",
    "    ])\n",
    "\n",
    "    proj = []\n",
    "    points = points[points[:,2] != 0.0]\n",
    "    if points.size == 0:\n",
    "        return np.array([])\n",
    "    tmp = points[:, 2]\n",
    "    a = np.ones(points.shape[0]) / points[:, 2]\n",
    "    points = np.c_[points[:, :2], np.ones(points.shape[0])]\n",
    "    points = np.c_[points, a]\n",
    "    points = points.transpose()\n",
    "    \n",
    "    proj = tmp * (np.linalg.inv(K_b @ rt_b) @ points)\n",
    "#     for p in points:\n",
    "#         if p[2] == 0:\n",
    "#             continue\n",
    "#         po = np.array([p[0], p[1], 1, 1 / p[2]])\n",
    "#         test = p[2] * np.linalg.inv(K_b @ rt_b) @ po\n",
    "#         proj.append(test.transpose())\n",
    "\n",
    "#     proj = np.array(proj)\n",
    "    proj = proj.transpose()\n",
    "    return proj"
   ]
  },
  {
   "cell_type": "code",
   "execution_count": 109,
   "id": "debdab03",
   "metadata": {},
   "outputs": [
    {
     "name": "stderr",
     "output_type": "stream",
     "text": [
      "100%|████████████████████████████████████████████████████████████████████████████████| 300/300 [00:31<00:00,  9.56it/s]\n"
     ]
    }
   ],
   "source": [
    "projected_points = np.zeros((1, 4))\n",
    "ps = []\n",
    "p_init = poses[0]\n",
    "for i, d in enumerate(tqdm(depths)):\n",
    "    points = _image2pointcloud(d)\n",
    "\n",
    "    idx = np.searchsorted(poses[:, 0], times[i])\n",
    "#     print(times[i])\n",
    "    p0 = poses[idx - 1]\n",
    "    p1 = poses[idx]\n",
    "    y = (times[i] - p0[0]) / (p1[0] - p0[0])\n",
    "    p = (p0 * (1 - y) + p1 * (y))\n",
    "    p[1:4] = p[1:4].reshape(1, 3) @ np.diag([-1, 1, 1])\n",
    "    #p = poses[0]\n",
    "#     print(\"p0: {},\\np1:{},\\np:{}\".format(p0[:4], p1[:4], p[:4]))\n",
    "    ps.append([p[2], p[3], p[1]])\n",
    "    \n",
    "    proj = project3d(points, calib, p)\n",
    "    if proj.size == 0:\n",
    "        continue\n",
    "    projected_points = np.concatenate((projected_points, proj))"
   ]
  },
  {
   "cell_type": "code",
   "execution_count": 110,
   "id": "d647a1ea",
   "metadata": {},
   "outputs": [],
   "source": [
    "def points_to_open3d_pointcloud(points, cmap=\"jet_r\", z=2):\n",
    "\n",
    "    pcd = o3d.geometry.PointCloud()\n",
    "    pcd.points = o3d.utility.Vector3dVector(points)\n",
    "\n",
    "    minima = min(points[:, z])\n",
    "    maxima = max(points[:, z])\n",
    "    print(minima)\n",
    "    print(maxima)\n",
    "    print(\"---\")\n",
    "\n",
    "    norm = matplotlib.colors.Normalize(vmin=minima, vmax=maxima, clip=True)\n",
    "    mapper = cm.ScalarMappable(norm=norm, cmap=cmap)\n",
    "\n",
    "    colors = mapper.to_rgba(points[:, z])[:,:3]\n",
    "    print(colors.shape)\n",
    "\n",
    "    pcd.colors = o3d.utility.Vector3dVector(colors)\n",
    "\n",
    "    return pcd"
   ]
  },
  {
   "cell_type": "code",
   "execution_count": 111,
   "id": "28e258e7",
   "metadata": {},
   "outputs": [
    {
     "data": {
      "text/plain": [
       "array([[ 0.        ,  0.        ,  0.        ,  0.        ],\n",
       "       [ 1.29495254,  2.25267421,  0.01172156,  1.        ],\n",
       "       [ 1.31016747,  2.25267422, -0.06142716,  1.        ],\n",
       "       ...,\n",
       "       [ 1.69283817,  1.85294471, -0.76176523,  1.        ],\n",
       "       [ 1.70468201,  1.82093434, -0.77651302,  1.        ],\n",
       "       [ 1.73979138,  1.37739057, -0.97482935,  1.        ]])"
      ]
     },
     "execution_count": 111,
     "metadata": {},
     "output_type": "execute_result"
    }
   ],
   "source": [
    "projected_points"
   ]
  },
  {
   "cell_type": "code",
   "execution_count": 112,
   "id": "1e756115",
   "metadata": {},
   "outputs": [
    {
     "name": "stdout",
     "output_type": "stream",
     "text": [
      "-39.593893026219334\n",
      "2.369312076581377\n",
      "---\n",
      "(10122, 3)\n"
     ]
    }
   ],
   "source": [
    "proj = projected_points[projected_points[:,2] > -3]\n",
    "# proj = projected_points\n",
    "pcd = points_to_open3d_pointcloud(proj[:,:3], cmap=\"jet\", z=1)\n",
    "\n",
    "o3d.visualization.draw_geometries([pcd])"
   ]
  },
  {
   "cell_type": "code",
   "execution_count": null,
   "id": "a938336c",
   "metadata": {},
   "outputs": [],
   "source": [
    "pcd_d = pcd.random_down_sample(0.2)\n",
    "pcd_f, l = pcd_d.remove_radius_outlier(nb_points=15, radius=0.1)\n",
    "# pcd_f, l = pcd_d.remove_statistical_outlier(nb_neighbors=30, std_ratio=0.2, print_progress=True)"
   ]
  },
  {
   "cell_type": "code",
   "execution_count": null,
   "id": "d7a44405",
   "metadata": {},
   "outputs": [],
   "source": [
    "pcd_b = pcd_f.voxel_down_sample(voxel_size=0.02)"
   ]
  },
  {
   "cell_type": "code",
   "execution_count": null,
   "id": "085dad80",
   "metadata": {},
   "outputs": [],
   "source": [
    "o3d.visualization.draw_geometries([pcd_f])"
   ]
  },
  {
   "cell_type": "code",
   "execution_count": null,
   "id": "547f1f32",
   "metadata": {},
   "outputs": [],
   "source": [
    "ps = np.array(ps)\n",
    "ps_b = np.copy(ps)"
   ]
  },
  {
   "cell_type": "code",
   "execution_count": null,
   "id": "4bb589e7",
   "metadata": {},
   "outputs": [],
   "source": [
    "ps_b[:, 0] += 3"
   ]
  },
  {
   "cell_type": "code",
   "execution_count": null,
   "id": "96a7dca6",
   "metadata": {},
   "outputs": [],
   "source": [
    "# proj = projected_points[projected_points[:,2] > -3]\n",
    "ps_pcd = points_to_open3d_pointcloud(ps_b, cmap=\"spring\", z=2)\n",
    "\n",
    "o3d.visualization.draw_geometries([pcd_b, ps_pcd])"
   ]
  },
  {
   "cell_type": "code",
   "execution_count": null,
   "id": "c4c30b3c",
   "metadata": {},
   "outputs": [],
   "source": [
    "gt_depths = np.genfromtxt(path + dataset + \"depthmaps.txt\", dtype=\"str\")"
   ]
  },
  {
   "cell_type": "code",
   "execution_count": null,
   "id": "300690b9",
   "metadata": {},
   "outputs": [],
   "source": [
    "for t, d in gt_depths[10:-30]:\n",
    "    idx = np.searchsorted(times, t)\n",
    "    \n",
    "    l = idx - 25 if idx >= 25 else 0\n",
    "    h = idx + 25 if idx < times.size - 25 else times.size\n",
    "    \n",
    "    n_meas = (raw_depths[l:h] != 0).sum(axis=0)\n",
    "    m_depth = np.divide(raw_depths[l:h].sum(axis=0), n_meas, where=n_meas!=0.0)\n",
    "    \n",
    "    diff = np.abs(d - m_depth)\n",
    "    print(diff)"
   ]
  },
  {
   "cell_type": "code",
   "execution_count": null,
   "id": "943b8cf2",
   "metadata": {},
   "outputs": [],
   "source": [
    "id_start = 100\n",
    "x = 10\n",
    "y = 80\n",
    "timestep = 0.005\n",
    "times = out[\"times\"]"
   ]
  },
  {
   "cell_type": "code",
   "execution_count": null,
   "id": "345f8abb",
   "metadata": {},
   "outputs": [],
   "source": [
    "debug = out[\"debug\"]\n",
    "debug.shape"
   ]
  },
  {
   "cell_type": "code",
   "execution_count": null,
   "id": "624974ac",
   "metadata": {},
   "outputs": [],
   "source": [
    "avg_log = out[\"avg_debug\"]\n",
    "avg_trace = avg_log[y,x,id_start:] * timestep"
   ]
  },
  {
   "cell_type": "code",
   "execution_count": null,
   "id": "1bd534c4",
   "metadata": {},
   "outputs": [],
   "source": [
    "depth_log = np.copy(out[\"raw_depths\"])\n",
    "depth_log = np.swapaxes(depth_log, 0, -1)\n",
    "output_trace = depth_log[y, x, id_start:] #/ timestep\n",
    "output_trace[output_trace == 0.0] = np.nan"
   ]
  },
  {
   "cell_type": "code",
   "execution_count": null,
   "id": "0b7515da",
   "metadata": {},
   "outputs": [],
   "source": [
    "trace = debug[y,x,id_start:] * timestep\n",
    "trace[trace == 0.0] = np.nan\n",
    "\n",
    "times = times[id_start:]"
   ]
  },
  {
   "cell_type": "code",
   "execution_count": null,
   "id": "39fa395a",
   "metadata": {},
   "outputs": [],
   "source": [
    "plt.figure(figsize=(20, 10))\n",
    "plt.scatter(times, trace, s=10)\n",
    "plt.plot(times, avg_trace, c=\"red\")\n",
    "plt.scatter(times, output_trace, c=\"yellow\")"
   ]
  },
  {
   "cell_type": "code",
   "execution_count": null,
   "id": "dd0c878f",
   "metadata": {},
   "outputs": [],
   "source": [
    "vals = trace\n",
    "ema = np.nan\n",
    "avg = np.nan\n",
    "emav = np.nan\n",
    "med = np.nan\n",
    "n = 0\n",
    "a = 0.125\n",
    "print(a)\n",
    "at = 0.25\n",
    "av = 0\n",
    "ema_l = []\n",
    "ema_vl = []\n",
    "avg_l = []\n",
    "val_l = []\n",
    "time_l = []\n",
    "med_l = []\n",
    "v = vals[0]\n",
    "last_t = 0\n",
    "prev_v = np.nan\n",
    "for i, v in enumerate(vals):\n",
    "    if np.isnan(v):\n",
    "        if np.isnan(prev_v):\n",
    "            continue\n",
    "    else:\n",
    "        t = times[i]  \n",
    "        av = 1 - np.exp((-t + last_t)/0.2)\n",
    "        #print(\"av: {}, last_t: {}, t: {}, a:{}\".format(av, last_t, t, a))\n",
    "        #last_t = av*t + (1-av)*last_t\n",
    "        last_t = t\n",
    "        #print(\"idx: {}, v: {}, t: {}\".format(idx, v, t))\n",
    "        if np.isnan(ema): \n",
    "            ema = v\n",
    "            avg = v\n",
    "            emav = v\n",
    "            n += 1\n",
    "            med = v\n",
    "        else:\n",
    "            avg = (avg * n + v) / (n + 1)\n",
    "            ema += a * (v - ema)\n",
    "            emav = av*v + (1-av)*emav\n",
    "            n += 1\n",
    "            med = np.nanmedian(vals[i-10:i+1])\n",
    "    #prev_v = v\n",
    "    time_l.append(t)\n",
    "    ema_l.append(ema)\n",
    "    avg_l.append(avg)\n",
    "    val_l.append(v)\n",
    "    ema_vl.append(emav)\n",
    "    med_l.append(med)"
   ]
  },
  {
   "cell_type": "code",
   "execution_count": null,
   "id": "ff3a6e72",
   "metadata": {},
   "outputs": [],
   "source": [
    "plt.figure(figsize=(20, 10))\n",
    "# plt.plot(time_l, val_l, label=\"vals\")\n",
    "plt.plot(time_l, avg_l, label=\"avg\")\n",
    "plt.plot(time_l, ema_l, label=\"ema\")\n",
    "plt.plot(time_l, ema_vl, label=\"emav\")\n",
    "# plt.plot(time_l, med_l, label=\"med\")\n",
    "plt.scatter(times, vals)\n",
    "plt.legend()"
   ]
  },
  {
   "cell_type": "code",
   "execution_count": null,
   "id": "2131075c",
   "metadata": {},
   "outputs": [],
   "source": [
    "avg_map = np.copy(avg_log) * timestep\n",
    "avg_map[avg_map == 0.0] = np.nan\n",
    "avg_map = avg_map[:, :, 100:110]\n",
    "# avg_map_n = np.divide(np.nansum(avg_map, axis=-1), n_avg, out=np.zeros_like(n_avg))\n",
    "m = plt.imshow(np.nansum(avg_map, axis=-1) / 10, cmap=\"jet_r\", vmax=3)\n",
    "plt.colorbar(m)"
   ]
  },
  {
   "cell_type": "code",
   "execution_count": null,
   "id": "cc19c530",
   "metadata": {},
   "outputs": [],
   "source": [
    "t = (avg_map != np.nan).sum(axis=-1)"
   ]
  },
  {
   "cell_type": "code",
   "execution_count": null,
   "id": "7fb22a8e",
   "metadata": {},
   "outputs": [],
   "source": [
    "plt.imshow(t)"
   ]
  },
  {
   "cell_type": "code",
   "execution_count": null,
   "id": "a59303fd",
   "metadata": {},
   "outputs": [],
   "source": [
    "t"
   ]
  },
  {
   "cell_type": "code",
   "execution_count": null,
   "id": "00d75703",
   "metadata": {},
   "outputs": [],
   "source": [
    "plt.hist(avg_map.flatten(), 100);"
   ]
  },
  {
   "cell_type": "code",
   "execution_count": null,
   "id": "09a456b7",
   "metadata": {},
   "outputs": [],
   "source": [
    "np.any(np.isclose(avg_map))"
   ]
  },
  {
   "cell_type": "code",
   "execution_count": null,
   "id": "630539fd",
   "metadata": {},
   "outputs": [],
   "source": [
    "depth_log.shape"
   ]
  },
  {
   "cell_type": "code",
   "execution_count": null,
   "id": "9372c251",
   "metadata": {},
   "outputs": [],
   "source": [
    "plt.hist(depth_log.flatten(), 100, range=(0.001, 5));"
   ]
  },
  {
   "cell_type": "code",
   "execution_count": null,
   "id": "0d6e4191",
   "metadata": {},
   "outputs": [],
   "source": [
    "output_trace = depth_log[y, x, id_start:]"
   ]
  },
  {
   "cell_type": "code",
   "execution_count": null,
   "id": "37c886a6",
   "metadata": {},
   "outputs": [],
   "source": [
    "plt.hist(output_trace, 100);"
   ]
  },
  {
   "cell_type": "code",
   "execution_count": null,
   "id": "8da12d95",
   "metadata": {},
   "outputs": [],
   "source": [
    "raw_depths"
   ]
  },
  {
   "cell_type": "code",
   "execution_count": null,
   "id": "9d8581bd",
   "metadata": {},
   "outputs": [],
   "source": [
    "t = np.array([\n",
    "    [1, 0, 1],\n",
    "    [0, 1, 1], \n",
    "    [0, 0, 1]\n",
    "])"
   ]
  },
  {
   "cell_type": "code",
   "execution_count": null,
   "id": "71b2eb36",
   "metadata": {},
   "outputs": [],
   "source": [
    "m = np.ma.masked_where(t == 0, t)"
   ]
  },
  {
   "cell_type": "code",
   "execution_count": null,
   "id": "1b15d5fb",
   "metadata": {},
   "outputs": [],
   "source": [
    "m.compressed()"
   ]
  },
  {
   "cell_type": "code",
   "execution_count": null,
   "id": "41acb88c",
   "metadata": {},
   "outputs": [],
   "source": [
    "import scipy.sparse"
   ]
  },
  {
   "cell_type": "code",
   "execution_count": null,
   "id": "8fae131f",
   "metadata": {},
   "outputs": [],
   "source": [
    "s = scipy.sparse.csr_matrix(t)"
   ]
  },
  {
   "cell_type": "code",
   "execution_count": null,
   "id": "26d80fae",
   "metadata": {},
   "outputs": [],
   "source": [
    "print(s)"
   ]
  },
  {
   "cell_type": "code",
   "execution_count": null,
   "id": "9c665de4",
   "metadata": {},
   "outputs": [],
   "source": [
    "i, j, v = scipy.sparse.find(s)"
   ]
  },
  {
   "cell_type": "code",
   "execution_count": null,
   "id": "5f3914b6",
   "metadata": {},
   "outputs": [],
   "source": [
    "i"
   ]
  },
  {
   "cell_type": "code",
   "execution_count": null,
   "id": "a3fbdd11",
   "metadata": {},
   "outputs": [],
   "source": [
    "j"
   ]
  },
  {
   "cell_type": "code",
   "execution_count": null,
   "id": "8d95208e",
   "metadata": {},
   "outputs": [],
   "source": [
    "v"
   ]
  },
  {
   "cell_type": "code",
   "execution_count": null,
   "id": "fcc7aaab",
   "metadata": {},
   "outputs": [],
   "source": [
    "type(s)"
   ]
  },
  {
   "cell_type": "code",
   "execution_count": null,
   "id": "b0309451",
   "metadata": {},
   "outputs": [],
   "source": [
    "l = np.empty((1, 4), dtype=object)"
   ]
  },
  {
   "cell_type": "code",
   "execution_count": null,
   "id": "ed3f92c7",
   "metadata": {},
   "outputs": [],
   "source": [
    "l[..., 0] = s"
   ]
  },
  {
   "cell_type": "code",
   "execution_count": null,
   "id": "06ffe525",
   "metadata": {},
   "outputs": [],
   "source": [
    "l[0]"
   ]
  },
  {
   "cell_type": "code",
   "execution_count": null,
   "id": "0ab4433e",
   "metadata": {},
   "outputs": [],
   "source": [
    "s.toarray()"
   ]
  },
  {
   "cell_type": "code",
   "execution_count": null,
   "id": "91e0a18d",
   "metadata": {},
   "outputs": [],
   "source": [
    "s = s * 2.3"
   ]
  },
  {
   "cell_type": "code",
   "execution_count": null,
   "id": "ff296f99",
   "metadata": {},
   "outputs": [],
   "source": [
    "s"
   ]
  },
  {
   "cell_type": "code",
   "execution_count": null,
   "id": "92007b8a",
   "metadata": {},
   "outputs": [],
   "source": [
    "gt_depths = np.load(path + dataset + \"gt_depths.npy\")"
   ]
  },
  {
   "cell_type": "code",
   "execution_count": null,
   "id": "2f3201ed",
   "metadata": {},
   "outputs": [],
   "source": [
    "gt_depths.shape"
   ]
  },
  {
   "cell_type": "code",
   "execution_count": null,
   "id": "d9b83599",
   "metadata": {},
   "outputs": [],
   "source": [
    "gt_depths[0]"
   ]
  },
  {
   "cell_type": "code",
   "execution_count": null,
   "id": "e3d463b9",
   "metadata": {},
   "outputs": [],
   "source": [
    "gt_times = np.genfromtxt(path + dataset + \"depthmaps.txt\", dtype=\"str\")"
   ]
  },
  {
   "cell_type": "code",
   "execution_count": null,
   "id": "988f1539",
   "metadata": {},
   "outputs": [],
   "source": [
    "gt_times.shape"
   ]
  },
  {
   "cell_type": "code",
   "execution_count": null,
   "id": "6b66d4b8",
   "metadata": {},
   "outputs": [],
   "source": [
    "gt_times = gt_times[:, 0].astype(np.float64)"
   ]
  },
  {
   "cell_type": "code",
   "execution_count": null,
   "id": "3d1857c0",
   "metadata": {},
   "outputs": [],
   "source": [
    "gt_times.shape"
   ]
  },
  {
   "cell_type": "code",
   "execution_count": null,
   "id": "ad322b0d",
   "metadata": {},
   "outputs": [],
   "source": [
    "subsampling = 4\n",
    "shape = (180, 240)\n",
    "times = out[\"times\"]\n",
    "errors = []\n",
    "rel_err = []\n",
    "\n",
    "for i, t in enumerate(gt_times):\n",
    "    if t > times[-1] or t < times[0]:\n",
    "        continue\n",
    "    idx = np.searchsorted(times, float(t))\n",
    "    l = idx - 100 if idx >= 100 else 0\n",
    "    h = idx + 100 if idx < times.size - 100 else times.size\n",
    "    \n",
    "    n_meas = (raw_depths[l:h] != 0).sum(axis=0)\n",
    "    m_depth = np.divide(raw_depths[l:h].sum(axis=0), n_meas, where=raw_depths[l:h].sum(axis=0)!=0.0, out=np.zeros_like(n_meas, dtype=np.float64))\n",
    "    \n",
    "    gt_d = gt_depths[i, ::subsampling, ::subsampling]\n",
    "    \n",
    "    diff_r = np.subtract(m_depth, gt_d, where=m_depth!=0.0, out=np.zeros_like(m_depth))\n",
    "    diff = np.abs(diff_r)\n",
    "    \n",
    "    diff_rel = np.divide(diff, gt_d, where=diff!=0.0, out=np.zeros_like(diff))\n",
    "    \n",
    "    diff[np.isclose(diff, 0.0)] = np.nan\n",
    "    errors.append(diff)\n",
    "    \n",
    "    diff_rel[np.isclose(diff_rel, 0.0)] = np.nan\n",
    "    rel_err.append(diff_rel)\n",
    "    \n",
    "errors = np.array(errors)"
   ]
  },
  {
   "cell_type": "code",
   "execution_count": null,
   "id": "55c75ccf",
   "metadata": {},
   "outputs": [],
   "source": [
    "print(np.nanmean(errors))\n",
    "print(np.nanmedian(errors))\n",
    "print(np.nanmean(rel_err))"
   ]
  },
  {
   "cell_type": "code",
   "execution_count": null,
   "id": "130d17bd",
   "metadata": {},
   "outputs": [],
   "source": [
    "errors.shape"
   ]
  },
  {
   "cell_type": "code",
   "execution_count": null,
   "id": "333a1ea7",
   "metadata": {},
   "outputs": [],
   "source": [
    "plt.figure(figsize=(10, 10))\n",
    "m = plt.imshow(np.nansum(errors[5:7], axis=0), interpolation=\"none\")\n",
    "plt.colorbar(m)"
   ]
  },
  {
   "cell_type": "code",
   "execution_count": null,
   "id": "5538676b",
   "metadata": {},
   "outputs": [],
   "source": [
    "idx = np.searchsorted(times, gt_times[60])"
   ]
  },
  {
   "cell_type": "code",
   "execution_count": null,
   "id": "66dccafa",
   "metadata": {},
   "outputs": [],
   "source": [
    "idx"
   ]
  },
  {
   "cell_type": "code",
   "execution_count": null,
   "id": "cbae3f79",
   "metadata": {},
   "outputs": [],
   "source": [
    "plt.hist(errors[10].flatten(), 100, range=(-1, 1));"
   ]
  },
  {
   "cell_type": "code",
   "execution_count": null,
   "id": "ba741886",
   "metadata": {},
   "outputs": [],
   "source": [
    "plt.hist(gt_depths.flatten(), 100, range=(1, 2.1));\n",
    "plt.axvline(1.4, c=\"red\")\n",
    "plt.axvline(1.5, c=\"red\")"
   ]
  },
  {
   "cell_type": "code",
   "execution_count": null,
   "id": "65a4a712",
   "metadata": {},
   "outputs": [],
   "source": [
    "plt.hist(mean_depths.flatten(), 100, range=(1, 3));\n",
    "plt.axvline(1.5, c=\"red\")\n",
    "plt.axvline(1.4, c=\"red\")\n",
    "plt.axvline(2.0, c=\"red\")"
   ]
  },
  {
   "cell_type": "code",
   "execution_count": null,
   "id": "51fb0958",
   "metadata": {},
   "outputs": [],
   "source": [
    "plt.hist(raw_depths.flatten(), 100, range=(1, 3));\n",
    "plt.axvline(1.5, c=\"red\")\n",
    "plt.axvline(1.4, c=\"red\")\n",
    "plt.axvline(2.0, c=\"red\")"
   ]
  },
  {
   "cell_type": "code",
   "execution_count": null,
   "id": "d581c94a",
   "metadata": {},
   "outputs": [],
   "source": [
    "plt.hist(errors.flatten(), 100, range=(0.0001, 1));"
   ]
  },
  {
   "cell_type": "code",
   "execution_count": null,
   "id": "c68633d8",
   "metadata": {},
   "outputs": [],
   "source": []
  },
  {
   "cell_type": "code",
   "execution_count": null,
   "id": "fbd95891",
   "metadata": {},
   "outputs": [],
   "source": []
  }
 ],
 "metadata": {
  "kernelspec": {
   "display_name": "Python 3 (ipykernel)",
   "language": "python",
   "name": "python3"
  },
  "language_info": {
   "codemirror_mode": {
    "name": "ipython",
    "version": 3
   },
   "file_extension": ".py",
   "mimetype": "text/x-python",
   "name": "python",
   "nbconvert_exporter": "python",
   "pygments_lexer": "ipython3",
   "version": "3.8.10"
  }
 },
 "nbformat": 4,
 "nbformat_minor": 5
}
