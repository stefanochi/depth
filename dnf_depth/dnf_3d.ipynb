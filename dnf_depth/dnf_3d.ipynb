{
 "cells": [
  {
   "cell_type": "code",
   "execution_count": null,
   "id": "37194904",
   "metadata": {},
   "outputs": [],
   "source": [
    "import sys\n",
    "sys.path.append(\"\\..\")\n",
    "\n",
    "from lava.proc.lif.process import LIF\n",
    "from lava.lib.dnf.connect.connect import connect\n",
    "from lava.lib.dnf.operations.operations import Weights\n",
    "from lava.lib.dnf.kernels.kernels import MultiPeakKernel\n",
    "from lava.lib.dnf.operations.operations import Convolution\n",
    "from lava.lib.dnf.kernels.kernels import SelectiveKernel\n",
    "from lava.proc.io.source import RingBuffer\n",
    "\n",
    "from lava.magma.core.run_configs import Loihi1SimCfg\n",
    "from lava.magma.core.run_conditions import RunSteps\n",
    "from lava.lib.dnf.inputs.gauss_pattern.process import GaussPattern\n",
    "from lava.lib.dnf.inputs.rate_code_spike_gen.process import RateCodeSpikeGen\n",
    "from lava.proc.monitor.process import Monitor\n",
    "import scipy.sparse\n",
    "\n",
    "\n",
    "import matplotlib.pyplot as plt\n",
    "\n",
    "import numpy as np"
   ]
  },
  {
   "cell_type": "code",
   "execution_count": null,
   "id": "ff785d9a",
   "metadata": {},
   "outputs": [],
   "source": [
    "k_size=5\n",
    "old_shape = np.array([180, 240])\n",
    "img_shape = (old_shape / k_size).astype(int)\n",
    "depthsxmeter = 10\n",
    "d_range = [0.0, 3.0]\n",
    "\n",
    "n_depths = int(d_range[1] - d_range[0]) * depthsxmeter\n",
    "shape = (img_shape[0], img_shape[1], n_depths)\n",
    "print(shape)"
   ]
  },
  {
   "cell_type": "code",
   "execution_count": null,
   "id": "7f60078c",
   "metadata": {},
   "outputs": [],
   "source": [
    "def subsamples(data, k_size):\n",
    "    new_shape = (\n",
    "        int(data.shape[0] / k_size),\n",
    "        k_size,\n",
    "        int(data.shape[1] / k_size),\n",
    "        k_size)\n",
    "    data_reshape = data.reshape(new_shape)\n",
    "    \n",
    "    return np.nanmean(data_reshape.swapaxes(1 , 2), axis=(-1, -2))"
   ]
  },
  {
   "cell_type": "code",
   "execution_count": null,
   "id": "8199ea56",
   "metadata": {},
   "outputs": [],
   "source": [
    "dnf = LIF(shape=shape, du=0.12, dv=0.5, vth=10)\n",
    "\n",
    "# kernel = SelectiveKernel(amp_exc=4.0,\n",
    "#                          width_exc=20.0,\n",
    "#                          global_inh=-3)\n",
    "kernel = MultiPeakKernel(amp_exc=7,\n",
    "                         width_exc=[2, 2, 5],\n",
    "                         amp_inh=-125,\n",
    "                         width_inh=[0.1, 0.1, 10])\n",
    "connect(dnf.s_out, dnf.a_in, [Convolution(kernel)])\n",
    "# connect(input_proc.s_out, dnf.a_in, [Weights(7)])"
   ]
  },
  {
   "cell_type": "code",
   "execution_count": null,
   "id": "ba126989",
   "metadata": {},
   "outputs": [],
   "source": [
    "time_steps = 100\n",
    "\n",
    "# input_buffer = np.zeros((shape[0], shape[1], shape[2], time_steps))\n",
    "# input_buffer[5, 5, 5, :] = 1\n",
    "# print(input_buffer.shape)\n",
    "\n",
    "samples = np.load(\"samples_slider.npy\", allow_pickle=True)\n",
    "\n",
    "samples_np = np.zeros((180, 240, samples.size))\n",
    "\n",
    "for i, s in enumerate(samples):\n",
    "    samples_np[:,:, i] = s.toarray()\n",
    "    \n",
    "input_buffer = np.zeros((shape[0], shape[1], shape[2], time_steps))\n",
    "samp = samples_np[:,:, 1000:1100:1]\n",
    "\n",
    "for i in range(samp.shape[-1]):\n",
    "    test = samp[:,:,i]\n",
    "    test[test == 0] = np.nan\n",
    "    \n",
    "    test_sub = subsamples(test, k_size)\n",
    "    \n",
    "    data_s = scipy.sparse.csr_matrix(test_sub[:])\n",
    "\n",
    "    y, x, d = scipy.sparse.find(data_s)\n",
    "    y = y[d<d_range[1]]\n",
    "    x = x[d<d_range[1]]\n",
    "    d = d[d<d_range[1]]\n",
    "    d = (((d - d_range[0]) / (d_range[1] - d_range[0])) * n_depths).astype(int)\n",
    "    input_buffer[y, x, d, i] = 1\n",
    "\n",
    "print(input_buffer.shape)\n",
    "input_proc = RingBuffer(input_buffer)"
   ]
  },
  {
   "cell_type": "code",
   "execution_count": null,
   "id": "b5b23580",
   "metadata": {},
   "outputs": [],
   "source": [
    "connect(input_proc.s_out, dnf.a_in, [Weights(7)])"
   ]
  },
  {
   "cell_type": "code",
   "execution_count": null,
   "id": "6fb053b8",
   "metadata": {},
   "outputs": [],
   "source": [
    "\n",
    "monitor = Monitor()\n",
    "monitor.probe(dnf.s_out, time_steps)\n",
    "\n",
    "# monitor_v = Monitor()\n",
    "# monitor_v.probe(dnf.v, time_steps)\n",
    "\n",
    "# monitor_u = Monitor()\n",
    "# monitor_u.probe(dnf.u, time_steps)\n",
    "\n",
    "# Run the DNF\n",
    "dnf.run(condition=RunSteps(num_steps=time_steps),\n",
    "        run_cfg=Loihi1SimCfg(select_tag='floating_pt'))\n",
    "\n",
    "# Get probed data from monitor\n",
    "probed_data = monitor.get_data()\n",
    "# probed_data_v = monitor_v.get_data()\n",
    "# probed_data_u = monitor_u.get_data()\n",
    "\n",
    "# Stop the execution after getting the monitor's data\n",
    "dnf.stop()"
   ]
  },
  {
   "cell_type": "code",
   "execution_count": null,
   "id": "d3a17031",
   "metadata": {},
   "outputs": [],
   "source": [
    "t = probed_data[dnf.name][dnf.s_out.name][80:100,:,:,:].sum(axis=(0))\n",
    "print(t.shape)"
   ]
  },
  {
   "cell_type": "code",
   "execution_count": null,
   "id": "64fc9c31",
   "metadata": {},
   "outputs": [],
   "source": [
    "# t = input_buffer[:, :, :, 80:100].sum(axis=-1)"
   ]
  },
  {
   "cell_type": "code",
   "execution_count": null,
   "id": "e3967cbf",
   "metadata": {},
   "outputs": [],
   "source": [
    "%matplotlib notebook\n",
    "ax = plt.figure().add_subplot(projection='3d')\n",
    "ax.voxels(t);"
   ]
  },
  {
   "cell_type": "code",
   "execution_count": null,
   "id": "1dbdec9e",
   "metadata": {},
   "outputs": [],
   "source": [
    "v = np.zeros_like(t)"
   ]
  },
  {
   "cell_type": "code",
   "execution_count": null,
   "id": "bdc8b631",
   "metadata": {},
   "outputs": [],
   "source": [
    "for i in range(v.shape[-1]):\n",
    "    v[:, :, i] = (i / n_depths) * (d_range[1] - d_range[0]) + d_range[0]"
   ]
  },
  {
   "cell_type": "code",
   "execution_count": null,
   "id": "c6b25792",
   "metadata": {},
   "outputs": [],
   "source": [
    "test = t * v"
   ]
  },
  {
   "cell_type": "code",
   "execution_count": null,
   "id": "1584dd6e",
   "metadata": {},
   "outputs": [],
   "source": [
    "test.shape"
   ]
  },
  {
   "cell_type": "code",
   "execution_count": null,
   "id": "01c20603",
   "metadata": {},
   "outputs": [],
   "source": [
    "%matplotlib inline\n",
    "test[test == 0] = np.nan\n",
    "m = plt.imshow(np.nanmean(test, axis=-1), interpolation=\"none\", cmap=\"jet_r\", vmax=2.5, vmin=0)\n",
    "plt.colorbar(m)"
   ]
  },
  {
   "cell_type": "code",
   "execution_count": null,
   "id": "4ce9f666",
   "metadata": {},
   "outputs": [],
   "source": [
    "plt.hist(test.flatten(), 30, range=(0, 3));"
   ]
  },
  {
   "cell_type": "code",
   "execution_count": null,
   "id": "13c6bfba",
   "metadata": {},
   "outputs": [],
   "source": []
  }
 ],
 "metadata": {
  "kernelspec": {
   "display_name": "Python 3 (ipykernel)",
   "language": "python",
   "name": "python3"
  },
  "language_info": {
   "codemirror_mode": {
    "name": "ipython",
    "version": 3
   },
   "file_extension": ".py",
   "mimetype": "text/x-python",
   "name": "python",
   "nbconvert_exporter": "python",
   "pygments_lexer": "ipython3",
   "version": "3.8.10"
  }
 },
 "nbformat": 4,
 "nbformat_minor": 5
}
