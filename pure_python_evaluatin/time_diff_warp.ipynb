{
 "cells": [
  {
   "cell_type": "code",
   "execution_count": 1,
   "id": "5e745d75",
   "metadata": {},
   "outputs": [],
   "source": [
    "import numpy as np\n",
    "import matplotlib.pyplot as plt"
   ]
  },
  {
   "cell_type": "code",
   "execution_count": 4,
   "id": "7722f7a2",
   "metadata": {},
   "outputs": [],
   "source": [
    "events = np.loadtxt(\"../data_processed/events_refact.txt\")"
   ]
  },
  {
   "cell_type": "code",
   "execution_count": 6,
   "id": "8d26ce66",
   "metadata": {},
   "outputs": [],
   "source": [
    "def filter_patch(events, patch_center, patch_size):\n",
    "    x_lim = (patch_center[1] - int(patch_size / 2), patch_center[1] + int(patch_size / 2) - 1)\n",
    "    y_lim = (patch_center[0] - int(patch_size / 2), patch_center[0] + int(patch_size / 2) - 1)\n",
    "\n",
    "    events_filtered = np.copy(events)\n",
    "    events_filtered = events_filtered[\n",
    "        np.logical_and((x_lim[0] <= events_filtered[:, 1]), (events_filtered[:, 1] <= x_lim[1]))]\n",
    "    events_filtered = events_filtered[\n",
    "        np.logical_and((y_lim[0] <= events_filtered[:, 2]), (events_filtered[:, 2] <= y_lim[1]))]\n",
    "    # events_filtered = events_filtered[[(y_lim[0] >= events_range[:,2]) & (events_range[:,2] <= y_lim[1])]\n",
    "    #vents_filtered = np.array(events_filtered)\n",
    "\n",
    "    events_filtered[:,1] = (events_filtered[:,1] - patch_center[1] + int(patch_size / 2)).astype(int)\n",
    "    events_filtered[:,2] = (events_filtered[:,2] - patch_center[0] + int(patch_size / 2)).astype(int)\n",
    "    \n",
    "    return events_filtered"
   ]
  },
  {
   "cell_type": "code",
   "execution_count": null,
   "id": "997667bc",
   "metadata": {},
   "outputs": [],
   "source": []
  },
  {
   "cell_type": "code",
   "execution_count": 8,
   "id": "8e13d1f2",
   "metadata": {},
   "outputs": [],
   "source": [
    "patch_center = (90, 90)\n",
    "patch_size = 180\n",
    "shape = (patch_size, patch_size)\n",
    "events = filter_patch(events, patch_center, patch_size)"
   ]
  },
  {
   "cell_type": "code",
   "execution_count": 9,
   "id": "6252238e",
   "metadata": {},
   "outputs": [],
   "source": [
    "t_start = events[0, 0]"
   ]
  },
  {
   "cell_type": "code",
   "execution_count": 10,
   "id": "a488838c",
   "metadata": {},
   "outputs": [],
   "source": [
    "last_time = np.zeros(shape)\n",
    "time_difference = np.zeros(shape)\n",
    "for e in events:\n",
    "    if e[3] == 1:\n",
    "        continue\n",
    "    \n",
    "    x = int(e[1])\n",
    "    y = int(e[2])\n",
    "    \n",
    "    last_time[y, x] = e[0]\n",
    "    \n",
    "    if x == shape[1] -1:\n",
    "        continue\n",
    "    \n",
    "    if last_time[y, x+1] != 0:\n",
    "        time_difference[y, x] = e[0] - last_time[y, x+1]"
   ]
  },
  {
   "cell_type": "code",
   "execution_count": null,
   "id": "6fba1e8f",
   "metadata": {},
   "outputs": [],
   "source": []
  }
 ],
 "metadata": {
  "kernelspec": {
   "display_name": "Python 3 (ipykernel)",
   "language": "python",
   "name": "python3"
  },
  "language_info": {
   "codemirror_mode": {
    "name": "ipython",
    "version": 3
   },
   "file_extension": ".py",
   "mimetype": "text/x-python",
   "name": "python",
   "nbconvert_exporter": "python",
   "pygments_lexer": "ipython3",
   "version": "3.8.10"
  }
 },
 "nbformat": 4,
 "nbformat_minor": 5
}
