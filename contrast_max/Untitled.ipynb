{
 "cells": [
  {
   "cell_type": "code",
   "execution_count": 1,
   "id": "03f3d527",
   "metadata": {},
   "outputs": [],
   "source": [
    "import numpy as np\n",
    "from matplotlib import pyplot as plt\n",
    "\n",
    "from lava.proc.lif.process import LIF\n",
    "\n",
    "from lava.lib.dnf.connect.connect import connect\n",
    "from lava.lib.dnf.operations.operations import Weights\n",
    "from lava.lib.dnf.kernels.kernels import MultiPeakKernel, SelectiveKernel\n",
    "from lava.lib.dnf.operations.operations import Convolution\n",
    "\n",
    "from lava.lib.dnf.kernels.kernels import Kernel, GaussianMixin\n",
    "import typing as ty\n",
    "import warnings\n",
    "from abc import ABC, abstractmethod\n",
    "from lava.lib.dnf.utils.convenience import to_ndarray\n",
    "from lava.lib.dnf.utils.math import gauss\n",
    "\n",
    "from lava.lib.dnf.inputs.gauss_pattern.process import GaussPattern\n",
    "from lava.lib.dnf.inputs.rate_code_spike_gen.process import RateCodeSpikeGen\n",
    "from lava.magma.core.run_configs import Loihi1SimCfg\n",
    "from lava.magma.core.run_conditions import RunSteps\n",
    "from lava.proc.monitor.process import Monitor\n",
    "from lava.lib.dnf.utils.plotting import raster_plot"
   ]
  },
  {
   "cell_type": "code",
   "execution_count": 2,
   "id": "c4f9b88b",
   "metadata": {},
   "outputs": [],
   "source": [
    "class DecayKernel(GaussianMixin, Kernel):\n",
    "    \"\"\"\n",
    "    A kernel that enables creating a selective dynamic neural field\n",
    "    (local excitation, global inhibition).\n",
    "    Parameters\n",
    "    ----------\n",
    "    amp_exc : float\n",
    "        amplitude of the excitatory Gaussian of the kernel\n",
    "    width_exc : list(float)\n",
    "        widths of the excitatory Gaussian of the kernel\n",
    "    global_inh : float\n",
    "        global inhibition of the kernel; must be negative\n",
    "    limit : float\n",
    "        determines the size/shape of the kernel such that the weight matrix\n",
    "        will have the size 2*limit*width_exc; defaults to 1\n",
    "    shape : tuple(int), optional\n",
    "        will return the weight with this explicit shape; if used, the limit\n",
    "        argument will have no effect\n",
    "    \"\"\"\n",
    "    def __init__(self,\n",
    "                 amp_exc: float,\n",
    "                 width_exc: ty.Union[float, ty.List[float]],\n",
    "                 global_inh: float,\n",
    "                 mean: float,\n",
    "                 limit: ty.Optional[float] = 1.0,\n",
    "                 shape: ty.Optional[ty.Tuple[int, ...]] = None) -> None:\n",
    "\n",
    "        GaussianMixin.__init__(self, amp_exc, width_exc, limit, shape)\n",
    "        self.mean = mean\n",
    "\n",
    "        if global_inh > 0:\n",
    "            raise ValueError(\"<global_inh> must be negative\")\n",
    "        self._global_inh = global_inh\n",
    "\n",
    "        weights = self._compute_weights()\n",
    "        Kernel.__init__(self, weights=weights, padding_value=self._global_inh)\n",
    "\n",
    "    def _compute_weights(self) -> np.ndarray:\n",
    "        local_excitation = gauss(self._shape,\n",
    "                                 domain=self._compute_domain(),\n",
    "                                 mean=self.mean,\n",
    "                                 amplitude=self._amp_exc,\n",
    "                                 stddev=self._width_exc)\n",
    "\n",
    "        return local_excitation + self._global_inh"
   ]
  },
  {
   "cell_type": "code",
   "execution_count": 3,
   "id": "2fe57bf9",
   "metadata": {},
   "outputs": [
    {
     "data": {
      "text/plain": [
       "<lava.proc.dense.process.Dense at 0x229532a35b0>"
      ]
     },
     "execution_count": 3,
     "metadata": {},
     "output_type": "execute_result"
    }
   ],
   "source": [
    "shape = (20, )\n",
    "dnf = LIF(shape=shape, du=.5, dv=2047, vth=200)\n",
    "\n",
    "kernel = DecayKernel(amp_exc=32,\n",
    "                         width_exc=2.5,\n",
    "                         mean=0.0,\n",
    "                         global_inh=-18)\n",
    "connect(dnf.s_out, dnf.a_in, ops=[Convolution(kernel)])"
   ]
  },
  {
   "cell_type": "code",
   "execution_count": 4,
   "id": "0a3c785b",
   "metadata": {},
   "outputs": [
    {
     "data": {
      "text/plain": [
       "<lava.proc.dense.process.Dense at 0x229723271f0>"
      ]
     },
     "execution_count": 4,
     "metadata": {},
     "output_type": "execute_result"
    }
   ],
   "source": [
    "time_steps = 700\n",
    "\n",
    "# Set up spike generator 1\n",
    "gauss_pattern_1 = GaussPattern(shape=shape,\n",
    "                                       amplitude=0,\n",
    "                                       mean=0.0,\n",
    "                                       stddev=0.25)\n",
    "spike_generator_1 = RateCodeSpikeGen(shape=shape)\n",
    "gauss_pattern_1.a_out.connect(spike_generator_1.a_in)\n",
    "\n",
    "connect(spike_generator_1.s_out, dnf.a_in, [Weights(25)])"
   ]
  },
  {
   "cell_type": "code",
   "execution_count": 5,
   "id": "450b3f83",
   "metadata": {},
   "outputs": [],
   "source": [
    "monitor_dnf = Monitor()\n",
    "monitor_dnf.probe(target=dnf.s_out, num_steps=time_steps)"
   ]
  },
  {
   "cell_type": "code",
   "execution_count": 6,
   "id": "87483dea",
   "metadata": {},
   "outputs": [],
   "source": [
    "# Set up a run configuration\n",
    "run_cfg = Loihi1SimCfg()"
   ]
  },
  {
   "cell_type": "code",
   "execution_count": 7,
   "id": "299c4a58",
   "metadata": {},
   "outputs": [
    {
     "name": "stdout",
     "output_type": "stream",
     "text": [
      "[Loihi1SimCfg]: Using the first PyProcessModel PyLifModelFloat available for Process Process_0::LIF.\n",
      "[Loihi1SimCfg]: Using the first PyProcessModel PyDenseModelFloat available for Process Process_1::Dense.\n",
      "[Loihi1SimCfg]: Using the first PyProcessModel PyDenseModelFloat available for Process Process_6::Dense.\n"
     ]
    }
   ],
   "source": [
    "condition = RunSteps(num_steps=100)\n",
    "gauss_pattern_1.run(condition=condition, run_cfg=run_cfg)\n",
    "gauss_pattern_1.amplitude = 2300\n",
    "condition = RunSteps(num_steps=100)\n",
    "gauss_pattern_1.run(condition=condition, run_cfg=run_cfg)"
   ]
  },
  {
   "cell_type": "code",
   "execution_count": 8,
   "id": "92771f11",
   "metadata": {},
   "outputs": [],
   "source": [
    "condition = RunSteps(num_steps=500)\n",
    "gauss_pattern_1.amplitude = 0\n",
    "gauss_pattern_1.run(condition=condition, run_cfg=run_cfg)"
   ]
  },
  {
   "cell_type": "code",
   "execution_count": 9,
   "id": "a29a1d23",
   "metadata": {},
   "outputs": [],
   "source": [
    "data_dnf = monitor_dnf.get_data()[dnf.name][dnf.s_out.name]"
   ]
  },
  {
   "cell_type": "code",
   "execution_count": 10,
   "id": "dc8c1ee6",
   "metadata": {},
   "outputs": [],
   "source": [
    "spike_generator_1.stop()"
   ]
  },
  {
   "cell_type": "code",
   "execution_count": 11,
   "id": "fbcb6686",
   "metadata": {},
   "outputs": [],
   "source": [
    "data_dnf = data_dnf.transpose()"
   ]
  },
  {
   "cell_type": "code",
   "execution_count": 12,
   "id": "9c67d8c3",
   "metadata": {},
   "outputs": [
    {
     "data": {
      "text/plain": [
       "<matplotlib.colorbar.Colorbar at 0x229727df7c0>"
      ]
     },
     "execution_count": 12,
     "metadata": {},
     "output_type": "execute_result"
    },
    {
     "data": {
      "image/png": "[encoded data removed]",
      "text/plain": [
       "<Figure size 432x288 with 2 Axes>"
      ]
     },
     "metadata": {
      "needs_background": "light"
     },
     "output_type": "display_data"
    }
   ],
   "source": [
    "raster_plot(data_dnf)\n",
    "cax = plt.axes([0.85, 0.1, 0.035, 0.8])\n",
    "plt.colorbar(cax=cax, label=\"Spike rate\")"
   ]
  },
  {
   "cell_type": "code",
   "execution_count": null,
   "id": "d411eb38",
   "metadata": {},
   "outputs": [],
   "source": []
  }
 ],
 "metadata": {
  "kernelspec": {
   "display_name": "Python 3 (ipykernel)",
   "language": "python",
   "name": "python3"
  },
  "language_info": {
   "codemirror_mode": {
    "name": "ipython",
    "version": 3
   },
   "file_extension": ".py",
   "mimetype": "text/x-python",
   "name": "python",
   "nbconvert_exporter": "python",
   "pygments_lexer": "ipython3",
   "version": "3.8.10"
  }
 },
 "nbformat": 4,
 "nbformat_minor": 5
}
