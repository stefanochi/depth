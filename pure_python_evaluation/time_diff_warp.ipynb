{
 "cells": [
  {
   "cell_type": "code",
   "execution_count": 5,
   "id": "b155bc39",
   "metadata": {},
   "outputs": [],
   "source": [
    "import sys\n",
    "\n",
    "path = \"C:/Users/schiavaz/lava-nc/depth/\"\n",
    "sys.path.append(path)\n",
    "\n",
    "import numpy as np\n",
    "import matplotlib.pyplot as plt"
   ]
  },
  {
   "cell_type": "code",
   "execution_count": 39,
   "id": "d793d0dc",
   "metadata": {},
   "outputs": [],
   "source": [
    "events = np.loadtxt(path + \"data/slider-depth/processed/events_refact_34s.txt\")\n",
    "#events = np.loadtxt(\"../data/events.txt\")\n",
    "time_range = [2.7, 2.71]\n",
    "idx_range = [np.searchsorted(events[:,0], time_range[0]), np.searchsorted(events[:,0], time_range[1])]\n",
    "events = events[idx_range[0]:idx_range[1], :]"
   ]
  },
  {
   "cell_type": "code",
   "execution_count": 40,
   "id": "0b74f113",
   "metadata": {},
   "outputs": [],
   "source": [
    "def filter_patch(events, patch_center, patch_size):\n",
    "    x_lim = (patch_center[1] - int(patch_size / 2), patch_center[1] + int(patch_size / 2) - 1)\n",
    "    y_lim = (patch_center[0] - int(patch_size / 2), patch_center[0] + int(patch_size / 2) - 1)\n",
    "\n",
    "    events_filtered = np.copy(events)\n",
    "    events_filtered = events_filtered[\n",
    "        np.logical_and((x_lim[0] <= events_filtered[:, 1]), (events_filtered[:, 1] <= x_lim[1]))]\n",
    "    events_filtered = events_filtered[\n",
    "        np.logical_and((y_lim[0] <= events_filtered[:, 2]), (events_filtered[:, 2] <= y_lim[1]))]\n",
    "    # events_filtered = events_filtered[[(y_lim[0] >= events_range[:,2]) & (events_range[:,2] <= y_lim[1])]\n",
    "    #vents_filtered = np.array(events_filtered)\n",
    "\n",
    "    events_filtered[:,1] = (events_filtered[:,1] - patch_center[1] + int(patch_size / 2)).astype(int)\n",
    "    events_filtered[:,2] = (events_filtered[:,2] - patch_center[0] + int(patch_size / 2)).astype(int)\n",
    "    \n",
    "    return events_filtered"
   ]
  },
  {
   "cell_type": "code",
   "execution_count": 41,
   "id": "84e4177d",
   "metadata": {},
   "outputs": [],
   "source": [
    "def img_from_events(events):\n",
    "    img_height = int(events[:,2].max()+1)\n",
    "    img_width = int(events[:,1].max()+1)\n",
    "    img = np.zeros((img_height, img_width))\n",
    "    for e in events:\n",
    "#         if e[3] == 1:\n",
    "#             continue\n",
    "        x = int(e[1])\n",
    "        y = int(e[2])\n",
    "        img[y, x] += 1\n",
    "    return img"
   ]
  },
  {
   "cell_type": "code",
   "execution_count": 42,
   "id": "9d49d7dc",
   "metadata": {},
   "outputs": [],
   "source": [
    "patch_center = (90, 90)\n",
    "patch_size = 180\n",
    "shape = (patch_size, patch_size)\n",
    "events = filter_patch(events, patch_center, patch_size)"
   ]
  },
  {
   "cell_type": "code",
   "execution_count": 43,
   "id": "6002c883",
   "metadata": {},
   "outputs": [],
   "source": [
    "t_start = events[0, 0]"
   ]
  },
  {
   "cell_type": "code",
   "execution_count": 49,
   "id": "14cf2135",
   "metadata": {},
   "outputs": [],
   "source": [
    "last_time = np.zeros(shape)\n",
    "time_diff_dict = {}\n",
    "dist = 1\n",
    "warped_shape = (180, 200)\n",
    "bins = np.linspace(0, 900, 80)\n",
    "for e in events:\n",
    "#     if e[3] == 1:\n",
    "#         continue\n",
    "    \n",
    "    x = int(e[1])\n",
    "    y = int(e[2])\n",
    "    \n",
    "    last_time[y, x] = e[0]\n",
    "    \n",
    "    if x >= shape[1] - dist:\n",
    "        continue\n",
    "    \n",
    "    if last_time[y, x+dist] != 0:\n",
    "        speed = dist/(e[0] - last_time[y, x+dist])\n",
    "#         i = np.digitize(speed, bins)\n",
    "#         if i>=len(bins):\n",
    "#             continue\n",
    "#         speed = bins[i]\n",
    "        warp_pos_x = int(x + (e[0] - t_start) * speed)\n",
    "        if warp_pos_x >= warped_shape[1]:\n",
    "            continue\n",
    "        if (y, warp_pos_x) in time_diff_dict:\n",
    "            time_diff_dict[y, warp_pos_x].append(speed)\n",
    "        else:\n",
    "            time_diff_dict[y, warp_pos_x] = [speed]"
   ]
  },
  {
   "cell_type": "code",
   "execution_count": 50,
   "id": "e287eb97",
   "metadata": {},
   "outputs": [],
   "source": [
    "warped_img = np.zeros(warped_shape)\n",
    "for k in time_diff_dict:\n",
    "    y = k[0]\n",
    "    x = k[1]\n",
    "    if len(time_diff_dict[k]) <= 1:\n",
    "        continue\n",
    "    warped_img[y, x] = np.median(time_diff_dict[k])"
   ]
  },
  {
   "cell_type": "code",
   "execution_count": null,
   "id": "d3ca6679",
   "metadata": {},
   "outputs": [],
   "source": []
  },
  {
   "cell_type": "code",
   "execution_count": 51,
   "id": "60d7b287",
   "metadata": {},
   "outputs": [
    {
     "data": {
      "text/plain": [
       "<matplotlib.image.AxesImage at 0x1fa30f70970>"
      ]
     },
     "execution_count": 51,
     "metadata": {},
     "output_type": "execute_result"
    },
    {
     "data": {
      "image/png": "[encoded data removed]",
      "text/plain": [
       "<Figure size 720x720 with 1 Axes>"
      ]
     },
     "metadata": {
      "needs_background": "light"
     },
     "output_type": "display_data"
    }
   ],
   "source": [
    "%matplotlib inline\n",
    "#time_diff_fil = np.ma.masked_where(time_difference < 2, time_difference)\n",
    "plt.figure(figsize=(10, 10))\n",
    "plt.imshow(warped_img, cmap=\"jet\", interpolation=\"none\")"
   ]
  },
  {
   "cell_type": "code",
   "execution_count": 52,
   "id": "6205b807",
   "metadata": {},
   "outputs": [
    {
     "data": {
      "image/png": "[encoded data removed]",
      "text/plain": [
       "<Figure size 432x288 with 1 Axes>"
      ]
     },
     "metadata": {
      "needs_background": "light"
     },
     "output_type": "display_data"
    }
   ],
   "source": [
    "plt.hist(warped_img.flatten(), 100, range=(1, 1000));"
   ]
  },
  {
   "cell_type": "code",
   "execution_count": 53,
   "id": "bbd6fd00",
   "metadata": {},
   "outputs": [
    {
     "data": {
      "text/plain": [
       "<matplotlib.image.AxesImage at 0x1fa30e174f0>"
      ]
     },
     "execution_count": 53,
     "metadata": {},
     "output_type": "execute_result"
    },
    {
     "data": {
      "image/png": "[encoded data removed]",
      "text/plain": [
       "<Figure size 432x288 with 1 Axes>"
      ]
     },
     "metadata": {
      "needs_background": "light"
     },
     "output_type": "display_data"
    }
   ],
   "source": [
    "plt.imshow(img_from_events(events))"
   ]
  },
  {
   "cell_type": "code",
   "execution_count": 54,
   "id": "eb54a0f8",
   "metadata": {},
   "outputs": [],
   "source": [
    "conv_shape = (2, 2)\n",
    "conv_stride = conv_shape\n",
    "result_shape = (int(warped_img.shape[0]/conv_stride[0]), int(warped_img.shape[1]/conv_stride[1]))\n",
    "dict_px = {} \n",
    "dict_t = {}\n",
    "for x in range(warped_img.shape[1]):\n",
    "    for y in range(warped_img.shape[0]):\n",
    "        if warped_img[y, x] == 0:\n",
    "            continue\n",
    "\n",
    "        x_c = int(x / conv_stride[0])\n",
    "        y_c = int(y / conv_stride[1])\n",
    "\n",
    "        if (y_c, x_c) in dict_px:\n",
    "            dict_px[y_c, x_c].append(warped_img[y, x])\n",
    "        else:\n",
    "            dict_px[y_c, x_c] = [warped_img[y, x]]"
   ]
  },
  {
   "cell_type": "code",
   "execution_count": 55,
   "id": "af6360a4",
   "metadata": {},
   "outputs": [],
   "source": [
    "time_diff_med = np.zeros(result_shape)\n",
    "for k in dict_px:\n",
    "    y = k[0]\n",
    "    x = k[1]\n",
    "    if len(dict_px[k]) <= 1:\n",
    "        continue\n",
    "    time_diff_med[y, x] = np.median(dict_px[k])"
   ]
  },
  {
   "cell_type": "code",
   "execution_count": 56,
   "id": "c73c38bb",
   "metadata": {},
   "outputs": [
    {
     "data": {
      "image/png": "[encoded data removed]",
      "text/plain": [
       "<Figure size 720x720 with 1 Axes>"
      ]
     },
     "metadata": {
      "needs_background": "light"
     },
     "output_type": "display_data"
    }
   ],
   "source": [
    "%matplotlib inline\n",
    "plt.figure(figsize=(10, 10))\n",
    "m = plt.imshow(time_diff_med, cmap=\"jet\")\n",
    "#plt.colorbar(mappable=m)"
   ]
  },
  {
   "cell_type": "code",
   "execution_count": 57,
   "id": "12df22d7",
   "metadata": {},
   "outputs": [
    {
     "data": {
      "image/png": "[encoded data removed]",
      "text/plain": [
       "<Figure size 720x720 with 1 Axes>"
      ]
     },
     "metadata": {
      "needs_background": "light"
     },
     "output_type": "display_data"
    }
   ],
   "source": [
    "# time_diff_med_m = np.ma.masked_where(time_diff_med<=0, time_diff_med)\n",
    "time_diff_med_m = np.ma.masked_where(warped_img<=0, warped_img)\n",
    "u = time_diff_med_m\n",
    "\n",
    "v = 0.2901460156636141\n",
    "f = 335.419462958\n",
    "\n",
    "d = np.divide(f, u, where=u>0.0) * v\n",
    "\n",
    "plt.figure(figsize=(10, 10))\n",
    "m = plt.imshow(d, cmap=\"jet_r\", vmin=0, interpolation=\"none\")\n",
    "#plt.colorbar(m)"
   ]
  },
  {
   "cell_type": "code",
   "execution_count": 58,
   "id": "79c1a1c7",
   "metadata": {},
   "outputs": [],
   "source": [
    "points = []\n",
    "for x in range(d.shape[1]):\n",
    "    for y in range(d.shape[0]):\n",
    "        if d.mask[y, x] or d.data[y, x] > 30:\n",
    "            continue\n",
    "        points.append([x, y, d.data[y, x]])\n",
    "points = np.array(points)"
   ]
  },
  {
   "cell_type": "code",
   "execution_count": 59,
   "id": "e7cae069",
   "metadata": {},
   "outputs": [],
   "source": [
    "def set_axes_equal(ax):\n",
    "    '''Make axes of 3D plot have equal scale so that spheres appear as spheres,\n",
    "    cubes as cubes, etc..  This is one possible solution to Matplotlib's\n",
    "    ax.set_aspect('equal') and ax.axis('equal') not working for 3D.\n",
    "\n",
    "    Input\n",
    "      ax: a matplotlib axis, e.g., as output from plt.gca().\n",
    "    '''\n",
    "\n",
    "    x_limits = ax.get_xlim3d()\n",
    "    y_limits = ax.get_ylim3d()\n",
    "    z_limits = ax.get_zlim3d()\n",
    "\n",
    "    x_range = abs(x_limits[1] - x_limits[0])\n",
    "    x_middle = np.mean(x_limits)\n",
    "    y_range = abs(y_limits[1] - y_limits[0])\n",
    "    y_middle = np.mean(y_limits)\n",
    "    z_range = abs(z_limits[1] - z_limits[0])\n",
    "    z_middle = np.mean(z_limits)\n",
    "\n",
    "    # The plot bounding box is a sphere in the sense of the infinity\n",
    "    # norm, hence I call half the max range the plot radius.\n",
    "    plot_radius = 0.5*max([x_range, y_range, z_range])\n",
    "\n",
    "    ax.set_xlim3d([x_middle - plot_radius, x_middle + plot_radius])\n",
    "    ax.set_ylim3d([y_middle - plot_radius, y_middle + plot_radius])\n",
    "    ax.set_zlim3d([z_middle - plot_radius, z_middle + plot_radius])"
   ]
  },
  {
   "cell_type": "code",
   "execution_count": 60,
   "id": "a77b5f3f",
   "metadata": {},
   "outputs": [],
   "source": [
    "%matplotlib qt\n",
    "fig = plt.figure(figsize=(10,10))\n",
    "ax = fig.add_subplot(projection='3d')\n",
    "ax.scatter(points[:,0], points[:,1], points[:,2],s=10, c=points[:,2], cmap=\"jet_r\", vmin=0, vmax=3)\n",
    "set_axes_equal(ax)\n",
    "ax.set_zlim3d([0, 3])\n",
    "plt.show()"
   ]
  },
  {
   "cell_type": "markdown",
   "id": "1ba4a52b",
   "metadata": {},
   "source": [
    "# Conv on the input spikes to reduce variability for fast motions\n",
    "\n",
    "We can see above that for fast motions, the velocity varies a lot, making the warped image very \"spread out\" compared to slower motion. A convolution on the input spikes may help mitigating this effect"
   ]
  },
  {
   "cell_type": "code",
   "execution_count": null,
   "id": "2eb7f5f8",
   "metadata": {},
   "outputs": [],
   "source": [
    "#perform the convolution\n",
    "shape = (180, 180)\n",
    "conv_stride = (2, 2)\n",
    "conv_shape = (2, 2)\n",
    "result_shape = (int(shape[0]/conv_stride[0]), int(shape[1]/conv_stride[1]))\n",
    "spk_count = np.zeros(result_shape)\n",
    "time_count = np.zeros(result_shape)\n",
    "spk_thresh = conv_shape[0]*conv_shape[1]*0.5\n",
    "events_conv = []\n",
    "for e in events:\n",
    "    if e[3] == 1:\n",
    "        continue\n",
    "    x = int(e[1])\n",
    "    y = int(e[2])\n",
    "\n",
    "    x_c = int(x / conv_stride[0])\n",
    "    y_c = int(y / conv_stride[1])\n",
    "\n",
    "    spk_count[y_c, x_c] += 1\n",
    "    time_count[y_c, x_c] += e[0]\n",
    "    \n",
    "    if spk_count[y_c, x_c] >= spk_thresh:\n",
    "        time_avg = time_count[y_c, x_c] / spk_count[y_c, x_c]\n",
    "        events_conv.append([time_avg, x_c, y_c, e[3]])\n",
    "        spk_count[y_c, x_c] = 0\n",
    "        time_count[y_c, x_c] = 0\n",
    "events_conv = np.array(events_conv)"
   ]
  },
  {
   "cell_type": "code",
   "execution_count": null,
   "id": "a0ddeaa7",
   "metadata": {},
   "outputs": [],
   "source": [
    "shape = result_shape"
   ]
  },
  {
   "cell_type": "code",
   "execution_count": null,
   "id": "167d4cf9",
   "metadata": {},
   "outputs": [],
   "source": [
    "t_start = events[0, 0]"
   ]
  },
  {
   "cell_type": "code",
   "execution_count": null,
   "id": "a7b4de39",
   "metadata": {},
   "outputs": [],
   "source": [
    "last_time = np.zeros(shape)\n",
    "time_diff_dict = {}\n",
    "dist = 7\n",
    "warped_shape = (int(180/conv_stride[0]), 600)\n",
    "for e in events_conv:\n",
    "    if e[3] == 1:\n",
    "        continue\n",
    "    \n",
    "    x = int(e[1])\n",
    "    y = int(e[2])\n",
    "    \n",
    "    last_time[y, x] = e[0]\n",
    "    \n",
    "    if x >= shape[1] - dist:\n",
    "        continue\n",
    "    \n",
    "    if last_time[y, x+dist] != 0:\n",
    "        if e[0] - last_time[y, x+dist] <= 0:\n",
    "            continue\n",
    "        speed = dist/(e[0] - last_time[y, x+dist])\n",
    "        warp_pos_x = int(x + (e[0] - t_start) * speed)\n",
    "        if warp_pos_x >= warped_shape[1]:\n",
    "            continue\n",
    "        if (y, warp_pos_x) in time_diff_dict:\n",
    "            time_diff_dict[y, warp_pos_x].append(speed)\n",
    "        else:\n",
    "            time_diff_dict[y, warp_pos_x] = [speed]"
   ]
  },
  {
   "cell_type": "code",
   "execution_count": null,
   "id": "3fa45b0e",
   "metadata": {},
   "outputs": [],
   "source": [
    "%matplotlib inline\n",
    "plt.imshow(img_from_events(events_conv))"
   ]
  },
  {
   "cell_type": "code",
   "execution_count": null,
   "id": "86dce4b7",
   "metadata": {},
   "outputs": [],
   "source": [
    "warped_img = np.zeros(warped_shape)\n",
    "for k in time_diff_dict:\n",
    "    y = k[0]\n",
    "    x = k[1]\n",
    "    if len(time_diff_dict[k]) <= 2:\n",
    "        continue\n",
    "    warped_img[y, x] = np.median(time_diff_dict[k])"
   ]
  },
  {
   "cell_type": "code",
   "execution_count": null,
   "id": "882af1cf",
   "metadata": {},
   "outputs": [],
   "source": [
    "#time_diff_fil = np.ma.masked_where(time_difference < 2, time_difference)\n",
    "plt.figure(figsize=(20, 20))\n",
    "plt.imshow(warped_img, cmap=\"jet\")"
   ]
  },
  {
   "cell_type": "code",
   "execution_count": null,
   "id": "11e8a449",
   "metadata": {},
   "outputs": [],
   "source": [
    "plt.hist(warped_img.flatten(), 100, range=(0.1, 1000));"
   ]
  },
  {
   "cell_type": "code",
   "execution_count": null,
   "id": "e3ecd25a",
   "metadata": {},
   "outputs": [],
   "source": []
  },
  {
   "cell_type": "code",
   "execution_count": null,
   "id": "a8981f49",
   "metadata": {},
   "outputs": [],
   "source": []
  }
 ],
 "metadata": {
  "kernelspec": {
   "display_name": "Python 3 (ipykernel)",
   "language": "python",
   "name": "python3"
  },
  "language_info": {
   "codemirror_mode": {
    "name": "ipython",
    "version": 3
   },
   "file_extension": ".py",
   "mimetype": "text/x-python",
   "name": "python",
   "nbconvert_exporter": "python",
   "pygments_lexer": "ipython3",
   "version": "3.9.7"
  }
 },
 "nbformat": 4,
 "nbformat_minor": 5
}
