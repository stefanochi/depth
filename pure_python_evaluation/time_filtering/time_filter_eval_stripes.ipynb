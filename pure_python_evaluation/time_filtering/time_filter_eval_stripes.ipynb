{
 "cells": [
  {
   "cell_type": "code",
   "execution_count": 1,
   "id": "8c49cde8",
   "metadata": {},
   "outputs": [
    {
     "name": "stdout",
     "output_type": "stream",
     "text": [
      "Jupyter environment detected. Enabling Open3D WebVisualizer.\n",
      "[Open3D INFO] WebRTC GUI backend enabled.\n",
      "[Open3D INFO] WebRTCWindowSystem: HTTP handshake server disabled.\n"
     ]
    }
   ],
   "source": [
    "%load_ext autoreload\n",
    "%autoreload 2\n",
    "import sys\n",
    "\n",
    "path = \"C:/Users/schiavaz/lava-nc/depth/\"\n",
    "sys.path.append(path)\n",
    "\n",
    "import numpy as np\n",
    "import matplotlib.pyplot as plt\n",
    "import cv2 as cv\n",
    "import open3d as o3d\n",
    "import scipy.io\n",
    "\n",
    "import events_utils.filter as flt\n",
    "import events_utils.visualize as vis\n",
    "import events_utils.time_difference as td"
   ]
  },
  {
   "cell_type": "code",
   "execution_count": 206,
   "id": "f94c9763",
   "metadata": {},
   "outputs": [],
   "source": [
    "events_raw = scipy.io.loadmat(path + \"/data/stripes.mat\")\n",
    "events_rel = events_raw[\"events\"]\n",
    "events = np.zeros(events_rel.shape)\n",
    "events[:,0] = events_rel[:,3] * 10e-6\n",
    "events[:,1:] = events_rel[:,:3]\n",
    "\n",
    "events_raw = events"
   ]
  },
  {
   "cell_type": "code",
   "execution_count": 207,
   "id": "1d12498e",
   "metadata": {},
   "outputs": [
    {
     "data": {
      "text/plain": [
       "<matplotlib.collections.PathCollection at 0x1aedbe2c730>"
      ]
     },
     "execution_count": 207,
     "metadata": {},
     "output_type": "execute_result"
    },
    {
     "data": {
      "image/png": "[encoded data removed]",
      "text/plain": [
       "<Figure size 432x288 with 1 Axes>"
      ]
     },
     "metadata": {
      "needs_background": "light"
     },
     "output_type": "display_data"
    }
   ],
   "source": [
    "px = events_raw[np.logical_and(events_raw[:,2]==100, events_raw[:,1] == 10)]\n",
    "plt.scatter(px[:,0], np.ones(px[:,0].shape), s=5)"
   ]
  },
  {
   "cell_type": "code",
   "execution_count": 227,
   "id": "d6e266e1",
   "metadata": {},
   "outputs": [],
   "source": [
    "events_ref = flt.filter_refract(events_raw, 0.5)\n"
   ]
  },
  {
   "cell_type": "code",
   "execution_count": 290,
   "id": "7f4f1eb6",
   "metadata": {},
   "outputs": [
    {
     "data": {
      "text/plain": [
       "(6881, 4)"
      ]
     },
     "execution_count": 290,
     "metadata": {},
     "output_type": "execute_result"
    }
   ],
   "source": [
    "start_time = 0.5\n",
    "duration = 0.5\n",
    "events_t = flt.filter_time(events_ref, start_time, start_time+duration)\n",
    "events_t.shape"
   ]
  },
  {
   "cell_type": "code",
   "execution_count": 291,
   "id": "df02431b",
   "metadata": {},
   "outputs": [
    {
     "data": {
      "text/plain": [
       "<matplotlib.collections.PathCollection at 0x1aedf328d30>"
      ]
     },
     "execution_count": 291,
     "metadata": {},
     "output_type": "execute_result"
    }
   ],
   "source": [
    "px = events_t[np.logical_and(events_t[:,2]==100, events_t[:,1] == 67)]\n",
    "plt.scatter(px[:,0], np.ones(px[:,0].shape), s=5)"
   ]
  },
  {
   "cell_type": "code",
   "execution_count": 292,
   "id": "9f3e8482",
   "metadata": {},
   "outputs": [
    {
     "data": {
      "text/plain": [
       "<matplotlib.collections.PathCollection at 0x1aedfd155e0>"
      ]
     },
     "execution_count": 292,
     "metadata": {},
     "output_type": "execute_result"
    }
   ],
   "source": [
    "px = events_t[np.logical_and(events_t[:,2]==100, events_t[:,1] == 66)]\n",
    "plt.scatter(px[:,0], np.ones(px[:,0].shape), s=5)"
   ]
  },
  {
   "cell_type": "code",
   "execution_count": 323,
   "id": "83b62a00",
   "metadata": {},
   "outputs": [
    {
     "data": {
      "text/plain": [
       "(83, 4)"
      ]
     },
     "execution_count": 323,
     "metadata": {},
     "output_type": "execute_result"
    }
   ],
   "source": [
    "patch_center = (100, 59)\n",
    "patch_size = 10\n",
    "shape = (patch_size, patch_size)\n",
    "events = flt.filter_patch(events_t, patch_center, patch_size)\n",
    "events.shape"
   ]
  },
  {
   "cell_type": "code",
   "execution_count": 324,
   "id": "f3c8a3e7",
   "metadata": {},
   "outputs": [
    {
     "data": {
      "text/plain": [
       "<matplotlib.colorbar.Colorbar at 0x1aeebcc6b20>"
      ]
     },
     "execution_count": 324,
     "metadata": {},
     "output_type": "execute_result"
    },
    {
     "data": {
      "image/png": "[encoded data removed]",
      "text/plain": [
       "<Figure size 720x720 with 2 Axes>"
      ]
     },
     "metadata": {
      "needs_background": "light"
     },
     "output_type": "display_data"
    }
   ],
   "source": [
    "%matplotlib inline\n",
    "plt.figure(figsize=(10, 10))\n",
    "img = vis.events2time_surf(events, shape, filter_polarity=False)\n",
    "img_m = np.ma.masked_where(img == 0, img)\n",
    "m = plt.imshow(img_m, interpolation=\"none\")\n",
    "plt.colorbar(mappable=m)"
   ]
  },
  {
   "cell_type": "code",
   "execution_count": 325,
   "id": "cdf63308",
   "metadata": {},
   "outputs": [
    {
     "data": {
      "text/plain": [
       "<mpl_toolkits.mplot3d.art3d.Path3DCollection at 0x1aeebd5cfd0>"
      ]
     },
     "execution_count": 325,
     "metadata": {},
     "output_type": "execute_result"
    }
   ],
   "source": [
    "%matplotlib qt\n",
    "fig = plt.figure(figsize=(10, 10))\n",
    "ax = fig.add_subplot(projection='3d')\n",
    "ax.scatter(events[:,0], events[:,1], events[:,2])"
   ]
  },
  {
   "cell_type": "code",
   "execution_count": 326,
   "id": "29605b3f",
   "metadata": {},
   "outputs": [],
   "source": [
    "time_diff = td.compute_time_difference(events, shape, polarity=1, dist=1) / 1"
   ]
  },
  {
   "cell_type": "code",
   "execution_count": 327,
   "id": "80b38d88",
   "metadata": {},
   "outputs": [
    {
     "data": {
      "text/plain": [
       "<matplotlib.colorbar.Colorbar at 0x1aeed345f10>"
      ]
     },
     "execution_count": 327,
     "metadata": {},
     "output_type": "execute_result"
    },
    {
     "data": {
      "image/png": "[encoded data removed]",
      "text/plain": [
       "<Figure size 720x720 with 2 Axes>"
      ]
     },
     "metadata": {
      "needs_background": "light"
     },
     "output_type": "display_data"
    }
   ],
   "source": [
    "%matplotlib inline\n",
    "plt.figure(figsize=(10, 10))\n",
    "img_m = np.ma.masked_where(time_diff == 0, time_diff)\n",
    "m = plt.imshow(img_m, interpolation=\"none\")\n",
    "plt.colorbar(mappable=m)"
   ]
  },
  {
   "cell_type": "code",
   "execution_count": 328,
   "id": "f4c6d177",
   "metadata": {},
   "outputs": [
    {
     "data": {
      "image/png": "[encoded data removed]",
      "text/plain": [
       "<Figure size 432x288 with 1 Axes>"
      ]
     },
     "metadata": {
      "needs_background": "light"
     },
     "output_type": "display_data"
    }
   ],
   "source": [
    "plt.hist(img_m.compressed(), 50);"
   ]
  },
  {
   "cell_type": "code",
   "execution_count": 329,
   "id": "65d257f4",
   "metadata": {},
   "outputs": [],
   "source": [
    "td_warped = td.compute_time_difference_warped(events, shape, start_time, shape, polarity=1, filter_polarity=True)\n",
    "td_w_median, count_med = td.median_from_dict(td_warped, shape, 1)\n",
    "td_w_mean, cont_mean = td.mean_from_dict(td_warped, shape, 1)"
   ]
  },
  {
   "cell_type": "code",
   "execution_count": 330,
   "id": "e2dfd6d6",
   "metadata": {},
   "outputs": [
    {
     "data": {
      "text/plain": [
       "<matplotlib.colorbar.Colorbar at 0x1aeed6c2100>"
      ]
     },
     "execution_count": 330,
     "metadata": {},
     "output_type": "execute_result"
    },
    {
     "data": {
      "image/png": "[encoded data removed]",
      "text/plain": [
       "<Figure size 720x720 with 2 Axes>"
      ]
     },
     "metadata": {
      "needs_background": "light"
     },
     "output_type": "display_data"
    }
   ],
   "source": [
    "%matplotlib inline\n",
    "plt.figure(figsize=(10, 10))\n",
    "img_m = np.ma.masked_where(td_w_median == 0, td_w_median)\n",
    "m = plt.imshow(img_m, interpolation=\"none\")\n",
    "plt.colorbar(mappable=m)"
   ]
  },
  {
   "cell_type": "code",
   "execution_count": 331,
   "id": "a774bc70",
   "metadata": {},
   "outputs": [
    {
     "data": {
      "text/plain": [
       "<matplotlib.colorbar.Colorbar at 0x1aeed76e4f0>"
      ]
     },
     "execution_count": 331,
     "metadata": {},
     "output_type": "execute_result"
    },
    {
     "data": {
      "image/png": "[encoded data removed]",
      "text/plain": [
       "<Figure size 720x720 with 2 Axes>"
      ]
     },
     "metadata": {
      "needs_background": "light"
     },
     "output_type": "display_data"
    }
   ],
   "source": [
    "%matplotlib inline\n",
    "plt.figure(figsize=(10, 10))\n",
    "img_m = np.ma.masked_where(count_med == 0, count_med)\n",
    "m = plt.imshow(img_m, interpolation=\"none\")\n",
    "plt.colorbar(mappable=m)"
   ]
  },
  {
   "cell_type": "code",
   "execution_count": 342,
   "id": "e058cac4",
   "metadata": {},
   "outputs": [],
   "source": [
    "row = 2\n",
    "last_time = np.full(shape, -1.0)\n",
    "td_predictions = {}\n",
    "predictions = {}\n",
    "px_range_pred = 5\n",
    "dist = 1\n",
    "for e in events:\n",
    "#     if e[2] != row:\n",
    "#         continue\n",
    "    x = int(e[1])\n",
    "    y = int(e[2])\n",
    "    \n",
    "    last_time[y, x] = e[0]\n",
    "    \n",
    "    if x >= shape[1]-dist:\n",
    "        continue\n",
    "    if last_time[y, x+dist] == -1:\n",
    "        continue\n",
    "            \n",
    "    time_difference = (last_time[y, x] - last_time[y, x+dist]) / dist\n",
    "    #rint(time_difference)\n",
    "    \n",
    "    for i in range(1, px_range_pred +1):\n",
    "        for k in range(-int(px_range_pred / 2), int(px_range_pred / 2)):\n",
    "            y_p = y + k\n",
    "            x_p = x - i\n",
    "            pred_time = last_time[y, x] + time_difference * i\n",
    "\n",
    "            if x_p < 0 or y_p < 0 or y_p >= shape[0]:\n",
    "                continue\n",
    "\n",
    "            if (y_p, x_p) in predictions:\n",
    "                predictions[y_p, x_p].append(pred_time)\n",
    "                td_predictions[y_p, x_p].append(time_difference)\n",
    "            else:\n",
    "                predictions[y_p, x_p] = [pred_time]\n",
    "                td_predictions[y_p, x_p] = [time_difference]\n",
    "    "
   ]
  },
  {
   "cell_type": "code",
   "execution_count": 343,
   "id": "95295123",
   "metadata": {},
   "outputs": [
    {
     "data": {
      "text/plain": [
       "dict_keys([(4, 6), (5, 6), (6, 6), (7, 6), (4, 5), (5, 5), (6, 5), (7, 5), (4, 4), (5, 4), (6, 4), (7, 4), (4, 3), (5, 3), (6, 3), (7, 3), (4, 2), (5, 2), (6, 2), (7, 2), (8, 6), (8, 5), (8, 4), (8, 3), (8, 2), (1, 6), (2, 6), (3, 6), (1, 5), (2, 5), (3, 5), (1, 4), (2, 4), (3, 4), (1, 3), (2, 3), (3, 3), (1, 2), (2, 2), (3, 2), (0, 6), (0, 5), (0, 4), (0, 3), (0, 2), (9, 5), (9, 4), (9, 3), (9, 2), (6, 1), (7, 1), (8, 1), (9, 1), (1, 1), (2, 1), (3, 1), (4, 1), (5, 1), (0, 1), (1, 0), (2, 0), (3, 0), (4, 0), (0, 0), (5, 0), (6, 0), (7, 0), (8, 0), (9, 0)])"
      ]
     },
     "execution_count": 343,
     "metadata": {},
     "output_type": "execute_result"
    }
   ],
   "source": [
    "predictions.keys()"
   ]
  },
  {
   "cell_type": "code",
   "execution_count": 344,
   "id": "63255183",
   "metadata": {},
   "outputs": [
    {
     "data": {
      "text/plain": [
       "10"
      ]
     },
     "execution_count": 344,
     "metadata": {},
     "output_type": "execute_result"
    }
   ],
   "source": [
    "len(predictions[9, 0])"
   ]
  },
  {
   "cell_type": "code",
   "execution_count": 345,
   "id": "560a6c57",
   "metadata": {},
   "outputs": [
    {
     "data": {
      "text/plain": [
       "<matplotlib.lines.Line2D at 0x1aeef1abdf0>"
      ]
     },
     "execution_count": 345,
     "metadata": {},
     "output_type": "execute_result"
    },
    {
     "data": {
      "image/png": "[encoded data removed]",
      "text/plain": [
       "<Figure size 432x288 with 1 Axes>"
      ]
     },
     "metadata": {
      "needs_background": "light"
     },
     "output_type": "display_data"
    }
   ],
   "source": [
    "plt.hist(predictions[9, 0], 10);\n",
    "\n",
    "t = events[np.logical_and(events[:,1] == 0, events[:,2]==9)][0,0]\n",
    "\n",
    "mean = np.mean(predictions[9, 0])\n",
    "median = np.median(predictions[9, 0])\n",
    "\n",
    "plt.axvline(x=t, color=\"red\", label=\"mean\")\n",
    "plt.axvline(x=mean, color=\"yellow\", label=\"mean\")\n",
    "plt.axvline(x=median, color=\"green\", label=\"mean\")"
   ]
  },
  {
   "cell_type": "code",
   "execution_count": 346,
   "id": "a0761254",
   "metadata": {},
   "outputs": [
    {
     "data": {
      "text/plain": [
       "<matplotlib.lines.Line2D at 0x1aeef438eb0>"
      ]
     },
     "execution_count": 346,
     "metadata": {},
     "output_type": "execute_result"
    },
    {
     "data": {
      "image/png": "[encoded data removed]",
      "text/plain": [
       "<Figure size 432x288 with 1 Axes>"
      ]
     },
     "metadata": {
      "needs_background": "light"
     },
     "output_type": "display_data"
    }
   ],
   "source": [
    "plt.hist(td_predictions[9, 0], 20);\n",
    "\n",
    "#t = events[np.logical_and(events[:,1] == 0, events[:,2]==2)][0,0]\n",
    "\n",
    "mean = np.mean(td_predictions[9, 0])\n",
    "median = np.median(td_predictions[9, 0])\n",
    "\n",
    "#plt.axvline(x=t, color=\"red\", label=\"mean\")\n",
    "plt.axvline(x=mean, color=\"yellow\", label=\"mean\")\n",
    "plt.axvline(x=median, color=\"green\", label=\"mean\")"
   ]
  },
  {
   "cell_type": "code",
   "execution_count": 347,
   "id": "6ac1b86a",
   "metadata": {},
   "outputs": [
    {
     "data": {
      "text/plain": [
       "0.9916200000000001"
      ]
     },
     "execution_count": 347,
     "metadata": {},
     "output_type": "execute_result"
    }
   ],
   "source": [
    "events[np.logical_and(events[:,1] == 0, events[:,2]==2)][0, 0]"
   ]
  },
  {
   "cell_type": "code",
   "execution_count": 349,
   "id": "78f9fa69",
   "metadata": {},
   "outputs": [],
   "source": [
    "u = 1.0 / 0.02\n",
    "\n",
    "v = 0.2901460156636141\n",
    "f = 335.419462958\n",
    "\n",
    "d = f / u * v"
   ]
  },
  {
   "cell_type": "code",
   "execution_count": 350,
   "id": "e7769fc5",
   "metadata": {},
   "outputs": [
    {
     "data": {
      "text/plain": [
       "1.9464124150658577"
      ]
     },
     "execution_count": 350,
     "metadata": {},
     "output_type": "execute_result"
    }
   ],
   "source": [
    "d"
   ]
  },
  {
   "cell_type": "code",
   "execution_count": 146,
   "id": "ad7e456d",
   "metadata": {},
   "outputs": [
    {
     "data": {
      "text/plain": [
       "2.9196186225987866"
      ]
     },
     "execution_count": 146,
     "metadata": {},
     "output_type": "execute_result"
    }
   ],
   "source": [
    "u = 1.0 / 0.03\n",
    "\n",
    "v = 0.2901460156636141\n",
    "f = 335.419462958\n",
    "\n",
    "d = f / u * v\n",
    "d"
   ]
  },
  {
   "cell_type": "code",
   "execution_count": 147,
   "id": "a8caaf25",
   "metadata": {},
   "outputs": [
    {
     "data": {
      "text/plain": [
       "1.9464124150658577"
      ]
     },
     "execution_count": 147,
     "metadata": {},
     "output_type": "execute_result"
    }
   ],
   "source": [
    "u = 1.0 / 0.02\n",
    "\n",
    "v = 0.2901460156636141\n",
    "f = 335.419462958\n",
    "\n",
    "d = f / u * v\n",
    "d"
   ]
  },
  {
   "cell_type": "code",
   "execution_count": 348,
   "id": "d5485e04",
   "metadata": {},
   "outputs": [
    {
     "name": "stdout",
     "output_type": "stream",
     "text": [
      "973.2062075329288\n",
      "40.550258647205375\n"
     ]
    }
   ],
   "source": [
    "v = 0.2901460156636141\n",
    "f = 335.419462958\n",
    "\n",
    "d_min = 0.1\n",
    "d_max = 2.4\n",
    "\n",
    "u_min = (v / d_min) * f\n",
    "u_max = (v / d_max) * f\n",
    "\n",
    "print(u_min)\n",
    "print(u_max)"
   ]
  },
  {
   "cell_type": "code",
   "execution_count": 253,
   "id": "1cf27af9",
   "metadata": {},
   "outputs": [
    {
     "name": "stdout",
     "output_type": "stream",
     "text": [
      "0.0010275314648218216\n",
      "0.02466075515572371\n"
     ]
    }
   ],
   "source": [
    "td_min = 1 / u_min\n",
    "td_max = 1 / u_max\n",
    "\n",
    "print(td_min)\n",
    "print(td_max)"
   ]
  },
  {
   "cell_type": "code",
   "execution_count": 249,
   "id": "4aafe6d2",
   "metadata": {},
   "outputs": [
    {
     "name": "stdout",
     "output_type": "stream",
     "text": [
      "[0.00102753 0.00132853 0.00162952 0.00193051 0.00223151 0.0025325\n",
      " 0.0028335  0.00313449 0.00343548 0.00373648 0.00403747 0.00433847\n",
      " 0.00463946 0.00494045 0.00524145 0.00554244 0.00584344 0.00614443\n",
      " 0.00644542 0.00674642 0.00704741 0.00734841 0.0076494  0.00795039\n",
      " 0.00825139 0.00855238 0.00885338 0.00915437 0.00945537 0.00975636\n",
      " 0.01005735 0.01035835 0.01065934 0.01096034 0.01126133 0.01156232\n",
      " 0.01186332 0.01216431 0.01246531 0.0127663  0.01306729 0.01336829\n",
      " 0.01366928 0.01397028 0.01427127 0.01457226 0.01487326 0.01517425\n",
      " 0.01547525 0.01577624 0.01607723 0.01637823 0.01667922 0.01698022\n",
      " 0.01728121 0.01758221 0.0178832  0.01818419 0.01848519 0.01878618\n",
      " 0.01908718 0.01938817 0.01968916 0.01999016 0.02029115 0.02059215\n",
      " 0.02089314 0.02119413 0.02149513 0.02179612 0.02209712 0.02239811\n",
      " 0.0226991  0.0230001  0.02330109 0.02360209 0.02390308 0.02420407\n",
      " 0.02450507 0.02480606 0.02510706 0.02540805 0.02570904 0.02601004\n",
      " 0.02631103 0.02661203 0.02691302 0.02721402 0.02751501 0.027816\n",
      " 0.028117   0.02841799 0.02871899 0.02901998 0.02932097 0.02962197\n",
      " 0.02992296 0.03022396 0.03052495 0.03082594]\n"
     ]
    }
   ],
   "source": [
    "d = np.linspace(0.1, 3, 100)\n",
    "\n",
    "u = (v / d) * f\n",
    "t = 1 / u\n",
    "print(t)"
   ]
  },
  {
   "cell_type": "code",
   "execution_count": 217,
   "id": "2ce21729",
   "metadata": {},
   "outputs": [
    {
     "data": {
      "text/plain": [
       "[<matplotlib.lines.Line2D at 0x233154df7c0>]"
      ]
     },
     "execution_count": 217,
     "metadata": {},
     "output_type": "execute_result"
    },
    {
     "data": {
      "image/png": "[encoded data removed]",
      "text/plain": [
       "<Figure size 432x288 with 1 Axes>"
      ]
     },
     "metadata": {
      "needs_background": "light"
     },
     "output_type": "display_data"
    }
   ],
   "source": [
    "plt.plot(d, t)"
   ]
  },
  {
   "cell_type": "code",
   "execution_count": 176,
   "id": "0358384a",
   "metadata": {},
   "outputs": [
    {
     "data": {
      "text/plain": [
       "<matplotlib.image.AxesImage at 0x1aedb8f9370>"
      ]
     },
     "execution_count": 176,
     "metadata": {},
     "output_type": "execute_result"
    },
    {
     "data": {
      "image/png": "[encoded data removed]",
      "text/plain": [
       "<Figure size 432x288 with 1 Axes>"
      ]
     },
     "metadata": {
      "needs_background": "light"
     },
     "output_type": "display_data"
    }
   ],
   "source": [
    "plt.imshow(last_time)"
   ]
  },
  {
   "cell_type": "code",
   "execution_count": 322,
   "id": "d3fc2c47",
   "metadata": {},
   "outputs": [
    {
     "data": {
      "text/plain": [
       "array([], shape=(0, 4), dtype=float64)"
      ]
     },
     "execution_count": 322,
     "metadata": {},
     "output_type": "execute_result"
    }
   ],
   "source": [
    "events[np.logical_and(events[:,1] == 0, events[:,2]==2)]"
   ]
  },
  {
   "cell_type": "code",
   "execution_count": null,
   "id": "d5b4c0a8",
   "metadata": {},
   "outputs": [],
   "source": []
  }
 ],
 "metadata": {
  "kernelspec": {
   "display_name": "Python 3 (ipykernel)",
   "language": "python",
   "name": "python3"
  },
  "language_info": {
   "codemirror_mode": {
    "name": "ipython",
    "version": 3
   },
   "file_extension": ".py",
   "mimetype": "text/x-python",
   "name": "python",
   "nbconvert_exporter": "python",
   "pygments_lexer": "ipython3",
   "version": "3.8.10"
  }
 },
 "nbformat": 4,
 "nbformat_minor": 5
}
