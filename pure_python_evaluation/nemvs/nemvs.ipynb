{
 "cells": [
  {
   "cell_type": "code",
   "execution_count": 1,
   "id": "267d9e65",
   "metadata": {},
   "outputs": [
    {
     "name": "stdout",
     "output_type": "stream",
     "text": [
      "Jupyter environment detected. Enabling Open3D WebVisualizer.\n",
      "[Open3D INFO] WebRTC GUI backend enabled.\n",
      "[Open3D INFO] WebRTCWindowSystem: HTTP handshake server disabled.\n"
     ]
    }
   ],
   "source": [
    "%load_ext autoreload\n",
    "%autoreload 2\n",
    "import sys\n",
    "\n",
    "path = \"C:/Users/schiavaz/lava-nc/depth/\"\n",
    "sys.path.append(path)\n",
    "\n",
    "import numpy as np\n",
    "import matplotlib.pyplot as plt\n",
    "import cv2 as cv\n",
    "import open3d as o3d\n",
    "from scipy.spatial.transform import Rotation as R\n",
    "from tqdm import tqdm\n",
    "\n",
    "import events_utils.filter as flt\n",
    "import events_utils.visualize as vis\n",
    "import events_utils.time_difference as td"
   ]
  },
  {
   "cell_type": "code",
   "execution_count": 2,
   "id": "4ac2ffa6",
   "metadata": {},
   "outputs": [],
   "source": [
    "events_raw = np.loadtxt(path + \"data/slider-depth/events.txt\")"
   ]
  },
  {
   "cell_type": "code",
   "execution_count": 43,
   "id": "a715604f",
   "metadata": {},
   "outputs": [],
   "source": [
    "start_time = 0.5\n",
    "duration = 2.0\n",
    "events_t = flt.filter_time(events_raw, start_time, start_time+duration)"
   ]
  },
  {
   "cell_type": "code",
   "execution_count": 44,
   "id": "b649affe",
   "metadata": {},
   "outputs": [],
   "source": [
    "events = events_t\n",
    "shape = (180, 240)"
   ]
  },
  {
   "cell_type": "code",
   "execution_count": 5,
   "id": "16497174",
   "metadata": {},
   "outputs": [],
   "source": [
    "pose_hist = np.loadtxt(path + \"data/slider-depth/groundtruth.txt\")"
   ]
  },
  {
   "cell_type": "code",
   "execution_count": 6,
   "id": "77fc11e9",
   "metadata": {},
   "outputs": [],
   "source": [
    "#TODO undistort events"
   ]
  },
  {
   "cell_type": "code",
   "execution_count": 7,
   "id": "9f06d667",
   "metadata": {},
   "outputs": [],
   "source": [
    "calib = np.loadtxt(path + \"/data/slider-depth/calib.txt\")\n",
    "K = np.array([\n",
    "    [calib[0], 0, calib[2]],\n",
    "    [0, calib[1], calib[3]], \n",
    "    [0, 0, 1]\n",
    "])"
   ]
  },
  {
   "cell_type": "code",
   "execution_count": 8,
   "id": "32f8925a",
   "metadata": {},
   "outputs": [],
   "source": [
    "def get_pose(t, pose_history):\n",
    "    idx = np.searchsorted(pose_hist[:,0], t)\n",
    "    pose = pose_hist[idx -1 if idx > 0 else 0]\n",
    "    \n",
    "    t = pose[1:4].reshape(3, 1)\n",
    "    q = pose[4:] \n",
    "    r = R.from_quat(q).as_matrix()\n",
    "    \n",
    "    return r, t"
   ]
  },
  {
   "cell_type": "code",
   "execution_count": 9,
   "id": "bc54ce6e",
   "metadata": {},
   "outputs": [],
   "source": [
    "def get_pose_matrix(t, pose_history):\n",
    "    idx = np.searchsorted(pose_hist[:,0], t)\n",
    "    pose = pose_hist[idx -1 if idx > 0 else 0]\n",
    "    \n",
    "    t = pose[1:4].reshape(3, 1)\n",
    "    q = pose[4:] \n",
    "    r = R.from_quat(q).as_matrix()\n",
    "    \n",
    "    p_m = np.zeros((4, 4))\n",
    "    p_m[:3, :3] = r\n",
    "    p_m[:3,3] = t.flatten()\n",
    "    p_m[3, 3] = 1\n",
    "    \n",
    "    return p_m"
   ]
  },
  {
   "cell_type": "code",
   "execution_count": 10,
   "id": "9d2b8b24",
   "metadata": {},
   "outputs": [],
   "source": [
    "# dsi_shape = (180, 240, 50)\n",
    "# dsi = np.zeros(dsi_shape)\n",
    "# min_depth = 0.47\n",
    "# max_depth = 2.4\n",
    "# n_depths = 50\n",
    "# inv_depths = np.array([(1 / max_depth) + (i / (n_depths / ((1/min_depth)-(1/max_depth)))) for i in range(n_depths)])\n",
    "# inv_depths = np.flip(inv_depths)\n",
    "# depths = 1/inv_depths\n",
    "# e3 = np.array([0,0,1]).reshape(1, 3)\n",
    "\n",
    "# test_img = np.zeros((180, 240))\n",
    "\n",
    "# t_w_rv = get_pose_matrix(0.0, pose_hist)\n",
    "# t_rv_w = np.linalg.inv(t_w_rv)\n",
    "\n",
    "# for e in tqdm(events):\n",
    "    \n",
    "#     t_w_ev = get_pose_matrix(e[0], pose_hist)\n",
    "#     t_rv_ev = t_rv_w @ t_w_ev\n",
    "#     t_ev_rv = np.linalg.inv(t_rv_ev)\n",
    "    \n",
    "#     r = t_ev_rv[:3,:3]\n",
    "#     t = t_ev_rv[:3,3].reshape(3, 1)\n",
    "    \n",
    "#     C = - np.linalg.inv(r) @ t\n",
    "#     C = np.abs(C)\n",
    "#     H = K @ (r + inv_depths[0] * (t @ e3)) @ np.linalg.inv(K)\n",
    "    \n",
    "#     x = int(e[1])\n",
    "#     y = int(e[2])\n",
    "#     px = np.array([x, y, 1]).reshape(3, 1)\n",
    "    \n",
    "#     pxz = np.linalg.inv(H) @ px\n",
    "#     pxz /= pxz[2][0]\n",
    "    \n",
    "#     #TODO try discrete version\n",
    "#     x0 = pxz[0][0]\n",
    "#     y0 = pxz[1][0]\n",
    "#     z0 = depths[0]\n",
    "    \n",
    "#     if x0 < 0 or x0 > 239 or y0 < 0 or y0 > 179:\n",
    "#         continue\n",
    "    \n",
    "#     #test_img[int(y0), int(x0)] = 1\n",
    "\n",
    "#     for i, zi in enumerate(depths[1:]):\n",
    "#         d = (zi - z0) / (z0 - C[2][0])\n",
    "#         xi = int(z0/zi * d * x0 + 1/zi*(1-d)*C[0][0]*K[0,0])\n",
    "#         yi = int(z0/zi * d * y0 + 1/zi*(1-d)*C[1][0]*K[1, 1])\n",
    "\n",
    "#         if xi < 0 or xi > 239 or yi < 0 or yi > 179:\n",
    "#             continue\n",
    "\n",
    "#         dsi[yi, xi, int(i)] += 1\n",
    "#         #test_img[yi, xi] += 1"
   ]
  },
  {
   "cell_type": "code",
   "execution_count": 11,
   "id": "13502a2f",
   "metadata": {},
   "outputs": [],
   "source": [
    "# points = np.nonzero(dsi > 5)"
   ]
  },
  {
   "cell_type": "code",
   "execution_count": 12,
   "id": "6cc98fcb",
   "metadata": {},
   "outputs": [
    {
     "ename": "NameError",
     "evalue": "name 'points' is not defined",
     "output_type": "error",
     "traceback": [
      "\u001b[1;31m---------------------------------------------------------------------------\u001b[0m",
      "\u001b[1;31mNameError\u001b[0m                                 Traceback (most recent call last)",
      "\u001b[1;32m~\\AppData\\Local\\Temp/ipykernel_8384/1106831334.py\u001b[0m in \u001b[0;36m<module>\u001b[1;34m\u001b[0m\n\u001b[0;32m      2\u001b[0m \u001b[0mfig\u001b[0m \u001b[1;33m=\u001b[0m \u001b[0mplt\u001b[0m\u001b[1;33m.\u001b[0m\u001b[0mfigure\u001b[0m\u001b[1;33m(\u001b[0m\u001b[0mfigsize\u001b[0m\u001b[1;33m=\u001b[0m\u001b[1;33m(\u001b[0m\u001b[1;36m20\u001b[0m\u001b[1;33m,\u001b[0m \u001b[1;36m20\u001b[0m\u001b[1;33m)\u001b[0m\u001b[1;33m)\u001b[0m\u001b[1;33m\u001b[0m\u001b[1;33m\u001b[0m\u001b[0m\n\u001b[0;32m      3\u001b[0m \u001b[0max\u001b[0m \u001b[1;33m=\u001b[0m \u001b[0mfig\u001b[0m\u001b[1;33m.\u001b[0m\u001b[0madd_subplot\u001b[0m\u001b[1;33m(\u001b[0m\u001b[0mprojection\u001b[0m\u001b[1;33m=\u001b[0m\u001b[1;34m'3d'\u001b[0m\u001b[1;33m)\u001b[0m\u001b[1;33m\u001b[0m\u001b[1;33m\u001b[0m\u001b[0m\n\u001b[1;32m----> 4\u001b[1;33m \u001b[0max\u001b[0m\u001b[1;33m.\u001b[0m\u001b[0mscatter\u001b[0m\u001b[1;33m(\u001b[0m\u001b[0mpoints\u001b[0m\u001b[1;33m[\u001b[0m\u001b[1;36m0\u001b[0m\u001b[1;33m]\u001b[0m\u001b[1;33m,\u001b[0m \u001b[0mpoints\u001b[0m\u001b[1;33m[\u001b[0m\u001b[1;36m1\u001b[0m\u001b[1;33m]\u001b[0m\u001b[1;33m,\u001b[0m \u001b[0mpoints\u001b[0m\u001b[1;33m[\u001b[0m\u001b[1;36m2\u001b[0m\u001b[1;33m]\u001b[0m\u001b[1;33m,\u001b[0m \u001b[0ms\u001b[0m\u001b[1;33m=\u001b[0m\u001b[1;36m2\u001b[0m\u001b[1;33m,\u001b[0m \u001b[0mc\u001b[0m\u001b[1;33m=\u001b[0m\u001b[0mpoints\u001b[0m\u001b[1;33m[\u001b[0m\u001b[1;36m2\u001b[0m\u001b[1;33m]\u001b[0m\u001b[1;33m,\u001b[0m \u001b[0mcmap\u001b[0m\u001b[1;33m=\u001b[0m\u001b[1;34m\"jet_r\"\u001b[0m\u001b[1;33m,\u001b[0m \u001b[0mvmin\u001b[0m\u001b[1;33m=\u001b[0m\u001b[1;36m0.5\u001b[0m\u001b[1;33m,\u001b[0m \u001b[0mvmax\u001b[0m\u001b[1;33m=\u001b[0m\u001b[1;36m2.5\u001b[0m\u001b[1;33m)\u001b[0m\u001b[1;33m\u001b[0m\u001b[1;33m\u001b[0m\u001b[0m\n\u001b[0m\u001b[0;32m      5\u001b[0m \u001b[1;31m#ax.set_zlim3d([0.5, 2.5])\u001b[0m\u001b[1;33m\u001b[0m\u001b[1;33m\u001b[0m\u001b[1;33m\u001b[0m\u001b[0m\n\u001b[0;32m      6\u001b[0m \u001b[1;31m#vis._set_axes_equal(ax)\u001b[0m\u001b[1;33m\u001b[0m\u001b[1;33m\u001b[0m\u001b[1;33m\u001b[0m\u001b[0m\n",
      "\u001b[1;31mNameError\u001b[0m: name 'points' is not defined"
     ]
    }
   ],
   "source": [
    "# %matplotlib qt\n",
    "# fig = plt.figure(figsize=(20, 20))\n",
    "# ax = fig.add_subplot(projection='3d')\n",
    "# ax.scatter(points[0], points[1], points[2], s=2, c=points[2], cmap=\"jet_r\", vmin=0.5, vmax=2.5)\n",
    "# #ax.set_zlim3d([0.5, 2.5])\n",
    "# #vis._set_axes_equal(ax)\n",
    "# plt.show()"
   ]
  },
  {
   "cell_type": "code",
   "execution_count": null,
   "id": "25412d87",
   "metadata": {},
   "outputs": [],
   "source": [
    "# plt.imshow(test_img)"
   ]
  },
  {
   "cell_type": "code",
   "execution_count": null,
   "id": "fd0b7859",
   "metadata": {},
   "outputs": [],
   "source": [
    "# inv_depths"
   ]
  },
  {
   "cell_type": "code",
   "execution_count": null,
   "id": "537cb415",
   "metadata": {},
   "outputs": [],
   "source": [
    "# depths"
   ]
  },
  {
   "cell_type": "code",
   "execution_count": null,
   "id": "2b586d9f",
   "metadata": {},
   "outputs": [],
   "source": [
    "# plt.imshow(dsi[:,:,40])"
   ]
  },
  {
   "cell_type": "code",
   "execution_count": 76,
   "id": "f22b85d2",
   "metadata": {},
   "outputs": [
    {
     "name": "stderr",
     "output_type": "stream",
     "text": [
      "100%|████████████████████████████████████████████████████████████████████████| 661153/661153 [04:49<00:00, 2284.55it/s]\n"
     ]
    }
   ],
   "source": [
    "dsi_shape = (180, 240, 50)\n",
    "dsi = np.zeros(dsi_shape)\n",
    "min_depth = 0.47\n",
    "max_depth = 2.4\n",
    "n_depths = 50\n",
    "inv_depths = np.array([(1 / max_depth) + (i / (n_depths / ((1/min_depth)-(1/max_depth)))) for i in range(n_depths)])\n",
    "inv_depths = np.flip(inv_depths)\n",
    "depths = 1/inv_depths\n",
    "e3 = np.array([0,0,1]).reshape(1, 3)\n",
    "\n",
    "test_img = np.zeros((180, 240))\n",
    "\n",
    "t_w_rv = get_pose_matrix(events[0,0], pose_hist)\n",
    "t_rv_w = np.linalg.inv(t_w_rv)\n",
    "\n",
    "for e in tqdm(events):\n",
    "    t_w_ev = get_pose_matrix(e[0], pose_hist)\n",
    "    t_rv_ev = t_rv_w @ t_w_ev\n",
    "    t_ev_rv = np.linalg.inv(t_rv_ev)\n",
    "    \n",
    "    r = t_ev_rv[:3,:3]\n",
    "    t = t_ev_rv[:3,3].reshape(3, 1)\n",
    "\n",
    "    C = - r.transpose() @ t\n",
    "\n",
    "    #C = np.abs(C)\n",
    "    z0 = depths[0]\n",
    "    H_z0_inv = r\n",
    "    H_z0_inv *= z0\n",
    "    H_z0_inv[:,2] += t.flatten()\n",
    "    \n",
    "    H_z0_inv_px = K @ H_z0_inv @ np.linalg.inv(K)\n",
    "    H_z0_px = np.linalg.inv(H_z0_inv_px)\n",
    "    \n",
    "    x = int(e[1])\n",
    "    y = int(e[2])\n",
    "    px = np.array([x, y, 1]).reshape(3, 1)\n",
    "    \n",
    "    pxz = (H_z0_px / H_z0_px[2, 2]) @ px\n",
    "#     print(H_z0_px)\n",
    "#     print(pxz)\n",
    "#     pxz /= pxz[2][0]\n",
    "#     print(pxz)\n",
    "#     print(\"--------\")\n",
    "    \n",
    "    #TODO try discrete version\n",
    "    x0 = int(pxz[0][0])\n",
    "    y0 = int(pxz[1][0])\n",
    "    z0 = depths[0]\n",
    "    \n",
    "    if x0 < 0 or x0 > 239 or y0 < 0 or y0 > 179:\n",
    "        continue\n",
    "    \n",
    "    #test_img[int(y0), int(x0)] = 1\n",
    "\n",
    "    for i, zi in enumerate(depths[1:]):\n",
    "        a = z0 * (zi - C[2,0])\n",
    "        bx = (z0 - zi) * (C[0, 0] * K[0,0] + C[2,0] * K[0,2])\n",
    "        by = (z0 - zi) * (C[1, 0] * K[1, 1] + C[2, 0] * K[1, 2])\n",
    "        d = zi * (z0 - C[2, 0])\n",
    "        \n",
    "#         a = int(a)\n",
    "#         bx = int(bx)\n",
    "#         by = int(by)\n",
    "#         d = int(d)\n",
    "        ad = a/d\n",
    "        bxd = bx / d\n",
    "        byd = by / d\n",
    "\n",
    "        xi = int(x0 * ad + bxd)\n",
    "        yi = int(y0 * ad + byd)\n",
    "        \n",
    "        if xi < 0 or xi > 239 or yi < 0 or yi > 179:\n",
    "            continue\n",
    "        dsi[yi, xi, int(i)] += 1\n",
    "        #test_img[yi, xi] += 1"
   ]
  },
  {
   "cell_type": "code",
   "execution_count": 59,
   "id": "f91678b1",
   "metadata": {},
   "outputs": [],
   "source": [
    "points = np.nonzero(dsi > 30)\n",
    "%matplotlib qt\n",
    "fig = plt.figure(figsize=(20, 20))\n",
    "ax = fig.add_subplot(projection='3d')\n",
    "ax.scatter(points[0], points[1], points[2], s=2, c=points[2], cmap=\"jet_r\", vmin=0.5, vmax=2.5)\n",
    "#ax.set_zlim3d([0.5, 2.5])\n",
    "#vis._set_axes_equal(ax)\n",
    "plt.show()"
   ]
  },
  {
   "cell_type": "code",
   "execution_count": 60,
   "id": "24f3d340",
   "metadata": {
    "scrolled": true
   },
   "outputs": [
    {
     "data": {
      "text/plain": [
       "<matplotlib.image.AxesImage at 0x1dfbef251c0>"
      ]
     },
     "execution_count": 60,
     "metadata": {},
     "output_type": "execute_result"
    }
   ],
   "source": [
    "plt.imshow(dsi[:,:,7])"
   ]
  },
  {
   "cell_type": "code",
   "execution_count": 45,
   "id": "9168153d",
   "metadata": {},
   "outputs": [],
   "source": [
    "sub_shape = (2, 2)\n",
    "new_shape = (int(shape[0] / sub_shape[0]), int(shape[1] / sub_shape[1]))\n",
    "sub_events = []\n",
    "count = np.zeros(new_shape)\n",
    "for e in events:\n",
    "    x = int(e[1] / sub_shape[1])\n",
    "    y = int(e[2] / sub_shape[0])\n",
    "    \n",
    "    count[y, x] += 1\n",
    "    \n",
    "    if count[y, x] >=2:\n",
    "        sub_events.append([e[0], x, y, e[3]])\n",
    "        count[y, x] = 0\n",
    "        \n",
    "K = np.array([\n",
    "    [calib[0]/2, 0, calib[2]/2],\n",
    "    [0, calib[1]/2, calib[3]/2], \n",
    "    [0, 0, 1]\n",
    "])"
   ]
  },
  {
   "cell_type": "code",
   "execution_count": 46,
   "id": "9795bd85",
   "metadata": {},
   "outputs": [],
   "source": [
    "sub_events = np.array(sub_events)"
   ]
  },
  {
   "cell_type": "code",
   "execution_count": 47,
   "id": "7904a944",
   "metadata": {},
   "outputs": [
    {
     "name": "stderr",
     "output_type": "stream",
     "text": [
      "100%|████████████████████████████████████████████████████████████████████████| 327942/327942 [01:38<00:00, 3320.25it/s]\n"
     ]
    }
   ],
   "source": [
    "n_depths = 20\n",
    "dsi_shape = (new_shape[0], new_shape[1], n_depths)\n",
    "dsi = np.zeros(dsi_shape)\n",
    "min_depth = 0.47\n",
    "max_depth = 2.4\n",
    "inv_depths = np.array([(1 / max_depth) + (i / (n_depths / ((1/min_depth)-(1/max_depth)))) for i in range(n_depths)])\n",
    "inv_depths = np.flip(inv_depths)\n",
    "depths = 1/inv_depths\n",
    "e3 = np.array([0,0,1]).reshape(1, 3)\n",
    "\n",
    "#test_img = np.zeros((180, 240))\n",
    "bxs = []\n",
    "\n",
    "t_w_rv = get_pose_matrix(events[0,0], pose_hist)\n",
    "t_rv_w = np.linalg.inv(t_w_rv)\n",
    "\n",
    "for e in tqdm(sub_events):\n",
    "    t_w_ev = get_pose_matrix(e[0], pose_hist)\n",
    "    t_rv_ev = t_rv_w @ t_w_ev\n",
    "    t_ev_rv = np.linalg.inv(t_rv_ev)\n",
    "    \n",
    "    r = t_ev_rv[:3,:3]\n",
    "    t = t_ev_rv[:3,3].reshape(3, 1)\n",
    "\n",
    "    C = - r.transpose() @ t\n",
    "\n",
    "    #C = np.abs(C)\n",
    "    z0 = depths[0]\n",
    "    H_z0_inv = r\n",
    "    H_z0_inv *= z0\n",
    "    H_z0_inv[:,2] += t.flatten()\n",
    "    \n",
    "    H_z0_inv_px = K @ H_z0_inv @ np.linalg.inv(K)\n",
    "    H_z0_px = np.linalg.inv(H_z0_inv_px)\n",
    "        \n",
    "    x = int(e[1])\n",
    "    y = int(e[2])\n",
    "    px = np.array([x, y, 1]).reshape(3, 1)\n",
    "    \n",
    "    pxz = H_z0_px @ px\n",
    "    pxz /= pxz[2][0]\n",
    "    \n",
    "    #TODO try discrete version\n",
    "    x0 = int(pxz[0][0])\n",
    "    y0 = int(pxz[1][0])\n",
    "    z0 = depths[0]\n",
    "    \n",
    "    if x0 < 0 or x0 >= dsi_shape[1] or y0 < 0 or y0 >= dsi_shape[0]:\n",
    "        continue\n",
    "    \n",
    "    #test_img[int(y0), int(x0)] = 1\n",
    "\n",
    "    for i, zi in enumerate(depths[1:]):\n",
    "        a = z0 * (zi - C[2,0])\n",
    "        bx = (z0 - zi) * (C[0, 0] * K[0,0] + C[2,0] * K[0,2])\n",
    "        by = (z0 - zi) * (C[1, 0] * K[1, 1] + C[2, 0] * K[1, 2])\n",
    "        d = zi * (z0 - C[2, 0])\n",
    "        \n",
    "        ad = a/d\n",
    "        bxd = bx / d\n",
    "        byd = by / d\n",
    "        \n",
    "        bxs.append(bxd)\n",
    "\n",
    "        xi = int(x0 * ad + bxd)\n",
    "        yi = int(y0 * ad + byd)\n",
    "        \n",
    "        if xi < 0 or xi >= dsi_shape[1] or yi < 0 or yi >= dsi_shape[0]:\n",
    "            continue\n",
    "        dsi[yi, xi, int(i)] += 1\n",
    "        \n",
    "        x0 = x0 * ad + bxd\n",
    "        y0 = y0 * ad + byd\n",
    "        z0 = zi\n",
    "        #test_img[yi, xi] += 1"
   ]
  },
  {
   "cell_type": "code",
   "execution_count": 48,
   "id": "001d2adf",
   "metadata": {},
   "outputs": [],
   "source": [
    "points = np.nonzero(dsi > 30)\n",
    "%matplotlib qt\n",
    "fig = plt.figure(figsize=(20, 20))\n",
    "ax = fig.add_subplot(projection='3d')\n",
    "ax.scatter(points[0], points[1], points[2], s=2, c=points[2], cmap=\"jet_r\", vmin=0.5, vmax=2.5)\n",
    "#ax.set_zlim3d([0.5, 2.5])\n",
    "#vis._set_axes_equal(ax)\n",
    "plt.show()"
   ]
  },
  {
   "cell_type": "code",
   "execution_count": 49,
   "id": "d63889a2",
   "metadata": {},
   "outputs": [],
   "source": [
    "plt.figure(figsize=(10, 10))\n",
    "m = plt.imshow(dsi[:,:,17], interpolation=\"none\")\n",
    "#plt.colorbar(mappable=m)"
   ]
  },
  {
   "cell_type": "code",
   "execution_count": 61,
   "id": "f8acc66e",
   "metadata": {},
   "outputs": [],
   "source": [
    "dsi_max = dsi.max(axis=2)\n",
    "dsi_max_id = np.argmax(dsi, axis=2)\n",
    "dsi_max_val = depths[dsi_max_id]"
   ]
  },
  {
   "cell_type": "code",
   "execution_count": 62,
   "id": "2a3836b5",
   "metadata": {},
   "outputs": [
    {
     "data": {
      "text/plain": [
       "array([[0.47768273, 0.47768273, 0.47768273, ..., 0.47768273, 0.47768273,\n",
       "        0.47768273],\n",
       "       [0.47768273, 0.47768273, 0.47768273, ..., 0.47768273, 0.47768273,\n",
       "        0.47768273],\n",
       "       [0.47768273, 0.47768273, 0.47768273, ..., 0.47768273, 0.47768273,\n",
       "        0.47768273],\n",
       "       ...,\n",
       "       [0.47768273, 0.47768273, 2.06140351, ..., 0.47768273, 0.47768273,\n",
       "        0.47768273],\n",
       "       [0.47768273, 0.47768273, 2.21785293, ..., 0.47768273, 0.47768273,\n",
       "        0.47768273],\n",
       "       [0.47768273, 0.47768273, 2.06140351, ..., 0.47768273, 0.47768273,\n",
       "        0.47768273]])"
      ]
     },
     "execution_count": 62,
     "metadata": {},
     "output_type": "execute_result"
    }
   ],
   "source": [
    "depths[dsi_max_id]"
   ]
  },
  {
   "cell_type": "code",
   "execution_count": 63,
   "id": "dfc255ae",
   "metadata": {},
   "outputs": [
    {
     "data": {
      "text/plain": [
       "<matplotlib.image.AxesImage at 0x1dfbef76c70>"
      ]
     },
     "execution_count": 63,
     "metadata": {},
     "output_type": "execute_result"
    }
   ],
   "source": [
    "plt.imshow(dsi_max)"
   ]
  },
  {
   "cell_type": "code",
   "execution_count": 64,
   "id": "51708a5c",
   "metadata": {},
   "outputs": [],
   "source": [
    "import cv2 as cv\n",
    "\n",
    "dsi_u = np.uint8(dsi_max)\n",
    "dsi_thresh = cv.adaptiveThreshold(dsi_u,1,cv.ADAPTIVE_THRESH_GAUSSIAN_C ,\\\n",
    "            cv.THRESH_BINARY, 5, -7)"
   ]
  },
  {
   "cell_type": "code",
   "execution_count": 65,
   "id": "ed3382d8",
   "metadata": {},
   "outputs": [
    {
     "data": {
      "text/plain": [
       "<matplotlib.image.AxesImage at 0x1dfbefdcd00>"
      ]
     },
     "execution_count": 65,
     "metadata": {},
     "output_type": "execute_result"
    }
   ],
   "source": [
    "plt.imshow(dsi_thresh)"
   ]
  },
  {
   "cell_type": "code",
   "execution_count": 66,
   "id": "f58f242e",
   "metadata": {},
   "outputs": [
    {
     "data": {
      "text/plain": [
       "<matplotlib.image.AxesImage at 0x1dfbf095970>"
      ]
     },
     "execution_count": 66,
     "metadata": {},
     "output_type": "execute_result"
    }
   ],
   "source": [
    "plt.imshow(dsi_max_val)"
   ]
  },
  {
   "cell_type": "code",
   "execution_count": 67,
   "id": "506bb886",
   "metadata": {},
   "outputs": [],
   "source": [
    "dsi_m = np.ma.masked_where(dsi_thresh == 0, dsi_max_val)"
   ]
  },
  {
   "cell_type": "code",
   "execution_count": 68,
   "id": "1f1a3356",
   "metadata": {},
   "outputs": [
    {
     "data": {
      "text/plain": [
       "<matplotlib.image.AxesImage at 0x1dfbf0f6d90>"
      ]
     },
     "execution_count": 68,
     "metadata": {},
     "output_type": "execute_result"
    },
    {
     "data": {
      "image/png": "[encoded data removed]",
      "text/plain": [
       "<Figure size 432x288 with 1 Axes>"
      ]
     },
     "metadata": {
      "needs_background": "light"
     },
     "output_type": "display_data"
    }
   ],
   "source": [
    "%matplotlib inline\n",
    "plt.imshow(dsi_m, cmap=\"jet_r\", interpolation=\"none\")"
   ]
  },
  {
   "cell_type": "code",
   "execution_count": 69,
   "id": "0d5b1460",
   "metadata": {},
   "outputs": [],
   "source": [
    "bxs = np.array(bxs)"
   ]
  },
  {
   "cell_type": "code",
   "execution_count": 70,
   "id": "7085ebb8",
   "metadata": {},
   "outputs": [
    {
     "data": {
      "image/png": "[encoded data removed]",
      "text/plain": [
       "<Figure size 432x288 with 1 Axes>"
      ]
     },
     "metadata": {
      "needs_background": "light"
     },
     "output_type": "display_data"
    }
   ],
   "source": [
    "plt.hist(bxs, 100);"
   ]
  },
  {
   "cell_type": "code",
   "execution_count": null,
   "id": "65f63d65",
   "metadata": {},
   "outputs": [],
   "source": []
  }
 ],
 "metadata": {
  "kernelspec": {
   "display_name": "Python 3 (ipykernel)",
   "language": "python",
   "name": "python3"
  },
  "language_info": {
   "codemirror_mode": {
    "name": "ipython",
    "version": 3
   },
   "file_extension": ".py",
   "mimetype": "text/x-python",
   "name": "python",
   "nbconvert_exporter": "python",
   "pygments_lexer": "ipython3",
   "version": "3.8.10"
  }
 },
 "nbformat": 4,
 "nbformat_minor": 5
}
