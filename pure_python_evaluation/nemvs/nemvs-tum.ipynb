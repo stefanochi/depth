{
 "cells": [
  {
   "cell_type": "code",
   "execution_count": 4,
   "id": "267d9e65",
   "metadata": {},
   "outputs": [
    {
     "name": "stdout",
     "output_type": "stream",
     "text": [
      "The autoreload extension is already loaded. To reload it, use:\n",
      "  %reload_ext autoreload\n"
     ]
    }
   ],
   "source": [
    "%load_ext autoreload\n",
    "%autoreload 2\n",
    "import sys\n",
    "\n",
    "path = \"C:/Users/schiavaz/lava-nc/depth/\"\n",
    "sys.path.append(path)\n",
    "\n",
    "import numpy as np\n",
    "import matplotlib.pyplot as plt\n",
    "import cv2 as cv\n",
    "import open3d as o3d\n",
    "from scipy.spatial.transform import Rotation as R\n",
    "from tqdm import tqdm\n",
    "import hdf5plugin\n",
    "import h5py\n",
    "\n",
    "import events_utils.filter as flt\n",
    "import events_utils.visualize as vis\n",
    "import events_utils.time_difference as td"
   ]
  },
  {
   "cell_type": "code",
   "execution_count": null,
   "id": "1797d502",
   "metadata": {},
   "outputs": [],
   "source": [
    "img_time = np.loadtxt(path+\"data/tum-vie/mocap-1d-trans-vi_gt_data/right_images/image_timestamps_right.txt\")"
   ]
  },
  {
   "cell_type": "code",
   "execution_count": 157,
   "id": "a7e74104",
   "metadata": {},
   "outputs": [],
   "source": [
    "start_time = 1.5\n",
    "duration = 0.5"
   ]
  },
  {
   "cell_type": "code",
   "execution_count": 158,
   "id": "4ac2ffa6",
   "metadata": {},
   "outputs": [],
   "source": [
    "events_h5 = h5py.File(path + \"data/tum-vie/mocap-1d-trans-events_right.h5\")[\"events\"]\n",
    "t = np.array(events_h5[\"t\"])\n",
    "id_start = np.searchsorted(t, start_time * 10e6)\n",
    "id_end = np.searchsorted(t, (start_time + duration) * 10e6)\n",
    "\n",
    "events_raw = np.zeros((id_end - id_start, 4))\n",
    "events_raw[:,0] = t[id_start:id_end]\n",
    "events_raw[:,1] = events_h5[\"x\"][id_start:id_end]\n",
    "events_raw[:,2] = events_h5[\"y\"][id_start:id_end]\n",
    "events_raw[:,3] = events_h5[\"p\"][id_start:id_end]"
   ]
  },
  {
   "cell_type": "code",
   "execution_count": 159,
   "id": "a715604f",
   "metadata": {},
   "outputs": [
    {
     "data": {
      "text/plain": [
       "719.0"
      ]
     },
     "execution_count": 159,
     "metadata": {},
     "output_type": "execute_result"
    }
   ],
   "source": [
    "events_raw[:,2].max()"
   ]
  },
  {
   "cell_type": "code",
   "execution_count": 160,
   "id": "b649affe",
   "metadata": {},
   "outputs": [],
   "source": [
    "events = events_raw\n",
    "shape = (720, 1280)"
   ]
  },
  {
   "cell_type": "code",
   "execution_count": 161,
   "id": "16497174",
   "metadata": {},
   "outputs": [
    {
     "data": {
      "text/plain": [
       "array([[ 9.34329760e+05, -4.93599951e-01,  3.26365918e-01, ...,\n",
       "        -5.52764349e-02,  2.27731481e-01,  9.71937120e-01],\n",
       "       [ 9.42663760e+05, -4.93818283e-01,  3.26307505e-01, ...,\n",
       "        -5.53953722e-02,  2.27805912e-01,  9.71914649e-01],\n",
       "       [ 9.50996760e+05, -4.94036615e-01,  3.26252490e-01, ...,\n",
       "        -5.55172302e-02,  2.27868214e-01,  9.71894562e-01],\n",
       "       ...,\n",
       "       [ 3.74926638e+07, -5.32860160e-01, -4.35860395e-01, ...,\n",
       "        -1.03459373e-01,  2.83527702e-01,  9.52248454e-01],\n",
       "       [ 3.75009968e+07, -5.32938719e-01, -4.35837030e-01, ...,\n",
       "        -1.03786252e-01,  2.83581525e-01,  9.52181339e-01],\n",
       "       [ 3.75093308e+07, -5.33028901e-01, -4.35789317e-01, ...,\n",
       "        -1.03924878e-01,  2.83656448e-01,  9.52143252e-01]])"
      ]
     },
     "execution_count": 161,
     "metadata": {},
     "output_type": "execute_result"
    }
   ],
   "source": [
    "pose_hist = np.loadtxt(path + \"data/tum-vie/mocap-1d-trans-vi_gt_data/mocap_data.txt\")\n",
    "pose_hist"
   ]
  },
  {
   "cell_type": "code",
   "execution_count": 162,
   "id": "77fc11e9",
   "metadata": {},
   "outputs": [],
   "source": [
    "#TODO undistort events"
   ]
  },
  {
   "cell_type": "code",
   "execution_count": 163,
   "id": "9f06d667",
   "metadata": {},
   "outputs": [],
   "source": [
    "K = np.array([\n",
    "    [1049.048422241493, 0, 652.4780618014456],\n",
    "    [0, 1049.5741104057763, 262.0071641027953], \n",
    "    [0, 0, 1]\n",
    "])"
   ]
  },
  {
   "cell_type": "code",
   "execution_count": 164,
   "id": "32f8925a",
   "metadata": {},
   "outputs": [],
   "source": [
    "def get_pose(t, pose_history):\n",
    "    t = t * 10e6\n",
    "    idx = np.searchsorted(pose_hist[:,0], t)\n",
    "    pose = pose_hist[idx -1 if idx > 0 else 0]\n",
    "    \n",
    "    t = pose[1:4].reshape(3, 1)\n",
    "    q = pose[4:] \n",
    "    r = R.from_quat(q).as_matrix()\n",
    "    \n",
    "    return r, t"
   ]
  },
  {
   "cell_type": "code",
   "execution_count": 165,
   "id": "bc54ce6e",
   "metadata": {},
   "outputs": [],
   "source": [
    "def get_pose_matrix(t, pose_history):\n",
    "    t = t * 10e6\n",
    "    idx = np.searchsorted(pose_hist[:,0], t)\n",
    "    pose = pose_hist[idx -1 if idx > 0 else 0]\n",
    "    \n",
    "    t = pose[1:4].reshape(3, 1)\n",
    "    q = pose[4:] \n",
    "    r = R.from_quat(q).as_matrix()\n",
    "    \n",
    "    p_m = np.zeros((4, 4))\n",
    "    p_m[:3, :3] = r\n",
    "    p_m[:3,3] = t.flatten()\n",
    "    p_m[3, 3] = 1\n",
    "    \n",
    "    return p_m"
   ]
  },
  {
   "cell_type": "code",
   "execution_count": 91,
   "id": "9d2b8b24",
   "metadata": {},
   "outputs": [],
   "source": [
    "# dsi_shape = (180, 240, 50)\n",
    "# dsi = np.zeros(dsi_shape)\n",
    "# min_depth = 0.47\n",
    "# max_depth = 2.4\n",
    "# n_depths = 50\n",
    "# inv_depths = np.array([(1 / max_depth) + (i / (n_depths / ((1/min_depth)-(1/max_depth)))) for i in range(n_depths)])\n",
    "# inv_depths = np.flip(inv_depths)\n",
    "# depths = 1/inv_depths\n",
    "# e3 = np.array([0,0,1]).reshape(1, 3)\n",
    "\n",
    "# test_img = np.zeros((180, 240))\n",
    "\n",
    "# t_w_rv = get_pose_matrix(0.0, pose_hist)\n",
    "# t_rv_w = np.linalg.inv(t_w_rv)\n",
    "\n",
    "# for e in tqdm(events):\n",
    "    \n",
    "#     t_w_ev = get_pose_matrix(e[0], pose_hist)\n",
    "#     t_rv_ev = t_rv_w @ t_w_ev\n",
    "#     t_ev_rv = np.linalg.inv(t_rv_ev)\n",
    "    \n",
    "#     r = t_ev_rv[:3,:3]\n",
    "#     t = t_ev_rv[:3,3].reshape(3, 1)\n",
    "    \n",
    "#     C = - np.linalg.inv(r) @ t\n",
    "#     C = np.abs(C)\n",
    "#     H = K @ (r + inv_depths[0] * (t @ e3)) @ np.linalg.inv(K)\n",
    "    \n",
    "#     x = int(e[1])\n",
    "#     y = int(e[2])\n",
    "#     px = np.array([x, y, 1]).reshape(3, 1)\n",
    "    \n",
    "#     pxz = np.linalg.inv(H) @ px\n",
    "#     pxz /= pxz[2][0]\n",
    "    \n",
    "#     #TODO try discrete version\n",
    "#     x0 = pxz[0][0]\n",
    "#     y0 = pxz[1][0]\n",
    "#     z0 = depths[0]\n",
    "    \n",
    "#     if x0 < 0 or x0 > 239 or y0 < 0 or y0 > 179:\n",
    "#         continue\n",
    "    \n",
    "#     #test_img[int(y0), int(x0)] = 1\n",
    "\n",
    "#     for i, zi in enumerate(depths[1:]):\n",
    "#         d = (zi - z0) / (z0 - C[2][0])\n",
    "#         xi = int(z0/zi * d * x0 + 1/zi*(1-d)*C[0][0]*K[0,0])\n",
    "#         yi = int(z0/zi * d * y0 + 1/zi*(1-d)*C[1][0]*K[1, 1])\n",
    "\n",
    "#         if xi < 0 or xi > 239 or yi < 0 or yi > 179:\n",
    "#             continue\n",
    "\n",
    "#         dsi[yi, xi, int(i)] += 1\n",
    "#         #test_img[yi, xi] += 1"
   ]
  },
  {
   "cell_type": "code",
   "execution_count": 529,
   "id": "13502a2f",
   "metadata": {},
   "outputs": [],
   "source": [
    "points = np.nonzero(dsi > 5)"
   ]
  },
  {
   "cell_type": "code",
   "execution_count": 530,
   "id": "6cc98fcb",
   "metadata": {},
   "outputs": [],
   "source": [
    "%matplotlib qt\n",
    "fig = plt.figure(figsize=(20, 20))\n",
    "ax = fig.add_subplot(projection='3d')\n",
    "ax.scatter(points[0], points[1], points[2], s=2, c=points[2], cmap=\"jet_r\", vmin=0.5, vmax=2.5)\n",
    "#ax.set_zlim3d([0.5, 2.5])\n",
    "#vis._set_axes_equal(ax)\n",
    "plt.show()"
   ]
  },
  {
   "cell_type": "code",
   "execution_count": 531,
   "id": "25412d87",
   "metadata": {},
   "outputs": [
    {
     "data": {
      "text/plain": [
       "<matplotlib.image.AxesImage at 0x240bd84f310>"
      ]
     },
     "execution_count": 531,
     "metadata": {},
     "output_type": "execute_result"
    }
   ],
   "source": [
    "plt.imshow(test_img)"
   ]
  },
  {
   "cell_type": "code",
   "execution_count": 532,
   "id": "fd0b7859",
   "metadata": {},
   "outputs": [
    {
     "data": {
      "text/plain": [
       "array([2.09343972, 2.05921986, 2.025     , 1.99078014, 1.95656028,\n",
       "       1.92234043, 1.88812057, 1.85390071, 1.81968085, 1.78546099,\n",
       "       1.75124113, 1.71702128, 1.68280142, 1.64858156, 1.6143617 ,\n",
       "       1.58014184, 1.54592199, 1.51170213, 1.47748227, 1.44326241,\n",
       "       1.40904255, 1.3748227 , 1.34060284, 1.30638298, 1.27216312,\n",
       "       1.23794326, 1.2037234 , 1.16950355, 1.13528369, 1.10106383,\n",
       "       1.06684397, 1.03262411, 0.99840426, 0.9641844 , 0.92996454,\n",
       "       0.89574468, 0.86152482, 0.82730496, 0.79308511, 0.75886525,\n",
       "       0.72464539, 0.69042553, 0.65620567, 0.62198582, 0.58776596,\n",
       "       0.5535461 , 0.51932624, 0.48510638, 0.45088652, 0.41666667])"
      ]
     },
     "execution_count": 532,
     "metadata": {},
     "output_type": "execute_result"
    }
   ],
   "source": [
    "inv_depths"
   ]
  },
  {
   "cell_type": "code",
   "execution_count": 533,
   "id": "537cb415",
   "metadata": {},
   "outputs": [
    {
     "data": {
      "text/plain": [
       "array([0.47768273, 0.4856208 , 0.49382716, 0.50231564, 0.51110104,\n",
       "       0.52019923, 0.5296272 , 0.53940321, 0.54954692, 0.56007944,\n",
       "       0.57102359, 0.58240397, 0.59424718, 0.60658206, 0.61943987,\n",
       "       0.63285458, 0.64686317, 0.66150598, 0.67682707, 0.69287469,\n",
       "       0.70970177, 0.72736652, 0.74593308, 0.76547231, 0.78606272,\n",
       "       0.80779146, 0.83075563, 0.85506367, 0.88083711, 0.90821256,\n",
       "       0.93734419, 0.96840659, 1.0015983 , 1.03714601, 1.07530982,\n",
       "       1.11638955, 1.16073266, 1.20874411, 1.26089873, 1.31775701,\n",
       "       1.37998532, 1.44838213, 1.52391246, 1.60775371, 1.70135747,\n",
       "       1.80653427, 1.92557187, 2.06140351, 2.21785293, 2.4       ])"
      ]
     },
     "execution_count": 533,
     "metadata": {},
     "output_type": "execute_result"
    }
   ],
   "source": [
    "depths"
   ]
  },
  {
   "cell_type": "code",
   "execution_count": 534,
   "id": "2b586d9f",
   "metadata": {},
   "outputs": [
    {
     "data": {
      "text/plain": [
       "<matplotlib.image.AxesImage at 0x240bd836250>"
      ]
     },
     "execution_count": 534,
     "metadata": {},
     "output_type": "execute_result"
    }
   ],
   "source": [
    "plt.imshow(dsi[:,:,40])"
   ]
  },
  {
   "cell_type": "code",
   "execution_count": 94,
   "id": "f22b85d2",
   "metadata": {},
   "outputs": [
    {
     "name": "stderr",
     "output_type": "stream",
     "text": [
      "100%|████████████████████████████████████████████████████████████████████████| 265356/265356 [02:31<00:00, 1754.96it/s]\n"
     ]
    }
   ],
   "source": [
    "n_depths = 50\n",
    "dsi_shape = (shape[0], shape[1], n_depths)\n",
    "dsi = np.zeros(dsi_shape)\n",
    "min_depth = 0.47\n",
    "max_depth = 2.4\n",
    "\n",
    "inv_depths = np.array([(1 / max_depth) + (i / (n_depths / ((1/min_depth)-(1/max_depth)))) for i in range(n_depths)])\n",
    "inv_depths = np.flip(inv_depths)\n",
    "depths = 1/inv_depths\n",
    "e3 = np.array([0,0,1]).reshape(1, 3)\n",
    "\n",
    "t_w_rv = get_pose_matrix(events[0,0], pose_hist)\n",
    "t_rv_w = np.linalg.inv(t_w_rv)\n",
    "\n",
    "for e in tqdm(events[::100]):\n",
    "    t_w_ev = get_pose_matrix(e[0], pose_hist)\n",
    "    t_rv_ev = t_rv_w @ t_w_ev\n",
    "    t_ev_rv = np.linalg.inv(t_rv_ev)\n",
    "    \n",
    "    r = t_ev_rv[:3,:3]\n",
    "    t = t_ev_rv[:3,3].reshape(3, 1)\n",
    "\n",
    "    C = - r.transpose() @ t\n",
    "\n",
    "    #C = np.abs(C)\n",
    "    z0 = depths[0]\n",
    "    H_z0_inv = r\n",
    "    H_z0_inv *= z0\n",
    "    H_z0_inv[:,2] += t.flatten()\n",
    "    \n",
    "    H_z0_inv_px = K @ H_z0_inv @ np.linalg.inv(K)\n",
    "    H_z0_px = np.linalg.inv(H_z0_inv_px)\n",
    "    \n",
    "    x = int(e[1])\n",
    "    y = int(e[2])\n",
    "    px = np.array([x, y, 1]).reshape(3, 1)\n",
    "    \n",
    "    pxz = H_z0_px @ px\n",
    "    pxz /= pxz[2][0]\n",
    "    \n",
    "    #TODO try discrete version\n",
    "    x0 = int(pxz[0][0])\n",
    "    y0 = int(pxz[1][0])\n",
    "    z0 = depths[0]\n",
    "    \n",
    "    if x0 < 0 or x0 >= dsi_shape[1] or y0 < 0 or y0 >= dsi_shape[0]:\n",
    "        continue\n",
    "    \n",
    "    #test_img[int(y0), int(x0)] = 1\n",
    "\n",
    "    for i, zi in enumerate(depths[1:]):\n",
    "        a = z0 * (zi - C[2,0])\n",
    "        bx = (z0 - zi) * (C[0, 0] * K[0,0] + C[2,0] * K[0,2])\n",
    "        by = (z0 - zi) * (C[1, 0] * K[1, 1] + C[2, 0] * K[1, 2])\n",
    "        d = zi * (z0 - C[2, 0])\n",
    "        \n",
    "#         a = int(a)\n",
    "#         bx = int(bx)\n",
    "#         by = int(by)\n",
    "#         d = int(d)\n",
    "        ad = a/d\n",
    "        bxd = bx / d\n",
    "        byd = by / d\n",
    "\n",
    "        xi = int(x0 * ad + bxd)\n",
    "        yi = int(y0 * ad + byd)\n",
    "        \n",
    "        if xi < 0 or xi >= dsi_shape[1] or yi < 0 or yi >= dsi_shape[0]:\n",
    "            continue\n",
    "        dsi[yi, xi, int(i)] += 1\n",
    "        #test_img[yi, xi] += 1"
   ]
  },
  {
   "cell_type": "code",
   "execution_count": 175,
   "id": "f91678b1",
   "metadata": {},
   "outputs": [],
   "source": [
    "points = np.nonzero(dsi > 30)\n",
    "%matplotlib qt\n",
    "fig = plt.figure(figsize=(20, 20))\n",
    "ax = fig.add_subplot(projection='3d')\n",
    "ax.scatter(points[0], points[1], points[2], s=2, c=points[2], cmap=\"jet_r\", vmin=0.5, vmax=2.5)\n",
    "#ax.set_zlim3d([0.5, 2.5])\n",
    "#vis._set_axes_equal(ax)\n",
    "plt.show()"
   ]
  },
  {
   "cell_type": "code",
   "execution_count": 95,
   "id": "24f3d340",
   "metadata": {
    "scrolled": true
   },
   "outputs": [
    {
     "data": {
      "text/plain": [
       "<matplotlib.image.AxesImage at 0x293ff592640>"
      ]
     },
     "execution_count": 95,
     "metadata": {},
     "output_type": "execute_result"
    },
    {
     "data": {
      "image/png": "[encoded data removed]",
      "text/plain": [
       "<Figure size 432x288 with 1 Axes>"
      ]
     },
     "metadata": {
      "needs_background": "light"
     },
     "output_type": "display_data"
    }
   ],
   "source": [
    "plt.imshow(dsi[:,:,7])"
   ]
  },
  {
   "cell_type": "code",
   "execution_count": 170,
   "id": "9168153d",
   "metadata": {},
   "outputs": [
    {
     "name": "stderr",
     "output_type": "stream",
     "text": [
      "100%|██████████████████████████████████████████████████████████████████| 85896863/85896863 [03:23<00:00, 422973.04it/s]\n"
     ]
    }
   ],
   "source": [
    "sub_shape = (8, 8)\n",
    "new_shape = (int(shape[0] / sub_shape[0]), int(shape[1] / sub_shape[1]))\n",
    "sub_events = []\n",
    "count = np.zeros(new_shape)\n",
    "for e in tqdm(events):\n",
    "    x = int(e[1] / sub_shape[1])\n",
    "    y = int(e[2] / sub_shape[0])\n",
    "    \n",
    "    count[y, x] += 1\n",
    "    \n",
    "    if count[y, x] >=50:\n",
    "        sub_events.append([e[0], x, y, e[3]])\n",
    "        count[y, x] = 0\n",
    "        \n",
    "# K = np.array([\n",
    "#     [calib[0]/2, 0, calib[2]/2],\n",
    "#     [0, calib[1]/2, calib[3]/2], \n",
    "#     [0, 0, 1]\n",
    "# ])"
   ]
  },
  {
   "cell_type": "code",
   "execution_count": 171,
   "id": "4c70175c",
   "metadata": {},
   "outputs": [],
   "source": [
    "K = np.array([\n",
    "    [1049.048422241493, 0, 652.4780618014456],\n",
    "    [0, 1049.5741104057763, 262.0071641027953], \n",
    "    [0, 0, 1]\n",
    "])\n",
    "K = K / 8\n",
    "K[2, 2] = 1"
   ]
  },
  {
   "cell_type": "code",
   "execution_count": 172,
   "id": "9795bd85",
   "metadata": {},
   "outputs": [],
   "source": [
    "sub_events = np.array(sub_events)"
   ]
  },
  {
   "cell_type": "code",
   "execution_count": 196,
   "id": "7904a944",
   "metadata": {},
   "outputs": [
    {
     "name": "stderr",
     "output_type": "stream",
     "text": [
      "100%|█████████████████████████████████████████████████████████████████████| 1710886/1710886 [01:48<00:00, 15790.28it/s]\n"
     ]
    }
   ],
   "source": [
    "n_depths = 20\n",
    "dsi_shape = (new_shape[0], new_shape[1], n_depths)\n",
    "dsi = np.zeros(dsi_shape)\n",
    "min_depth = 0.47\n",
    "max_depth = 2.4\n",
    "inv_depths = np.array([(1 / max_depth) + (i / (n_depths / ((1/min_depth)-(1/max_depth)))) for i in range(n_depths)])\n",
    "inv_depths = np.flip(inv_depths)\n",
    "depths = 1/inv_depths\n",
    "e3 = np.array([0,0,1]).reshape(1, 3)\n",
    "\n",
    "#test_img = np.zeros((180, 240))\n",
    "bxs = []\n",
    "\n",
    "t_w_rv = get_pose_matrix(events[0,0], pose_hist)\n",
    "t_rv_w = np.linalg.inv(t_w_rv)\n",
    "pose_t = -1.0\n",
    "\n",
    "def c_precomputed(C):\n",
    "    precomputed = np.zeros((len(depths), 3))\n",
    "    z0 = depths[0]\n",
    "\n",
    "    for i, zi in enumerate(depths[1:]):\n",
    "            a = z0 * (zi - C[2,0])\n",
    "            bx = (z0 - zi) * (C[0, 0] * K[0,0] + C[2,0] * K[0,2])\n",
    "            by = (z0 - zi) * (C[1, 0] * K[1, 1] + C[2, 0] * K[1, 2])\n",
    "            d = zi * (z0 - C[2, 0])\n",
    "\n",
    "            ad = a/d\n",
    "            bxd = bx / d\n",
    "            byd = by / d\n",
    "\n",
    "            precomputed[i, 0] = ad\n",
    "            precomputed[i, 1] = bxd\n",
    "            precomputed[i, 2] = byd\n",
    "    return precomputed\n",
    "\n",
    "for e in tqdm(sub_events):\n",
    "    if e[0] > pose_t:\n",
    "        t_w_ev = get_pose_matrix(e[0], pose_hist)\n",
    "        t_rv_ev = t_rv_w @ t_w_ev\n",
    "        t_ev_rv = np.linalg.inv(t_rv_ev)\n",
    "\n",
    "        r = t_ev_rv[:3,:3]\n",
    "        t = t_ev_rv[:3,3].reshape(3, 1)\n",
    "\n",
    "        C = - r.transpose() @ t\n",
    "\n",
    "        #C = np.abs(C)\n",
    "        z0 = depths[0]\n",
    "        H_z0_inv = r\n",
    "        H_z0_inv *= z0\n",
    "        H_z0_inv[:,2] += t.flatten()\n",
    "\n",
    "        H_z0_inv_px = K @ H_z0_inv @ np.linalg.inv(K)\n",
    "        H_z0_px = np.linalg.inv(H_z0_inv_px)\n",
    "        \n",
    "        pose_t = pose_hist[np.searchsorted(pose_hist[:,0], e[0]), 0]\n",
    "        \n",
    "        precomputed = c_precomputed(C)\n",
    "        \n",
    "    x = int(e[1])\n",
    "    y = int(e[2])\n",
    "    px = np.array([x, y, 1]).reshape(3, 1)\n",
    "    \n",
    "    pxz = H_z0_px @ px\n",
    "    pxz /= pxz[2][0]\n",
    "    \n",
    "    #TODO try discrete version\n",
    "    x0 = int(pxz[0][0])\n",
    "    y0 = int(pxz[1][0])\n",
    "    z0 = depths[0]\n",
    "    \n",
    "    if x0 < 0 or x0 >= dsi_shape[1] or y0 < 0 or y0 >= dsi_shape[0]:\n",
    "        continue\n",
    "    \n",
    "    #test_img[int(y0), int(x0)] = 1\n",
    "\n",
    "    for i, zi in enumerate(depths[1:]):\n",
    "        \n",
    "        ad = precomputed[i, 0]\n",
    "        bxd = precomputed[i, 1]\n",
    "        byd = precomputed[i, 2]\n",
    "        \n",
    "        xi = int(x0 * ad + bxd)\n",
    "        yi = int(y0 * ad + byd)\n",
    "        \n",
    "        if xi < 0 or xi >= dsi_shape[1] or yi < 0 or yi >= dsi_shape[0]:\n",
    "            continue\n",
    "        dsi[yi, xi, int(i)] += 1\n",
    "        \n",
    "        x0 = x0 * ad + bxd\n",
    "        y0 = y0 * ad + byd\n",
    "        z0 = zi\n",
    "        #test_img[yi, xi] += 1"
   ]
  },
  {
   "cell_type": "code",
   "execution_count": 197,
   "id": "001d2adf",
   "metadata": {},
   "outputs": [],
   "source": [
    "points = np.nonzero(dsi > 30)\n",
    "%matplotlib qt\n",
    "fig = plt.figure(figsize=(20, 20))\n",
    "ax = fig.add_subplot(projection='3d')\n",
    "ax.scatter(points[0], points[1], points[2], s=2, c=points[2], cmap=\"jet_r\", vmin=0.5, vmax=2.5)\n",
    "#ax.set_zlim3d([0.5, 2.5])\n",
    "#vis._set_axes_equal(ax)\n",
    "plt.show()"
   ]
  },
  {
   "cell_type": "code",
   "execution_count": 198,
   "id": "d63889a2",
   "metadata": {},
   "outputs": [
    {
     "data": {
      "text/plain": [
       "<matplotlib.colorbar.Colorbar at 0x2942bbe97f0>"
      ]
     },
     "execution_count": 198,
     "metadata": {},
     "output_type": "execute_result"
    }
   ],
   "source": [
    "plt.figure(figsize=(10, 10))\n",
    "m = plt.imshow(dsi[:,:,18], interpolation=\"none\", vmax=100)\n",
    "plt.colorbar(mappable=m)"
   ]
  },
  {
   "cell_type": "code",
   "execution_count": 199,
   "id": "f8acc66e",
   "metadata": {},
   "outputs": [],
   "source": [
    "dsi_max = dsi.max(axis=2)\n",
    "dsi_max_id = np.argmax(dsi, axis=2)\n",
    "dsi_max_val = depths[dsi_max_id]"
   ]
  },
  {
   "cell_type": "code",
   "execution_count": 200,
   "id": "2a3836b5",
   "metadata": {},
   "outputs": [
    {
     "data": {
      "text/plain": [
       "array([[0.4896896, 0.4896896, 0.4896896, ..., 0.4896896, 0.4896896,\n",
       "        0.4896896],\n",
       "       [0.4896896, 0.4896896, 0.4896896, ..., 0.4896896, 0.4896896,\n",
       "        0.4896896],\n",
       "       [0.4896896, 0.4896896, 0.4896896, ..., 0.4896896, 0.4896896,\n",
       "        0.4896896],\n",
       "       ...,\n",
       "       [0.4896896, 0.4896896, 0.4896896, ..., 0.4896896, 0.4896896,\n",
       "        0.4896896],\n",
       "       [0.4896896, 0.4896896, 0.4896896, ..., 0.4896896, 0.4896896,\n",
       "        0.4896896],\n",
       "       [0.4896896, 0.4896896, 0.4896896, ..., 0.4896896, 0.4896896,\n",
       "        0.4896896]])"
      ]
     },
     "execution_count": 200,
     "metadata": {},
     "output_type": "execute_result"
    }
   ],
   "source": [
    "depths[dsi_max_id]"
   ]
  },
  {
   "cell_type": "code",
   "execution_count": 201,
   "id": "dfc255ae",
   "metadata": {},
   "outputs": [
    {
     "data": {
      "text/plain": [
       "<matplotlib.image.AxesImage at 0x294633a0400>"
      ]
     },
     "execution_count": 201,
     "metadata": {},
     "output_type": "execute_result"
    }
   ],
   "source": [
    "plt.imshow(dsi_max)"
   ]
  },
  {
   "cell_type": "code",
   "execution_count": 202,
   "id": "c76f8972",
   "metadata": {},
   "outputs": [],
   "source": [
    "plt.hist(dsi_max.flatten(), 100);"
   ]
  },
  {
   "cell_type": "code",
   "execution_count": 203,
   "id": "51708a5c",
   "metadata": {},
   "outputs": [],
   "source": [
    "import cv2 as cv\n",
    "\n",
    "dsi_u = np.uint8(dsi_max)\n",
    "dsi_thresh = cv.adaptiveThreshold(dsi_u,1,cv.ADAPTIVE_THRESH_GAUSSIAN_C ,\\\n",
    "            cv.THRESH_BINARY, 5, -10)"
   ]
  },
  {
   "cell_type": "code",
   "execution_count": 204,
   "id": "ed3382d8",
   "metadata": {},
   "outputs": [
    {
     "data": {
      "text/plain": [
       "<matplotlib.image.AxesImage at 0x294c1279e50>"
      ]
     },
     "execution_count": 204,
     "metadata": {},
     "output_type": "execute_result"
    }
   ],
   "source": [
    "plt.imshow(dsi_thresh)"
   ]
  },
  {
   "cell_type": "code",
   "execution_count": 193,
   "id": "f58f242e",
   "metadata": {},
   "outputs": [
    {
     "data": {
      "text/plain": [
       "<matplotlib.image.AxesImage at 0x29459e9d190>"
      ]
     },
     "execution_count": 193,
     "metadata": {},
     "output_type": "execute_result"
    },
    {
     "data": {
      "image/png": "[encoded data removed]",
      "text/plain": [
       "<Figure size 432x288 with 1 Axes>"
      ]
     },
     "metadata": {
      "needs_background": "light"
     },
     "output_type": "display_data"
    }
   ],
   "source": [
    "plt.imshow(dsi_max_val)"
   ]
  },
  {
   "cell_type": "code",
   "execution_count": 194,
   "id": "506bb886",
   "metadata": {},
   "outputs": [],
   "source": [
    "dsi_m = np.ma.masked_where(dsi_thresh == 0, dsi_max_val)"
   ]
  },
  {
   "cell_type": "code",
   "execution_count": 195,
   "id": "1f1a3356",
   "metadata": {},
   "outputs": [
    {
     "data": {
      "text/plain": [
       "<matplotlib.image.AxesImage at 0x29459f0c220>"
      ]
     },
     "execution_count": 195,
     "metadata": {},
     "output_type": "execute_result"
    },
    {
     "data": {
      "image/png": "[encoded data removed]",
      "text/plain": [
       "<Figure size 432x288 with 1 Axes>"
      ]
     },
     "metadata": {
      "needs_background": "light"
     },
     "output_type": "display_data"
    }
   ],
   "source": [
    "%matplotlib inline\n",
    "plt.imshow(dsi_m, cmap=\"jet_r\", interpolation=\"none\")"
   ]
  },
  {
   "cell_type": "code",
   "execution_count": 546,
   "id": "0d5b1460",
   "metadata": {},
   "outputs": [],
   "source": [
    "bxs = np.array(bxs)"
   ]
  },
  {
   "cell_type": "code",
   "execution_count": 547,
   "id": "7085ebb8",
   "metadata": {},
   "outputs": [
    {
     "data": {
      "image/png": "[encoded data removed]",
      "text/plain": [
       "<Figure size 432x288 with 1 Axes>"
      ]
     },
     "metadata": {
      "needs_background": "light"
     },
     "output_type": "display_data"
    }
   ],
   "source": [
    "plt.hist(bxs, 100);"
   ]
  },
  {
   "cell_type": "code",
   "execution_count": 145,
   "id": "65f63d65",
   "metadata": {},
   "outputs": [
    {
     "data": {
      "image/png": "[encoded data removed]",
      "text/plain": [
       "<Figure size 432x288 with 1 Axes>"
      ]
     },
     "metadata": {
      "needs_background": "light"
     },
     "output_type": "display_data"
    }
   ],
   "source": [
    "plt.hist(dsi_m.compressed(), 100);"
   ]
  },
  {
   "cell_type": "code",
   "execution_count": null,
   "id": "739adc10",
   "metadata": {},
   "outputs": [],
   "source": []
  }
 ],
 "metadata": {
  "kernelspec": {
   "display_name": "Python 3 (ipykernel)",
   "language": "python",
   "name": "python3"
  },
  "language_info": {
   "codemirror_mode": {
    "name": "ipython",
    "version": 3
   },
   "file_extension": ".py",
   "mimetype": "text/x-python",
   "name": "python",
   "nbconvert_exporter": "python",
   "pygments_lexer": "ipython3",
   "version": "3.8.10"
  }
 },
 "nbformat": 4,
 "nbformat_minor": 5
}
