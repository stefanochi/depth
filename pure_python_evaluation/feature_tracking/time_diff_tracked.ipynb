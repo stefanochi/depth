{
 "cells": [
  {
   "cell_type": "code",
   "execution_count": 3,
   "id": "ad540017",
   "metadata": {},
   "outputs": [],
   "source": [
    "import numpy as np\n",
    "import matplotlib.pyplot as plt"
   ]
  },
  {
   "cell_type": "code",
   "execution_count": 27,
   "id": "f2d8fd50",
   "metadata": {},
   "outputs": [],
   "source": [
    "events = np.loadtxt(\"events_corner_id.txt\")"
   ]
  },
  {
   "cell_type": "code",
   "execution_count": 37,
   "id": "08faf77f",
   "metadata": {},
   "outputs": [],
   "source": [
    "#events = np.loadtxt(\"../data/events.txt\")\n",
    "time_range = [1.0, 2.5]\n",
    "idx_range = [np.searchsorted(events[:,0], time_range[0]), np.searchsorted(events[:,0], time_range[1])]\n",
    "events = events[idx_range[0]:idx_range[1], :]"
   ]
  },
  {
   "cell_type": "code",
   "execution_count": 38,
   "id": "c14dc988",
   "metadata": {},
   "outputs": [],
   "source": [
    "def filter_patch(events, patch_center, patch_size):\n",
    "    x_lim = (patch_center[1] - int(patch_size / 2), patch_center[1] + int(patch_size / 2) - 1)\n",
    "    y_lim = (patch_center[0] - int(patch_size / 2), patch_center[0] + int(patch_size / 2) - 1)\n",
    "\n",
    "    events_filtered = np.copy(events)\n",
    "    events_filtered = events_filtered[\n",
    "        np.logical_and((x_lim[0] <= events_filtered[:, 1]), (events_filtered[:, 1] <= x_lim[1]))]\n",
    "    events_filtered = events_filtered[\n",
    "        np.logical_and((y_lim[0] <= events_filtered[:, 2]), (events_filtered[:, 2] <= y_lim[1]))]\n",
    "    # events_filtered = events_filtered[[(y_lim[0] >= events_range[:,2]) & (events_range[:,2] <= y_lim[1])]\n",
    "    #vents_filtered = np.array(events_filtered)\n",
    "\n",
    "    events_filtered[:,1] = (events_filtered[:,1] - patch_center[1] + int(patch_size / 2)).astype(int)\n",
    "    events_filtered[:,2] = (events_filtered[:,2] - patch_center[0] + int(patch_size / 2)).astype(int)\n",
    "    \n",
    "    return events_filtered"
   ]
  },
  {
   "cell_type": "code",
   "execution_count": 39,
   "id": "76125550",
   "metadata": {},
   "outputs": [],
   "source": [
    "patch_center = (90, 90)\n",
    "patch_size = 180\n",
    "shape = (patch_size, patch_size)\n",
    "events = filter_patch(events, patch_center, patch_size)"
   ]
  },
  {
   "cell_type": "code",
   "execution_count": 40,
   "id": "0622c2d1",
   "metadata": {},
   "outputs": [],
   "source": [
    "t_start = events[0, 0]"
   ]
  },
  {
   "cell_type": "code",
   "execution_count": 41,
   "id": "aff7aeae",
   "metadata": {},
   "outputs": [],
   "source": [
    "last_time = np.zeros(shape)\n",
    "last_id = np.zeros(shape)\n",
    "time_difference = np.zeros(shape)\n",
    "dist = 5\n",
    "for e in events:\n",
    "    if e[3] == 1:\n",
    "        continue\n",
    "    \n",
    "    x = int(e[1])\n",
    "    y = int(e[2])\n",
    "    \n",
    "    last_time[y, x] = e[0]\n",
    "    last_id[y, x] = e[4]\n",
    "    \n",
    "    if x >= shape[1] - dist:\n",
    "        continue\n",
    "    \n",
    "    if last_time[y, x+dist] != 0:\n",
    "        if last_id[y, x + dist] == e[4]:\n",
    "            time_difference[y, x] = e[0] - last_time[y, x+dist]"
   ]
  },
  {
   "cell_type": "code",
   "execution_count": 42,
   "id": "41a5febf",
   "metadata": {},
   "outputs": [
    {
     "data": {
      "text/plain": [
       "<matplotlib.colorbar.Colorbar at 0x2cca0259340>"
      ]
     },
     "execution_count": 42,
     "metadata": {},
     "output_type": "execute_result"
    },
    {
     "data": {
      "image/png": "[encoded data removed]",
      "text/plain": [
       "<Figure size 720x720 with 2 Axes>"
      ]
     },
     "metadata": {
      "needs_background": "light"
     },
     "output_type": "display_data"
    }
   ],
   "source": [
    "%matplotlib inline\n",
    "plt.figure(figsize=(10, 10))\n",
    "m = plt.imshow(time_difference, cmap=\"jet_r\", interpolation=\"none\")\n",
    "plt.colorbar(mappable=m)"
   ]
  },
  {
   "cell_type": "code",
   "execution_count": null,
   "id": "ae0cc1a1",
   "metadata": {},
   "outputs": [],
   "source": []
  },
  {
   "cell_type": "code",
   "execution_count": null,
   "id": "3a45700f",
   "metadata": {},
   "outputs": [],
   "source": []
  }
 ],
 "metadata": {
  "kernelspec": {
   "display_name": "Python 3 (ipykernel)",
   "language": "python",
   "name": "python3"
  },
  "language_info": {
   "codemirror_mode": {
    "name": "ipython",
    "version": 3
   },
   "file_extension": ".py",
   "mimetype": "text/x-python",
   "name": "python",
   "nbconvert_exporter": "python",
   "pygments_lexer": "ipython3",
   "version": "3.9.7"
  }
 },
 "nbformat": 4,
 "nbformat_minor": 5
}
