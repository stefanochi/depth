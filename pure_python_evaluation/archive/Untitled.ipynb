{
 "cells": [
  {
   "cell_type": "code",
   "execution_count": 3,
   "id": "56d70b4d",
   "metadata": {},
   "outputs": [],
   "source": [
    "import numpy as np\n",
    "import matplotlib.pyplot as plt"
   ]
  },
  {
   "cell_type": "code",
   "execution_count": 4,
   "id": "4ec42a6c",
   "metadata": {},
   "outputs": [],
   "source": [
    "img_size = np.linspace(100, 500, 20)"
   ]
  },
  {
   "cell_type": "code",
   "execution_count": 5,
   "id": "086ce386",
   "metadata": {},
   "outputs": [],
   "source": [
    "emvs_neur = np.square(img_size) * 20\n",
    "emvs_syn = np.square(img_size) * 20 * 49"
   ]
  },
  {
   "cell_type": "code",
   "execution_count": 6,
   "id": "be5b59b7",
   "metadata": {},
   "outputs": [],
   "source": [
    "td_neur = np.square(img_size)\n",
    "#td_syn = "
   ]
  },
  {
   "cell_type": "code",
   "execution_count": 7,
   "id": "022b3f25",
   "metadata": {},
   "outputs": [
    {
     "data": {
      "text/plain": [
       "<matplotlib.legend.Legend at 0x266b023da30>"
      ]
     },
     "execution_count": 7,
     "metadata": {},
     "output_type": "execute_result"
    },
    {
     "data": {
      "image/png": "[encoded data removed]",
      "text/plain": [
       "<Figure size 432x288 with 1 Axes>"
      ]
     },
     "metadata": {
      "needs_background": "light"
     },
     "output_type": "display_data"
    }
   ],
   "source": [
    "plt.plot(img_size, emvs_neur, label=\"3D-representation\")\n",
    "plt.plot(img_size, td_neur, label=\"time difference\")\n",
    "plt.legend()"
   ]
  },
  {
   "cell_type": "code",
   "execution_count": 19,
   "id": "eb8b6d7f",
   "metadata": {},
   "outputs": [
    {
     "data": {
      "text/plain": [
       "array([ 100.        ,  147.36842105,  194.73684211,  242.10526316,\n",
       "        289.47368421,  336.84210526,  384.21052632,  431.57894737,\n",
       "        478.94736842,  526.31578947,  573.68421053,  621.05263158,\n",
       "        668.42105263,  715.78947368,  763.15789474,  810.52631579,\n",
       "        857.89473684,  905.26315789,  952.63157895, 1000.        ])"
      ]
     },
     "execution_count": 19,
     "metadata": {},
     "output_type": "execute_result"
    }
   ],
   "source": [
    "img_size"
   ]
  },
  {
   "cell_type": "code",
   "execution_count": null,
   "id": "976100c0",
   "metadata": {},
   "outputs": [],
   "source": []
  }
 ],
 "metadata": {
  "kernelspec": {
   "display_name": "Python 3 (ipykernel)",
   "language": "python",
   "name": "python3"
  },
  "language_info": {
   "codemirror_mode": {
    "name": "ipython",
    "version": 3
   },
   "file_extension": ".py",
   "mimetype": "text/x-python",
   "name": "python",
   "nbconvert_exporter": "python",
   "pygments_lexer": "ipython3",
   "version": "3.8.10"
  }
 },
 "nbformat": 4,
 "nbformat_minor": 5
}
