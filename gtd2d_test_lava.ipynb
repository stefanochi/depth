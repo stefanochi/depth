{
 "cells": [
  {
   "cell_type": "code",
   "execution_count": 1,
   "id": "72176ca7",
   "metadata": {},
   "outputs": [
    {
     "name": "stdout",
     "output_type": "stream",
     "text": [
      "Jupyter environment detected. Enabling Open3D WebVisualizer.\n",
      "[Open3D INFO] WebRTC GUI backend enabled.\n",
      "[Open3D INFO] WebRTCWindowSystem: HTTP handshake server disabled.\n"
     ]
    }
   ],
   "source": [
    "%load_ext autoreload\n",
    "%autoreload 2\n",
    "from gtd2d import gtd2d\n",
    "import numpy as np\n",
    "import matplotlib.pyplot as plt\n",
    "from scipy.spatial.transform import Rotation as R\n",
    "import open3d as o3d\n",
    "import matplotlib\n",
    "import matplotlib.cm as cm\n",
    "from tqdm import tqdm"
   ]
  },
  {
   "cell_type": "code",
   "execution_count": 2,
   "id": "04f678c0",
   "metadata": {
    "scrolled": true
   },
   "outputs": [
    {
     "name": "stdout",
     "output_type": "stream",
     "text": [
      "(109457, 4)\n"
     ]
    }
   ],
   "source": [
    "runner = gtd2d.setup(run_lava=True)"
   ]
  },
  {
   "cell_type": "code",
   "execution_count": 3,
   "id": "0ef04afa",
   "metadata": {},
   "outputs": [
    {
     "data": {
      "text/plain": [
       "array([[ 0.9292912 ,  0.9292912 ,  0.92924596, ...,  0.93416932,\n",
       "         0.93416932,  0.9342017 ],\n",
       "       [-0.38342486, -0.38342486, -0.38353185, ..., -0.36994578,\n",
       "        -0.36994578, -0.36986883],\n",
       "       [ 0.        ,  0.        ,  0.        , ...,  0.        ,\n",
       "         0.        ,  0.        ]])"
      ]
     },
     "execution_count": 3,
     "metadata": {},
     "output_type": "execute_result"
    }
   ],
   "source": [
    "runner.vel_input_buffer"
   ]
  },
  {
   "cell_type": "code",
   "execution_count": 4,
   "id": "80e965ee",
   "metadata": {},
   "outputs": [
    {
     "ename": "MemoryError",
     "evalue": "Unable to allocate 13.9 GiB for an array with shape (43200, 43200) and data type float64",
     "output_type": "error",
     "traceback": [
      "\u001b[1;31m---------------------------------------------------------------------------\u001b[0m",
      "\u001b[1;31mMemoryError\u001b[0m                               Traceback (most recent call last)",
      "\u001b[1;32m~\\AppData\\Local\\Temp/ipykernel_18564/362062732.py\u001b[0m in \u001b[0;36m<module>\u001b[1;34m\u001b[0m\n\u001b[1;32m----> 1\u001b[1;33m \u001b[0mout\u001b[0m \u001b[1;33m=\u001b[0m \u001b[0mrunner\u001b[0m\u001b[1;33m.\u001b[0m\u001b[0mrun\u001b[0m\u001b[1;33m(\u001b[0m\u001b[1;33m)\u001b[0m\u001b[1;33m\u001b[0m\u001b[1;33m\u001b[0m\u001b[0m\n\u001b[0m",
      "\u001b[1;32m~\\lava-nc\\depth\\gtd2d\\runner\\lava_runner.py\u001b[0m in \u001b[0;36mrun\u001b[1;34m(self)\u001b[0m\n\u001b[0;32m    109\u001b[0m         \u001b[0mrcnd\u001b[0m \u001b[1;33m=\u001b[0m \u001b[0mRunSteps\u001b[0m\u001b[1;33m(\u001b[0m\u001b[0mnum_steps\u001b[0m\u001b[1;33m=\u001b[0m\u001b[0mself\u001b[0m\u001b[1;33m.\u001b[0m\u001b[0mtimesteps\u001b[0m\u001b[1;33m)\u001b[0m\u001b[1;33m\u001b[0m\u001b[1;33m\u001b[0m\u001b[0m\n\u001b[0;32m    110\u001b[0m         \u001b[0mrcfg\u001b[0m \u001b[1;33m=\u001b[0m \u001b[0mLifRunConfig\u001b[0m\u001b[1;33m(\u001b[0m\u001b[0mselect_tag\u001b[0m\u001b[1;33m=\u001b[0m\u001b[1;34m'floating_pt'\u001b[0m\u001b[1;33m)\u001b[0m\u001b[1;33m\u001b[0m\u001b[1;33m\u001b[0m\u001b[0m\n\u001b[1;32m--> 111\u001b[1;33m         \u001b[0msemd\u001b[0m\u001b[1;33m.\u001b[0m\u001b[0mrun\u001b[0m\u001b[1;33m(\u001b[0m\u001b[0mcondition\u001b[0m\u001b[1;33m=\u001b[0m\u001b[0mrcnd\u001b[0m\u001b[1;33m,\u001b[0m \u001b[0mrun_cfg\u001b[0m\u001b[1;33m=\u001b[0m\u001b[0mrcfg\u001b[0m\u001b[1;33m)\u001b[0m\u001b[1;33m\u001b[0m\u001b[1;33m\u001b[0m\u001b[0m\n\u001b[0m\u001b[0;32m    112\u001b[0m \u001b[1;33m\u001b[0m\u001b[0m\n\u001b[0;32m    113\u001b[0m         \u001b[0mdata_u\u001b[0m \u001b[1;33m=\u001b[0m \u001b[0moutput_u\u001b[0m\u001b[1;33m.\u001b[0m\u001b[0mdata\u001b[0m\u001b[1;33m.\u001b[0m\u001b[0mget\u001b[0m\u001b[1;33m(\u001b[0m\u001b[1;33m)\u001b[0m\u001b[1;33m\u001b[0m\u001b[1;33m\u001b[0m\u001b[0m\n",
      "\u001b[1;32m~\\lava-nc\\lava\\src\\lava\\magma\\core\\process\\process.py\u001b[0m in \u001b[0;36mrun\u001b[1;34m(self, condition, run_cfg)\u001b[0m\n\u001b[0;32m    416\u001b[0m         \"\"\"\n\u001b[0;32m    417\u001b[0m         \u001b[1;32mif\u001b[0m \u001b[1;32mnot\u001b[0m \u001b[0mself\u001b[0m\u001b[1;33m.\u001b[0m\u001b[0m_runtime\u001b[0m\u001b[1;33m:\u001b[0m\u001b[1;33m\u001b[0m\u001b[1;33m\u001b[0m\u001b[0m\n\u001b[1;32m--> 418\u001b[1;33m             \u001b[0mexecutable\u001b[0m \u001b[1;33m=\u001b[0m \u001b[0mself\u001b[0m\u001b[1;33m.\u001b[0m\u001b[0mcompile\u001b[0m\u001b[1;33m(\u001b[0m\u001b[0mrun_cfg\u001b[0m\u001b[1;33m)\u001b[0m\u001b[1;33m\u001b[0m\u001b[1;33m\u001b[0m\u001b[0m\n\u001b[0m\u001b[0;32m    419\u001b[0m             self._runtime = Runtime(executable,\n\u001b[0;32m    420\u001b[0m                                     \u001b[0mActorType\u001b[0m\u001b[1;33m.\u001b[0m\u001b[0mMultiProcessing\u001b[0m\u001b[1;33m,\u001b[0m\u001b[1;33m\u001b[0m\u001b[1;33m\u001b[0m\u001b[0m\n",
      "\u001b[1;32m~\\lava-nc\\lava\\src\\lava\\magma\\core\\process\\process.py\u001b[0m in \u001b[0;36mcompile\u001b[1;34m(self, run_cfg)\u001b[0m\n\u001b[0;32m    371\u001b[0m         \u001b[1;32mfrom\u001b[0m \u001b[0mlava\u001b[0m\u001b[1;33m.\u001b[0m\u001b[0mmagma\u001b[0m\u001b[1;33m.\u001b[0m\u001b[0mcompiler\u001b[0m\u001b[1;33m.\u001b[0m\u001b[0mcompiler\u001b[0m \u001b[1;32mimport\u001b[0m \u001b[0mCompiler\u001b[0m\u001b[1;33m\u001b[0m\u001b[1;33m\u001b[0m\u001b[0m\n\u001b[0;32m    372\u001b[0m         \u001b[0mcompiler\u001b[0m \u001b[1;33m=\u001b[0m \u001b[0mCompiler\u001b[0m\u001b[1;33m(\u001b[0m\u001b[0mloglevel\u001b[0m\u001b[1;33m=\u001b[0m\u001b[0mself\u001b[0m\u001b[1;33m.\u001b[0m\u001b[0mloglevel\u001b[0m\u001b[1;33m)\u001b[0m\u001b[1;33m\u001b[0m\u001b[1;33m\u001b[0m\u001b[0m\n\u001b[1;32m--> 373\u001b[1;33m         \u001b[1;32mreturn\u001b[0m \u001b[0mcompiler\u001b[0m\u001b[1;33m.\u001b[0m\u001b[0mcompile\u001b[0m\u001b[1;33m(\u001b[0m\u001b[0mself\u001b[0m\u001b[1;33m,\u001b[0m \u001b[0mrun_cfg\u001b[0m\u001b[1;33m)\u001b[0m\u001b[1;33m\u001b[0m\u001b[1;33m\u001b[0m\u001b[0m\n\u001b[0m\u001b[0;32m    374\u001b[0m \u001b[1;33m\u001b[0m\u001b[0m\n\u001b[0;32m    375\u001b[0m     \u001b[1;32mdef\u001b[0m \u001b[0msave\u001b[0m\u001b[1;33m(\u001b[0m\u001b[0mself\u001b[0m\u001b[1;33m,\u001b[0m \u001b[0mpath\u001b[0m\u001b[1;33m:\u001b[0m \u001b[0mstr\u001b[0m\u001b[1;33m)\u001b[0m\u001b[1;33m:\u001b[0m\u001b[1;33m\u001b[0m\u001b[1;33m\u001b[0m\u001b[0m\n",
      "\u001b[1;32m~\\lava-nc\\lava\\src\\lava\\magma\\compiler\\compiler.py\u001b[0m in \u001b[0;36mcompile\u001b[1;34m(self, proc, run_cfg)\u001b[0m\n\u001b[0;32m   1068\u001b[0m             \u001b[0mp\u001b[0m\u001b[1;33m.\u001b[0m\u001b[0m_is_compiled\u001b[0m \u001b[1;33m=\u001b[0m \u001b[1;32mTrue\u001b[0m\u001b[1;33m\u001b[0m\u001b[1;33m\u001b[0m\u001b[0m\n\u001b[0;32m   1069\u001b[0m \u001b[1;33m\u001b[0m\u001b[0m\n\u001b[1;32m-> 1070\u001b[1;33m         \u001b[0mproc_map\u001b[0m \u001b[1;33m=\u001b[0m \u001b[0mself\u001b[0m\u001b[1;33m.\u001b[0m\u001b[0m_map_proc_to_model\u001b[0m\u001b[1;33m(\u001b[0m\u001b[0mprocs\u001b[0m\u001b[1;33m,\u001b[0m \u001b[0mrun_cfg\u001b[0m\u001b[1;33m)\u001b[0m\u001b[1;33m\u001b[0m\u001b[1;33m\u001b[0m\u001b[0m\n\u001b[0m\u001b[0;32m   1071\u001b[0m         \u001b[1;31m# ToDo: Still need to register ProcModel somehow with Proc so\u001b[0m\u001b[1;33m\u001b[0m\u001b[1;33m\u001b[0m\u001b[1;33m\u001b[0m\u001b[0m\n\u001b[0;32m   1072\u001b[0m         \u001b[1;31m#  interactive access is possible later\u001b[0m\u001b[1;33m\u001b[0m\u001b[1;33m\u001b[0m\u001b[1;33m\u001b[0m\u001b[0m\n",
      "\u001b[1;32m~\\lava-nc\\lava\\src\\lava\\magma\\compiler\\compiler.py\u001b[0m in \u001b[0;36m_map_proc_to_model\u001b[1;34m(self, procs, run_cfg)\u001b[0m\n\u001b[0;32m    270\u001b[0m             \u001b[1;32mif\u001b[0m \u001b[0missubclass\u001b[0m\u001b[1;33m(\u001b[0m\u001b[0mmodel_cls\u001b[0m\u001b[1;33m,\u001b[0m \u001b[0mAbstractSubProcessModel\u001b[0m\u001b[1;33m)\u001b[0m\u001b[1;33m:\u001b[0m\u001b[1;33m\u001b[0m\u001b[1;33m\u001b[0m\u001b[0m\n\u001b[0;32m    271\u001b[0m                 \u001b[1;31m# Recursively substitute SubProcModel by sub processes\u001b[0m\u001b[1;33m\u001b[0m\u001b[1;33m\u001b[0m\u001b[1;33m\u001b[0m\u001b[0m\n\u001b[1;32m--> 272\u001b[1;33m                 \u001b[0msub_map\u001b[0m \u001b[1;33m=\u001b[0m \u001b[0mself\u001b[0m\u001b[1;33m.\u001b[0m\u001b[0m_expand_sub_proc_model\u001b[0m\u001b[1;33m(\u001b[0m\u001b[0mmodel_cls\u001b[0m\u001b[1;33m,\u001b[0m \u001b[0mp\u001b[0m\u001b[1;33m,\u001b[0m \u001b[0mrun_cfg\u001b[0m\u001b[1;33m)\u001b[0m\u001b[1;33m\u001b[0m\u001b[1;33m\u001b[0m\u001b[0m\n\u001b[0m\u001b[0;32m    273\u001b[0m                 \u001b[0mproc_map\u001b[0m\u001b[1;33m.\u001b[0m\u001b[0mupdate\u001b[0m\u001b[1;33m(\u001b[0m\u001b[0msub_map\u001b[0m\u001b[1;33m)\u001b[0m\u001b[1;33m\u001b[0m\u001b[1;33m\u001b[0m\u001b[0m\n\u001b[0;32m    274\u001b[0m             \u001b[1;32melse\u001b[0m\u001b[1;33m:\u001b[0m\u001b[1;33m\u001b[0m\u001b[1;33m\u001b[0m\u001b[0m\n",
      "\u001b[1;32m~\\lava-nc\\lava\\src\\lava\\magma\\compiler\\compiler.py\u001b[0m in \u001b[0;36m_expand_sub_proc_model\u001b[1;34m(self, model_cls, proc, run_cfg)\u001b[0m\n\u001b[0;32m    246\u001b[0m \u001b[1;33m\u001b[0m\u001b[0m\n\u001b[0;32m    247\u001b[0m         \u001b[1;31m# Build SubProcessModel\u001b[0m\u001b[1;33m\u001b[0m\u001b[1;33m\u001b[0m\u001b[1;33m\u001b[0m\u001b[0m\n\u001b[1;32m--> 248\u001b[1;33m         \u001b[0mmodel\u001b[0m \u001b[1;33m=\u001b[0m \u001b[0mmodel_cls\u001b[0m\u001b[1;33m(\u001b[0m\u001b[0mproc\u001b[0m\u001b[1;33m)\u001b[0m\u001b[1;33m\u001b[0m\u001b[1;33m\u001b[0m\u001b[0m\n\u001b[0m\u001b[0;32m    249\u001b[0m         \u001b[1;31m# Check if VarPorts are configured and propagate them to the sub process\u001b[0m\u001b[1;33m\u001b[0m\u001b[1;33m\u001b[0m\u001b[1;33m\u001b[0m\u001b[0m\n\u001b[0;32m    250\u001b[0m         \u001b[0mself\u001b[0m\u001b[1;33m.\u001b[0m\u001b[0m_propagate_var_ports\u001b[0m\u001b[1;33m(\u001b[0m\u001b[0mproc\u001b[0m\u001b[1;33m)\u001b[0m\u001b[1;33m\u001b[0m\u001b[1;33m\u001b[0m\u001b[0m\n",
      "\u001b[1;32m~\\lava-nc\\depth\\semd\\proc\\semd_2d\\process.py\u001b[0m in \u001b[0;36m__init__\u001b[1;34m(self, proc)\u001b[0m\n\u001b[0;32m    103\u001b[0m         \u001b[0mconn_shape\u001b[0m \u001b[1;33m=\u001b[0m \u001b[1;33m(\u001b[0m\u001b[0mn_elems\u001b[0m\u001b[1;33m,\u001b[0m \u001b[0mn_elems\u001b[0m\u001b[1;33m)\u001b[0m\u001b[1;33m\u001b[0m\u001b[1;33m\u001b[0m\u001b[0m\n\u001b[0;32m    104\u001b[0m \u001b[1;33m\u001b[0m\u001b[0m\n\u001b[1;32m--> 105\u001b[1;33m         \u001b[0mself\u001b[0m\u001b[1;33m.\u001b[0m\u001b[0mdense_up\u001b[0m \u001b[1;33m=\u001b[0m \u001b[0mDense\u001b[0m\u001b[1;33m(\u001b[0m\u001b[0mshape\u001b[0m\u001b[1;33m=\u001b[0m\u001b[0mconn_shape\u001b[0m\u001b[1;33m,\u001b[0m \u001b[0mweights\u001b[0m\u001b[1;33m=\u001b[0m\u001b[0mutils\u001b[0m\u001b[1;33m.\u001b[0m\u001b[0mget_connection_up\u001b[0m\u001b[1;33m(\u001b[0m\u001b[0mout_shape\u001b[0m\u001b[1;33m)\u001b[0m\u001b[1;33m,\u001b[0m \u001b[0muse_graded_spike\u001b[0m\u001b[1;33m=\u001b[0m\u001b[1;32mTrue\u001b[0m\u001b[1;33m)\u001b[0m\u001b[1;33m\u001b[0m\u001b[1;33m\u001b[0m\u001b[0m\n\u001b[0m\u001b[0;32m    106\u001b[0m         \u001b[0mself\u001b[0m\u001b[1;33m.\u001b[0m\u001b[0mdense_down\u001b[0m \u001b[1;33m=\u001b[0m \u001b[0mDense\u001b[0m\u001b[1;33m(\u001b[0m\u001b[0mshape\u001b[0m\u001b[1;33m=\u001b[0m\u001b[0mconn_shape\u001b[0m\u001b[1;33m,\u001b[0m \u001b[0mweights\u001b[0m\u001b[1;33m=\u001b[0m\u001b[0mutils\u001b[0m\u001b[1;33m.\u001b[0m\u001b[0mget_connection_down\u001b[0m\u001b[1;33m(\u001b[0m\u001b[0mout_shape\u001b[0m\u001b[1;33m)\u001b[0m\u001b[1;33m,\u001b[0m \u001b[0muse_graded_spike\u001b[0m\u001b[1;33m=\u001b[0m\u001b[1;32mTrue\u001b[0m\u001b[1;33m)\u001b[0m\u001b[1;33m\u001b[0m\u001b[1;33m\u001b[0m\u001b[0m\n\u001b[0;32m    107\u001b[0m         \u001b[0mself\u001b[0m\u001b[1;33m.\u001b[0m\u001b[0mdense_left\u001b[0m \u001b[1;33m=\u001b[0m \u001b[0mDense\u001b[0m\u001b[1;33m(\u001b[0m\u001b[0mshape\u001b[0m\u001b[1;33m=\u001b[0m\u001b[0mconn_shape\u001b[0m\u001b[1;33m,\u001b[0m \u001b[0mweights\u001b[0m\u001b[1;33m=\u001b[0m\u001b[0mutils\u001b[0m\u001b[1;33m.\u001b[0m\u001b[0mget_connection_left\u001b[0m\u001b[1;33m(\u001b[0m\u001b[0mout_shape\u001b[0m\u001b[1;33m)\u001b[0m\u001b[1;33m,\u001b[0m \u001b[0muse_graded_spike\u001b[0m\u001b[1;33m=\u001b[0m\u001b[1;32mTrue\u001b[0m\u001b[1;33m)\u001b[0m\u001b[1;33m\u001b[0m\u001b[1;33m\u001b[0m\u001b[0m\n",
      "\u001b[1;32m~\\lava-nc\\depth\\semd\\proc\\semd_2d\\utils.py\u001b[0m in \u001b[0;36mget_connection_up\u001b[1;34m(shape)\u001b[0m\n\u001b[0;32m     27\u001b[0m \u001b[1;32mdef\u001b[0m \u001b[0mget_connection_up\u001b[0m\u001b[1;33m(\u001b[0m\u001b[0mshape\u001b[0m\u001b[1;33m)\u001b[0m\u001b[1;33m:\u001b[0m\u001b[1;33m\u001b[0m\u001b[1;33m\u001b[0m\u001b[0m\n\u001b[0;32m     28\u001b[0m     \u001b[0md\u001b[0m \u001b[1;33m=\u001b[0m \u001b[0mnp\u001b[0m\u001b[1;33m.\u001b[0m\u001b[0mones\u001b[0m\u001b[1;33m(\u001b[0m\u001b[0mshape\u001b[0m\u001b[1;33m[\u001b[0m\u001b[1;36m0\u001b[0m\u001b[1;33m]\u001b[0m \u001b[1;33m*\u001b[0m \u001b[1;33m(\u001b[0m\u001b[0mshape\u001b[0m\u001b[1;33m[\u001b[0m\u001b[1;36m1\u001b[0m\u001b[1;33m]\u001b[0m \u001b[1;33m-\u001b[0m \u001b[1;36m1\u001b[0m\u001b[1;33m)\u001b[0m\u001b[1;33m)\u001b[0m\u001b[1;33m\u001b[0m\u001b[1;33m\u001b[0m\u001b[0m\n\u001b[1;32m---> 29\u001b[1;33m     \u001b[0mconn\u001b[0m \u001b[1;33m=\u001b[0m \u001b[0mnp\u001b[0m\u001b[1;33m.\u001b[0m\u001b[0mdiag\u001b[0m\u001b[1;33m(\u001b[0m\u001b[0md\u001b[0m\u001b[1;33m,\u001b[0m \u001b[0mshape\u001b[0m\u001b[1;33m[\u001b[0m\u001b[1;36m0\u001b[0m\u001b[1;33m]\u001b[0m\u001b[1;33m)\u001b[0m\u001b[1;33m\u001b[0m\u001b[1;33m\u001b[0m\u001b[0m\n\u001b[0m\u001b[0;32m     30\u001b[0m     \u001b[1;32mreturn\u001b[0m \u001b[0mconn\u001b[0m\u001b[1;33m\u001b[0m\u001b[1;33m\u001b[0m\u001b[0m\n\u001b[0;32m     31\u001b[0m \u001b[1;33m\u001b[0m\u001b[0m\n",
      "\u001b[1;32m<__array_function__ internals>\u001b[0m in \u001b[0;36mdiag\u001b[1;34m(*args, **kwargs)\u001b[0m\n",
      "\u001b[1;32mc:\\users\\schiavaz\\lava-nc\\venv\\lib\\site-packages\\numpy\\lib\\twodim_base.py\u001b[0m in \u001b[0;36mdiag\u001b[1;34m(v, k)\u001b[0m\n\u001b[0;32m    291\u001b[0m     \u001b[1;32mif\u001b[0m \u001b[0mlen\u001b[0m\u001b[1;33m(\u001b[0m\u001b[0ms\u001b[0m\u001b[1;33m)\u001b[0m \u001b[1;33m==\u001b[0m \u001b[1;36m1\u001b[0m\u001b[1;33m:\u001b[0m\u001b[1;33m\u001b[0m\u001b[1;33m\u001b[0m\u001b[0m\n\u001b[0;32m    292\u001b[0m         \u001b[0mn\u001b[0m \u001b[1;33m=\u001b[0m \u001b[0ms\u001b[0m\u001b[1;33m[\u001b[0m\u001b[1;36m0\u001b[0m\u001b[1;33m]\u001b[0m\u001b[1;33m+\u001b[0m\u001b[0mabs\u001b[0m\u001b[1;33m(\u001b[0m\u001b[0mk\u001b[0m\u001b[1;33m)\u001b[0m\u001b[1;33m\u001b[0m\u001b[1;33m\u001b[0m\u001b[0m\n\u001b[1;32m--> 293\u001b[1;33m         \u001b[0mres\u001b[0m \u001b[1;33m=\u001b[0m \u001b[0mzeros\u001b[0m\u001b[1;33m(\u001b[0m\u001b[1;33m(\u001b[0m\u001b[0mn\u001b[0m\u001b[1;33m,\u001b[0m \u001b[0mn\u001b[0m\u001b[1;33m)\u001b[0m\u001b[1;33m,\u001b[0m \u001b[0mv\u001b[0m\u001b[1;33m.\u001b[0m\u001b[0mdtype\u001b[0m\u001b[1;33m)\u001b[0m\u001b[1;33m\u001b[0m\u001b[1;33m\u001b[0m\u001b[0m\n\u001b[0m\u001b[0;32m    294\u001b[0m         \u001b[1;32mif\u001b[0m \u001b[0mk\u001b[0m \u001b[1;33m>=\u001b[0m \u001b[1;36m0\u001b[0m\u001b[1;33m:\u001b[0m\u001b[1;33m\u001b[0m\u001b[1;33m\u001b[0m\u001b[0m\n\u001b[0;32m    295\u001b[0m             \u001b[0mi\u001b[0m \u001b[1;33m=\u001b[0m \u001b[0mk\u001b[0m\u001b[1;33m\u001b[0m\u001b[1;33m\u001b[0m\u001b[0m\n",
      "\u001b[1;31mMemoryError\u001b[0m: Unable to allocate 13.9 GiB for an array with shape (43200, 43200) and data type float64"
     ]
    }
   ],
   "source": [
    "out = runner.run()"
   ]
  },
  {
   "cell_type": "code",
   "execution_count": null,
   "id": "c0a11560",
   "metadata": {},
   "outputs": [],
   "source": [
    "raw_depths = out[\"raw_depths\"]"
   ]
  },
  {
   "cell_type": "code",
   "execution_count": null,
   "id": "236f1ba7",
   "metadata": {},
   "outputs": [],
   "source": [
    "raw_depths.shape"
   ]
  },
  {
   "cell_type": "code",
   "execution_count": null,
   "id": "53da7c63",
   "metadata": {},
   "outputs": [],
   "source": [
    "m = plt.imshow(raw_depths[:].sum(axis=0), interpolation=\"none\", cmap=\"jet_r\", vmax=3)\n",
    "plt.colorbar(m)"
   ]
  },
  {
   "cell_type": "code",
   "execution_count": null,
   "id": "555e6404",
   "metadata": {},
   "outputs": [],
   "source": [
    "plt.hist(raw_depths.flatten(), 100, range=(0.1, 2.5));"
   ]
  },
  {
   "cell_type": "code",
   "execution_count": null,
   "id": "ca8aa787",
   "metadata": {},
   "outputs": [],
   "source": [
    "flow_u = out[\"flow_u\"]\n",
    "flow_v = out[\"flow_v\"]"
   ]
  },
  {
   "cell_type": "code",
   "execution_count": null,
   "id": "27361a4c",
   "metadata": {},
   "outputs": [],
   "source": [
    "idx = 3\n",
    "U = flow_u[idx:].sum(axis=0)\n",
    "V = flow_v[idx:].sum(axis=0)\n",
    "m = np.sqrt(U**2 + V**2)"
   ]
  },
  {
   "cell_type": "code",
   "execution_count": null,
   "id": "66a46b1d",
   "metadata": {},
   "outputs": [],
   "source": [
    "%matplotlib inline\n",
    "plt.figure(figsize=(10, 10))\n",
    "plt.quiver(U[::1, ::1], V[::1, ::1], m[::1, ::1], cmap=\"jet_r\")\n",
    "plt.gca().invert_yaxis()"
   ]
  },
  {
   "cell_type": "code",
   "execution_count": null,
   "id": "ddc56816",
   "metadata": {},
   "outputs": [],
   "source": [
    "m = plt.imshow(V, interpolation=\"none\")\n",
    "plt.colorbar(m)"
   ]
  },
  {
   "cell_type": "code",
   "execution_count": null,
   "id": "929906c7",
   "metadata": {},
   "outputs": [],
   "source": [
    "poses = runner.cam_poses\n",
    "calib = runner.camera_calib"
   ]
  },
  {
   "cell_type": "code",
   "execution_count": null,
   "id": "9677362b",
   "metadata": {},
   "outputs": [],
   "source": [
    "raw_depths = out[\"raw_depths\"][::1]\n",
    "times = out[\"times\"][::1]"
   ]
  },
  {
   "cell_type": "code",
   "execution_count": null,
   "id": "5bf123df",
   "metadata": {},
   "outputs": [],
   "source": [
    "def _image2pointcloud(d, v_range=None):\n",
    "    points = []\n",
    "    for x in range(d.shape[1]):\n",
    "        for y in range(d.shape[0]):\n",
    "            if np.isnan(d[y, x]):\n",
    "                continue\n",
    "            if v_range != None:\n",
    "                if v_range[0] > d[y, x] or d[y, x] > v_range[1]:\n",
    "                    continue\n",
    "            points.append([x, y, d[y, x]])\n",
    "    return np.array(points)"
   ]
  },
  {
   "cell_type": "code",
   "execution_count": null,
   "id": "92ab3c56",
   "metadata": {},
   "outputs": [],
   "source": [
    "def project3d(points, calib, pose):\n",
    "    K = np.array([\n",
    "        [calib[0], 0, calib[2]],\n",
    "        [0, calib[1], calib[3]],\n",
    "        [0, 0, 1]\n",
    "    ])\n",
    "\n",
    "    t = pose[1:4].reshape(3, 1)\n",
    "    q = pose[4:]\n",
    "\n",
    "    r = R.from_quat(q)\n",
    "    r_m = r.as_matrix()\n",
    "\n",
    "    K_b = np.block([\n",
    "        [K, np.zeros((3, 1))],\n",
    "        [np.zeros((1, 3)), 1]\n",
    "    ])\n",
    "    rt_b = np.block([\n",
    "        [r_m, t],\n",
    "        [np.zeros((1, 3)), 1]\n",
    "    ])\n",
    "\n",
    "    proj = []\n",
    "    for p in points:\n",
    "        if p[2] == 0:\n",
    "            continue\n",
    "        po = np.array([p[0], p[1], 1, 1 / p[2]])\n",
    "        test = p[2] * np.linalg.inv(K_b @ rt_b) @ po\n",
    "        proj.append(test.transpose())\n",
    "\n",
    "    proj = np.array(proj)\n",
    "    return proj"
   ]
  },
  {
   "cell_type": "code",
   "execution_count": null,
   "id": "4b605abd",
   "metadata": {},
   "outputs": [],
   "source": [
    "projected_points = np.zeros((1, 4))\n",
    "ps = []\n",
    "p_init = poses[0]\n",
    "for i, d in enumerate(tqdm(raw_depths)):\n",
    "    points = _image2pointcloud(d)\n",
    "\n",
    "    idx = np.searchsorted(poses[:, 0], times[i])\n",
    "#     print(times[i])\n",
    "    p0 = poses[idx - 1]\n",
    "    p1 = poses[idx]\n",
    "    y = (times[i] - p0[0]) / (p1[0] - p0[0])\n",
    "    p = (p0 * (1 - y) + p1 * (y))\n",
    "    p[1:4] = p[1:4].reshape(1, 3) @ np.diag([-1, 1, 1])\n",
    "#     p = poses[0]\n",
    "#     print(\"p0: {},\\np1:{},\\np:{}\".format(p0[:4], p1[:4], p[:4]))\n",
    "    ps.append([p[2], p[3], p[1]])\n",
    "    \n",
    "    proj = project3d(points, calib, p)\n",
    "    if proj.size == 0:\n",
    "        continue\n",
    "    projected_points = np.concatenate((projected_points, proj))"
   ]
  },
  {
   "cell_type": "code",
   "execution_count": null,
   "id": "fe2082e1",
   "metadata": {},
   "outputs": [],
   "source": [
    "def points_to_open3d_pointcloud(points, cmap=\"jet_r\", z=2):\n",
    "\n",
    "    pcd = o3d.geometry.PointCloud()\n",
    "    pcd.points = o3d.utility.Vector3dVector(points)\n",
    "\n",
    "    minima = min(points[:, z])\n",
    "    maxima = max(points[:, z])\n",
    "    print(minima)\n",
    "    print(maxima)\n",
    "    print(\"---\")\n",
    "\n",
    "    norm = matplotlib.colors.Normalize(vmin=minima, vmax=maxima, clip=True)\n",
    "    mapper = cm.ScalarMappable(norm=norm, cmap=cmap)\n",
    "\n",
    "    colors = mapper.to_rgba(points[:, z])[:,:3]\n",
    "    print(colors.shape)\n",
    "\n",
    "    pcd.colors = o3d.utility.Vector3dVector(colors)\n",
    "\n",
    "    return pcd"
   ]
  },
  {
   "cell_type": "code",
   "execution_count": null,
   "id": "7d49b16e",
   "metadata": {},
   "outputs": [],
   "source": [
    "proj = projected_points[projected_points[:,1] > -3]\n",
    "pcd = points_to_open3d_pointcloud(proj[:,:3], cmap=\"jet\", z=1)\n",
    "\n",
    "o3d.visualization.draw_geometries([pcd])"
   ]
  },
  {
   "cell_type": "code",
   "execution_count": null,
   "id": "cc908f9a",
   "metadata": {},
   "outputs": [],
   "source": [
    "pcd_d = pcd.random_down_sample(1.0)\n",
    "pcd_f, l = pcd_d.remove_radius_outlier(nb_points=10, radius=0.05)\n",
    "# pcd_f, l = pcd_d.remove_statistical_outlier(nb_neighbors=30, std_ratio=0.2, print_progress=True)"
   ]
  },
  {
   "cell_type": "code",
   "execution_count": null,
   "id": "11a4fc6f",
   "metadata": {},
   "outputs": [],
   "source": [
    "pcd_b = pcd_f.voxel_down_sample(voxel_size=0.02)"
   ]
  },
  {
   "cell_type": "code",
   "execution_count": null,
   "id": "b6f60cf5",
   "metadata": {},
   "outputs": [],
   "source": [
    "o3d.visualization.draw_geometries([pcd_f])"
   ]
  },
  {
   "cell_type": "code",
   "execution_count": null,
   "id": "7a9b7d9a",
   "metadata": {},
   "outputs": [],
   "source": [
    "ps = np.array(ps)\n",
    "ps_b = np.copy(ps)"
   ]
  },
  {
   "cell_type": "code",
   "execution_count": null,
   "id": "a7506095",
   "metadata": {},
   "outputs": [],
   "source": [
    "ps_b[:, 0] += 3"
   ]
  },
  {
   "cell_type": "code",
   "execution_count": null,
   "id": "f899a1f4",
   "metadata": {},
   "outputs": [],
   "source": [
    "# proj = projected_points[projected_points[:,2] > -3]\n",
    "ps_pcd = points_to_open3d_pointcloud(ps_b, cmap=\"spring\", z=2)\n",
    "\n",
    "o3d.visualization.draw_geometries([pcd_b, ps_pcd])"
   ]
  },
  {
   "cell_type": "code",
   "execution_count": null,
   "id": "e513e2e0",
   "metadata": {},
   "outputs": [],
   "source": [
    "median_depths = out[\"median_depths\"]"
   ]
  },
  {
   "cell_type": "code",
   "execution_count": null,
   "id": "4900fec7",
   "metadata": {},
   "outputs": [],
   "source": [
    "idx = 120\n",
    "med_m = np.ma.masked_where(median_depths[idx]==0, median_depths[idx])\n",
    "m = plt.imshow(med_m, interpolation=\"none\", cmap=\"jet_r\", vmax=3)\n",
    "plt.colorbar(m)"
   ]
  },
  {
   "cell_type": "code",
   "execution_count": null,
   "id": "ff0fa062",
   "metadata": {},
   "outputs": [],
   "source": []
  },
  {
   "cell_type": "code",
   "execution_count": null,
   "id": "ab9931a7",
   "metadata": {},
   "outputs": [],
   "source": []
  },
  {
   "cell_type": "code",
   "execution_count": null,
   "id": "e9ad0fa0",
   "metadata": {},
   "outputs": [],
   "source": []
  }
 ],
 "metadata": {
  "kernelspec": {
   "display_name": "Python 3 (ipykernel)",
   "language": "python",
   "name": "python3"
  },
  "language_info": {
   "codemirror_mode": {
    "name": "ipython",
    "version": 3
   },
   "file_extension": ".py",
   "mimetype": "text/x-python",
   "name": "python",
   "nbconvert_exporter": "python",
   "pygments_lexer": "ipython3",
   "version": "3.8.10"
  }
 },
 "nbformat": 4,
 "nbformat_minor": 5
}
