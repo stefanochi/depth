{
 "cells": [
  {
   "cell_type": "code",
   "execution_count": 1,
   "id": "fd021ed5",
   "metadata": {},
   "outputs": [
    {
     "name": "stdout",
     "output_type": "stream",
     "text": [
      "(69, 82)\n"
     ]
    }
   ],
   "source": [
    "%load_ext autoreload\n",
    "%autoreload 2\n",
    "import sys\n",
    "sys.path.append(\"../../\")\n",
    "\n",
    "import numpy as np\n",
    "\n",
    "from lava.proc.io.source import RingBuffer\n",
    "\n",
    "from semd.proc.semd.process import SemdLayer\n",
    "\n",
    "from lava.magma.core.run_configs import RunConfig, Loihi1SimCfg\n",
    "from lava.magma.core.run_conditions import RunSteps\n",
    "\n",
    "\n",
    "events_range = np.loadtxt(\"../../data_processed/events_refact.txt\")\n",
    "# this data is already filtered by time, no need to redo it here\n",
    "\n",
    "patch_center = (40, 76)\n",
    "patch_size = 15\n",
    "x_lim = (patch_center[1] - int(patch_size/2), patch_center[1] + int(patch_size/2)-1)\n",
    "y_lim = (patch_center[0] - int(patch_size/2), patch_center[0] + int(patch_size/2)-1)\n",
    "print(x_lim)\n",
    "\n",
    "events_filtered = events_range\n",
    "events_filtered = events_filtered[np.logical_and((x_lim[0] <= events_filtered[:,1]) , (events_filtered[:,1] <= x_lim[1]))]\n",
    "events_filtered = events_filtered[np.logical_and((y_lim[0] <= events_filtered[:,2]) , (events_filtered[:,2] <= y_lim[1]))]\n",
    "#events_filtered = events_filtered[[(y_lim[0] >= events_range[:,2]) & (events_range[:,2] <= y_lim[1])]\n",
    "events_filtered = np.array(events_filtered)\n",
    "events = events_filtered\n",
    "\n",
    "t_start = events[0, 0]\n",
    "duration = events[-1, 0] - events[0, 0]\n",
    "\n",
    "# prepare event data for input to process using lava.io.source\n",
    "timesteps = 100\n",
    "width = patch_size\n",
    "height = patch_size\n",
    "\n",
    "result = np.zeros((height*width, timesteps), dtype=int)\n",
    "\n",
    "for e in events:\n",
    "#     x = int(e[1])\n",
    "#     y = int(e[2])\n",
    "    \n",
    "    x = int(e[1]) - patch_center[1] + int(patch_size/2)\n",
    "    y = int(e[2]) - patch_center[0] + int(patch_size/2)\n",
    "    time = int((float(e[0]) - t_start) / duration * timesteps) - 1\n",
    "\n",
    "    # if e[3] == 1:\n",
    "    #     #consider only positive events\n",
    "    result[y*width + x, time] = 1.7\n",
    "\n",
    "# input layer\n",
    "input_n = RingBuffer(result)"
   ]
  },
  {
   "cell_type": "code",
   "execution_count": 2,
   "id": "bf800963",
   "metadata": {},
   "outputs": [],
   "source": [
    "semd = SemdLayer(shape=(height, width), conv_factor=1)\n",
    "input_n.s_out.connect(semd.s_in)"
   ]
  },
  {
   "cell_type": "code",
   "execution_count": 3,
   "id": "b008063c",
   "metadata": {},
   "outputs": [
    {
     "name": "stdout",
     "output_type": "stream",
     "text": [
      "\n",
      " Hello \n",
      "\n",
      "\n",
      " Hello \n",
      "\n",
      "Traceback (most recent call last):\n",
      "  File \"C:\\Users\\schiavaz\\lava-nc\\lava\\src\\lava\\magma\\runtime\\message_infrastructure\\multiprocessing.py\", line 30, in run\n",
      "    mp.Process.run(self)\n",
      "  File \"C:\\Program Files\\WindowsApps\\PythonSoftwareFoundation.Python.3.8_3.8.2800.0_x64__qbz5n2kfra8p0\\lib\\multiprocessing\\process.py\", line 108, in run\n",
      "    self._target(*self._args, **self._kwargs)\n",
      "  File \"C:\\Users\\schiavaz\\lava-nc\\lava\\src\\lava\\magma\\runtime\\runtime.py\", line 38, in target_fn\n",
      "    actor.start(*args, **kwargs)\n",
      "  File \"C:\\Users\\schiavaz\\lava-nc\\lava\\src\\lava\\magma\\core\\model\\py\\model.py\", line 62, in start\n",
      "    self.run()\n",
      "  File \"C:\\Users\\schiavaz\\lava-nc\\lava\\src\\lava\\magma\\core\\model\\py\\model.py\", line 161, in run\n",
      "    raise inst\n",
      "  File \"C:\\Users\\schiavaz\\lava-nc\\lava\\src\\lava\\magma\\core\\model\\py\\model.py\", line 132, in run\n",
      "    self.run_spk()\n",
      "  File \"C:\\Users\\schiavaz\\lava-nc\\lava\\src\\lava\\proc\\conv\\models.py\", line 32, in run_spk\n",
      "    a_out = utils.conv(\n",
      "  File \"C:\\Users\\schiavaz\\lava-nc\\lava\\src\\lava\\proc\\conv\\utils.py\", line 211, in conv\n",
      "    output = conv_scipy(\n",
      "  File \"C:\\Users\\schiavaz\\lava-nc\\lava\\src\\lava\\proc\\conv\\utils.py\", line 291, in conv_scipy\n",
      "    dilated_weight[k + g * k_grp, :, :, c],\n",
      "IndexError: index 1 is out of bounds for axis 3 with size 1\n",
      "\n"
     ]
    },
    {
     "ename": "RuntimeError",
     "evalue": "1 Exception(s) occurred. See output above for details.",
     "output_type": "error",
     "traceback": [
      "\u001b[1;31m---------------------------------------------------------------------------\u001b[0m",
      "\u001b[1;31mRuntimeError\u001b[0m                              Traceback (most recent call last)",
      "\u001b[1;32m~\\AppData\\Local\\Temp/ipykernel_22044/3466154130.py\u001b[0m in \u001b[0;36m<module>\u001b[1;34m\u001b[0m\n\u001b[0;32m      2\u001b[0m \u001b[1;33m\u001b[0m\u001b[0m\n\u001b[0;32m      3\u001b[0m \u001b[0mrun_condition\u001b[0m \u001b[1;33m=\u001b[0m \u001b[0mRunSteps\u001b[0m\u001b[1;33m(\u001b[0m\u001b[0mnum_steps\u001b[0m\u001b[1;33m=\u001b[0m\u001b[1;36m2\u001b[0m\u001b[1;33m)\u001b[0m\u001b[1;33m\u001b[0m\u001b[1;33m\u001b[0m\u001b[0m\n\u001b[1;32m----> 4\u001b[1;33m \u001b[0msemd\u001b[0m\u001b[1;33m.\u001b[0m\u001b[0mrun\u001b[0m\u001b[1;33m(\u001b[0m\u001b[0mcondition\u001b[0m\u001b[1;33m=\u001b[0m\u001b[0mrun_condition\u001b[0m\u001b[1;33m,\u001b[0m \u001b[0mrun_cfg\u001b[0m\u001b[1;33m=\u001b[0m\u001b[0mrcfg\u001b[0m\u001b[1;33m)\u001b[0m\u001b[1;33m\u001b[0m\u001b[1;33m\u001b[0m\u001b[0m\n\u001b[0m\u001b[0;32m      5\u001b[0m \u001b[0msemd\u001b[0m\u001b[1;33m.\u001b[0m\u001b[0mstop\u001b[0m\u001b[1;33m(\u001b[0m\u001b[1;33m)\u001b[0m\u001b[1;33m\u001b[0m\u001b[1;33m\u001b[0m\u001b[0m\n",
      "\u001b[1;32m~\\lava-nc\\lava\\src\\lava\\magma\\core\\process\\process.py\u001b[0m in \u001b[0;36mrun\u001b[1;34m(self, condition, run_cfg)\u001b[0m\n\u001b[0;32m    399\u001b[0m             \u001b[0mself\u001b[0m\u001b[1;33m.\u001b[0m\u001b[0m_runtime\u001b[0m\u001b[1;33m.\u001b[0m\u001b[0minitialize\u001b[0m\u001b[1;33m(\u001b[0m\u001b[1;33m)\u001b[0m\u001b[1;33m\u001b[0m\u001b[1;33m\u001b[0m\u001b[0m\n\u001b[0;32m    400\u001b[0m \u001b[1;33m\u001b[0m\u001b[0m\n\u001b[1;32m--> 401\u001b[1;33m         \u001b[0mself\u001b[0m\u001b[1;33m.\u001b[0m\u001b[0m_runtime\u001b[0m\u001b[1;33m.\u001b[0m\u001b[0mstart\u001b[0m\u001b[1;33m(\u001b[0m\u001b[0mcondition\u001b[0m\u001b[1;33m)\u001b[0m\u001b[1;33m\u001b[0m\u001b[1;33m\u001b[0m\u001b[0m\n\u001b[0m\u001b[0;32m    402\u001b[0m \u001b[1;33m\u001b[0m\u001b[0m\n\u001b[0;32m    403\u001b[0m     \u001b[1;32mdef\u001b[0m \u001b[0mwait\u001b[0m\u001b[1;33m(\u001b[0m\u001b[0mself\u001b[0m\u001b[1;33m)\u001b[0m\u001b[1;33m:\u001b[0m\u001b[1;33m\u001b[0m\u001b[1;33m\u001b[0m\u001b[0m\n",
      "\u001b[1;32m~\\lava-nc\\lava\\src\\lava\\magma\\runtime\\runtime.py\u001b[0m in \u001b[0;36mstart\u001b[1;34m(self, run_condition)\u001b[0m\n\u001b[0;32m    214\u001b[0m             \u001b[1;31m# Start running\u001b[0m\u001b[1;33m\u001b[0m\u001b[1;33m\u001b[0m\u001b[1;33m\u001b[0m\u001b[0m\n\u001b[0;32m    215\u001b[0m             \u001b[0mself\u001b[0m\u001b[1;33m.\u001b[0m\u001b[0m_is_started\u001b[0m \u001b[1;33m=\u001b[0m \u001b[1;32mTrue\u001b[0m\u001b[1;33m\u001b[0m\u001b[1;33m\u001b[0m\u001b[0m\n\u001b[1;32m--> 216\u001b[1;33m             \u001b[0mself\u001b[0m\u001b[1;33m.\u001b[0m\u001b[0m_run\u001b[0m\u001b[1;33m(\u001b[0m\u001b[0mrun_condition\u001b[0m\u001b[1;33m)\u001b[0m\u001b[1;33m\u001b[0m\u001b[1;33m\u001b[0m\u001b[0m\n\u001b[0m\u001b[0;32m    217\u001b[0m         \u001b[1;32melse\u001b[0m\u001b[1;33m:\u001b[0m\u001b[1;33m\u001b[0m\u001b[1;33m\u001b[0m\u001b[0m\n\u001b[0;32m    218\u001b[0m             \u001b[0mprint\u001b[0m\u001b[1;33m(\u001b[0m\u001b[1;34m\"Runtime not initialized yet.\"\u001b[0m\u001b[1;33m)\u001b[0m\u001b[1;33m\u001b[0m\u001b[1;33m\u001b[0m\u001b[0m\n",
      "\u001b[1;32m~\\lava-nc\\lava\\src\\lava\\magma\\runtime\\runtime.py\u001b[0m in \u001b[0;36m_run\u001b[1;34m(self, run_condition)\u001b[0m\n\u001b[0;32m    240\u001b[0m                                         \u001b[0merror_cnt\u001b[0m \u001b[1;33m+=\u001b[0m \u001b[1;36m1\u001b[0m\u001b[1;33m\u001b[0m\u001b[1;33m\u001b[0m\u001b[0m\n\u001b[0;32m    241\u001b[0m \u001b[1;33m\u001b[0m\u001b[0m\n\u001b[1;32m--> 242\u001b[1;33m                                 raise RuntimeError(\n\u001b[0m\u001b[0;32m    243\u001b[0m                                     \u001b[1;34mf\"{error_cnt} Exception(s) occurred. See \"\u001b[0m\u001b[1;33m\u001b[0m\u001b[1;33m\u001b[0m\u001b[0m\n\u001b[0;32m    244\u001b[0m                                     f\"output above for details.\")\n",
      "\u001b[1;31mRuntimeError\u001b[0m: 1 Exception(s) occurred. See output above for details."
     ]
    }
   ],
   "source": [
    "rcfg = Loihi1SimCfg(select_tag='floating_pt', select_sub_proc_model=True)\n",
    "\n",
    "run_condition = RunSteps(num_steps=2)\n",
    "semd.run(condition=run_condition, run_cfg=rcfg)\n",
    "semd.stop()"
   ]
  },
  {
   "cell_type": "code",
   "execution_count": null,
   "id": "5f1755f5",
   "metadata": {},
   "outputs": [],
   "source": []
  }
 ],
 "metadata": {
  "kernelspec": {
   "display_name": "Python 3 (ipykernel)",
   "language": "python",
   "name": "python3"
  },
  "language_info": {
   "codemirror_mode": {
    "name": "ipython",
    "version": 3
   },
   "file_extension": ".py",
   "mimetype": "text/x-python",
   "name": "python",
   "nbconvert_exporter": "python",
   "pygments_lexer": "ipython3",
   "version": "3.8.10"
  }
 },
 "nbformat": 4,
 "nbformat_minor": 5
}
