{
 "cells": [
  {
   "cell_type": "code",
   "execution_count": 1,
   "id": "0f648d63",
   "metadata": {},
   "outputs": [
    {
     "ename": "ImportError",
     "evalue": "cannot import name 'gen_weights' from 'utils' (C:\\Users\\schiavaz\\lava-nc\\depth\\semd_tests\\semd_refact\\../..\\utils.py)",
     "output_type": "error",
     "traceback": [
      "\u001b[1;31m---------------------------------------------------------------------------\u001b[0m",
      "\u001b[1;31mImportError\u001b[0m                               Traceback (most recent call last)",
      "\u001b[1;32m~\\AppData\\Local\\Temp/ipykernel_24408/1751191404.py\u001b[0m in \u001b[0;36m<module>\u001b[1;34m\u001b[0m\n\u001b[0;32m     24\u001b[0m \u001b[1;32mfrom\u001b[0m \u001b[0msemd\u001b[0m\u001b[1;33m.\u001b[0m\u001b[0mproc\u001b[0m\u001b[1;33m.\u001b[0m\u001b[0mchange_dim\u001b[0m\u001b[1;33m.\u001b[0m\u001b[0mprocess\u001b[0m \u001b[1;32mimport\u001b[0m \u001b[0mChangeDim\u001b[0m\u001b[1;33m\u001b[0m\u001b[1;33m\u001b[0m\u001b[0m\n\u001b[0;32m     25\u001b[0m \u001b[1;33m\u001b[0m\u001b[0m\n\u001b[1;32m---> 26\u001b[1;33m \u001b[1;32mfrom\u001b[0m \u001b[0mutils\u001b[0m \u001b[1;32mimport\u001b[0m \u001b[0mgen_weights\u001b[0m\u001b[1;33m\u001b[0m\u001b[1;33m\u001b[0m\u001b[0m\n\u001b[0m\u001b[0;32m     27\u001b[0m \u001b[1;33m\u001b[0m\u001b[0m\n\u001b[0;32m     28\u001b[0m \u001b[0mevents_range\u001b[0m \u001b[1;33m=\u001b[0m \u001b[0mnp\u001b[0m\u001b[1;33m.\u001b[0m\u001b[0mloadtxt\u001b[0m\u001b[1;33m(\u001b[0m\u001b[1;34m\"../../data_processed/events_refact.txt\"\u001b[0m\u001b[1;33m)\u001b[0m\u001b[1;33m\u001b[0m\u001b[1;33m\u001b[0m\u001b[0m\n",
      "\u001b[1;31mImportError\u001b[0m: cannot import name 'gen_weights' from 'utils' (C:\\Users\\schiavaz\\lava-nc\\depth\\semd_tests\\semd_refact\\../..\\utils.py)"
     ]
    }
   ],
   "source": [
    "%load_ext autoreload\n",
    "%autoreload 2\n",
    "import sys\n",
    "\n",
    "sys.path.append(\"../../\")\n",
    "\n",
    "import numpy as np\n",
    "import matplotlib.pyplot as plt\n",
    "\n",
    "from lava.proc.io.sink import RingBuffer as SinkBuffer\n",
    "\n",
    "from lava.proc.lif.process import LIF\n",
    "from lava.proc.dense.process import Dense\n",
    "from lava.proc.monitor.process import Monitor\n",
    "\n",
    "from lava.lib.dnf.connect.reshape_int.process import ReshapeInt\n",
    "from lava.lib.dnf.connect.reshape_bool.process import ReshapeBool\n",
    "\n",
    "from lava.magma.core.run_configs import RunConfig, Loihi1SimCfg\n",
    "from lava.magma.core.run_conditions import RunSteps\n",
    "\n",
    "from semd.proc.tde.process import TDE\n",
    "from semd.proc.reshape_conv.process import ReshapeConv\n",
    "from semd.proc.change_dim.process import ChangeDim\n",
    "\n",
    "from utils import gen_weights\n",
    "\n",
    "events_range = np.loadtxt(\"../../data_processed/events_refact.txt\")\n",
    "# this data is already filtered by time, no need to redo it here\n",
    "events = events_range\n",
    "\n",
    "patch_center = (90, 120)\n",
    "patch_size = 180\n",
    "x_lim = (patch_center[1] - int(patch_size / 2), patch_center[1] + int(patch_size / 2) - 1)\n",
    "y_lim = (patch_center[0] - int(patch_size / 2), patch_center[0] + int(patch_size / 2) - 1)\n",
    "print(x_lim)\n",
    "\n",
    "events_filtered = events_range\n",
    "events_filtered = events_filtered[\n",
    "    np.logical_and((x_lim[0] <= events_filtered[:, 1]), (events_filtered[:, 1] <= x_lim[1]))]\n",
    "events_filtered = events_filtered[\n",
    "    np.logical_and((y_lim[0] <= events_filtered[:, 2]), (events_filtered[:, 2] <= y_lim[1]))]\n",
    "# events_filtered = events_filtered[[(y_lim[0] >= events_range[:,2]) & (events_range[:,2] <= y_lim[1])]\n",
    "events_filtered = np.array(events_filtered)\n",
    "events = events_filtered\n",
    "\n",
    "events[:,1] = (events[:,1] - patch_center[1] + int(patch_size / 2)).astype(int)\n",
    "events[:,2] = (events[:,2] - patch_center[0] + int(patch_size / 2)).astype(int)\n",
    "\n",
    "t_start = events[0, 0]\n",
    "duration = events[-1, 0] - events[0, 0]\n",
    "\n",
    "# prepare event data for input to process using lava.io.source\n",
    "timesteps = 50\n",
    "steps = 50\n",
    "width = patch_size\n",
    "height = patch_size\n",
    "\n",
    "result = np.zeros((height, width, timesteps), dtype=int)\n",
    "\n",
    "for e in events:\n",
    "    x = int(e[1])\n",
    "    y = int(e[2])\n",
    "\n",
    "    #     x = int(e[1]) - patch_center[1] + int(patch_size / 2)\n",
    "    #     y = int(e[2]) - patch_center[0] + int(patch_size / 2)\n",
    "    time = int((float(e[0]) - t_start) / duration * timesteps) - 1\n",
    "\n",
    "    if e[3] == 1:\n",
    "        continue\n",
    "        # consider only positive events\n",
    "    result[y, x, time] = 1.0\n",
    "\n",
    "# input layer\n",
    "input_n = RingBuffer(result)\n",
    "\n",
    "shape = (height, width)\n",
    "conv_shape = (2, 2)\n",
    "conv_stride = (2, 2)\n",
    "thresh_percent = 0.5\n",
    "bias_weight = 10 / conv_shape[0]*conv_shape[1] * thresh_percent\n",
    "\n",
    "out_shape = (int(shape[0] / conv_stride[0]), int(shape[1] / conv_stride[1]))\n",
    "\n",
    "conv = ReshapeConv(input_shape=shape, conv_shape=conv_shape, conv_stride=conv_stride, bias_weight=bias_weight)\n",
    "input_n.s_out.connect(conv.s_in)\n",
    "\n",
    "lif = LIF(shape=out_shape, du=1.0, dv=0.0, vth=10.0)\n",
    "conv.s_out.connect(lif.a_in)\n",
    "\n",
    "detector_shape = (out_shape[0], out_shape[1] - 1)\n",
    "left_detector = TDE(shape=detector_shape, du=(0.05))\n",
    "\n",
    "change_dim_excit = ChangeDim(shape=(out_shape), col_del=[1], row_del=[])\n",
    "change_dim_trig = ChangeDim(shape=(out_shape), col_del=[-1], row_del=[])\n",
    "\n",
    "lif.s_out.connect(change_dim_excit.s_in)\n",
    "lif.s_out.connect(change_dim_trig.s_in)\n",
    "\n",
    "change_dim_trig.s_out.connect(left_detector.t_in)\n",
    "change_dim_excit.s_out.connect(left_detector.a_in)\n",
    "\n",
    "output_n = SinkBuffer(shape=detector_shape, buffer=steps)\n",
    "left_detector.s_out.connect(output_n.a_in)\n",
    "\n",
    "output_lif = SinkBuffer(shape=out_shape, buffer=steps)\n",
    "lif.s_out.connect(output_lif.a_in)\n",
    "\n",
    "output_n_in = SinkBuffer(shape=shape, buffer=steps)\n",
    "input_n.s_out.connect(output_n_in.a_in)\n",
    "\n",
    "monitor = Monitor()\n",
    "monitor.probe(left_detector.u, num_steps=steps)\n",
    "\n",
    "rcfg = Loihi1SimCfg(select_tag='floating_pt', select_sub_proc_model=True)\n",
    "\n",
    "for i in range(steps):\n",
    "    run_condition = RunSteps(num_steps=1)\n",
    "    input_n.run(condition=run_condition, run_cfg=rcfg)\n",
    "\n",
    "data = output_n.data.get()\n",
    "data_in = output_n_in.data.get()\n",
    "data_lif = output_lif.data.get()\n",
    "data_u = monitor.get_data()\n",
    "input_n.stop()"
   ]
  },
  {
   "cell_type": "code",
   "execution_count": null,
   "id": "c3acace8",
   "metadata": {},
   "outputs": [],
   "source": []
  },
  {
   "cell_type": "code",
   "execution_count": null,
   "id": "084990ec",
   "metadata": {},
   "outputs": [],
   "source": [
    "plt.figure(figsize=(10, 10))\n",
    "m = plt.imshow(np.delete(np.sum(data, axis=-1), 0, 1), cmap=\"jet\")\n",
    "plt.colorbar(m)"
   ]
  },
  {
   "cell_type": "code",
   "execution_count": null,
   "id": "b0bb0cbd",
   "metadata": {},
   "outputs": [],
   "source": [
    "data_sum = np.sum(data[:,:,:], axis=-1)\n",
    "data_sum = np.delete(data_sum, 0, 1)\n",
    "data_masked = np.ma.masked_where(np.logical_or(data_sum == 0, data_sum > 9.0), data_sum)\n",
    "plt.figure(figsize=(10, 10))\n",
    "m = plt.imshow(data_masked, cmap=\"jet\")\n",
    "plt.colorbar(m)"
   ]
  },
  {
   "cell_type": "code",
   "execution_count": null,
   "id": "0b568c55",
   "metadata": {},
   "outputs": [],
   "source": [
    "np.unravel_index(data_sum.argmax(), data_sum.shape)"
   ]
  },
  {
   "cell_type": "code",
   "execution_count": null,
   "id": "f415ff16",
   "metadata": {},
   "outputs": [],
   "source": [
    "data_u = data_u[\"Process_3\"][\"u\"]"
   ]
  },
  {
   "cell_type": "code",
   "execution_count": null,
   "id": "d492ece1",
   "metadata": {},
   "outputs": [],
   "source": [
    "data_u"
   ]
  },
  {
   "cell_type": "code",
   "execution_count": null,
   "id": "0ff013e8",
   "metadata": {},
   "outputs": [],
   "source": [
    "data_sum = np.sum(data_u, axis=0)\n",
    "np.unravel_index(data_sum.argmax(), data_sum.shape)"
   ]
  },
  {
   "cell_type": "code",
   "execution_count": null,
   "id": "a48a0704",
   "metadata": {},
   "outputs": [],
   "source": [
    "plt.imshow(np.sum(data_u[:,:,:], axis=0))"
   ]
  },
  {
   "cell_type": "code",
   "execution_count": null,
   "id": "66384765",
   "metadata": {},
   "outputs": [],
   "source": [
    "plt.figure(figsize=(10, 10))\n",
    "plt.imshow(np.sum(data_in[:,:,:], axis=-1))"
   ]
  },
  {
   "cell_type": "code",
   "execution_count": null,
   "id": "b8f00d2c",
   "metadata": {},
   "outputs": [],
   "source": [
    "plt.figure(figsize=(10, 10))\n",
    "plt.imshow(np.sum(data_lif, axis=-1))"
   ]
  },
  {
   "cell_type": "code",
   "execution_count": null,
   "id": "827c573a",
   "metadata": {},
   "outputs": [],
   "source": [
    "plt.imshow(data[:,:,30])"
   ]
  },
  {
   "cell_type": "code",
   "execution_count": null,
   "id": "b9536278",
   "metadata": {},
   "outputs": [],
   "source": []
  }
 ],
 "metadata": {
  "kernelspec": {
   "display_name": "Python 3 (ipykernel)",
   "language": "python",
   "name": "python3"
  },
  "language_info": {
   "codemirror_mode": {
    "name": "ipython",
    "version": 3
   },
   "file_extension": ".py",
   "mimetype": "text/x-python",
   "name": "python",
   "nbconvert_exporter": "python",
   "pygments_lexer": "ipython3",
   "version": "3.8.10"
  }
 },
 "nbformat": 4,
 "nbformat_minor": 5
}
