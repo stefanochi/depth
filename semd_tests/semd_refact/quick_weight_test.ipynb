{
 "cells": [
  {
   "cell_type": "code",
   "execution_count": 1,
   "id": "9af82d29",
   "metadata": {},
   "outputs": [],
   "source": [
    "import numpy as np"
   ]
  },
  {
   "cell_type": "code",
   "execution_count": 30,
   "id": "7b48d9a2",
   "metadata": {},
   "outputs": [],
   "source": [
    "def gen_weights(in_shape, out_shape, col_del, row_del):\n",
    "    w = np.zeros((in_shape[0]*in_shape[1], out_shape[0]*out_shape[1]))\n",
    "    if col_del == 1:\n",
    "        r_x = range(1, in_shape[1])\n",
    "    elif col_del == -1:\n",
    "        r_x = range(0, in_shape[1] -1)\n",
    "    elif col_del == 0:\n",
    "        r_x = range(0, in_shape[1])\n",
    "    else:\n",
    "        raise ValueError(\"col_del must be between -1 and 1\")\n",
    "    #TODO do the same thing for rows\n",
    "    r_y = range(0, in_shape[0])\n",
    "    i = 0\n",
    "    for y in r_y:\n",
    "        for x in r_x:\n",
    "            w[y*in_shape[1] + x, i] = 1\n",
    "            i += 1\n",
    "    return w"
   ]
  },
  {
   "cell_type": "code",
   "execution_count": 34,
   "id": "af4c01d5",
   "metadata": {},
   "outputs": [
    {
     "data": {
      "text/plain": [
       "array([[1., 0., 0., 0., 0., 0., 0., 0., 0.],\n",
       "       [0., 1., 0., 0., 0., 0., 0., 0., 0.],\n",
       "       [0., 0., 1., 0., 0., 0., 0., 0., 0.],\n",
       "       [0., 0., 0., 0., 0., 0., 0., 0., 0.],\n",
       "       [0., 0., 0., 1., 0., 0., 0., 0., 0.],\n",
       "       [0., 0., 0., 0., 1., 0., 0., 0., 0.],\n",
       "       [0., 0., 0., 0., 0., 1., 0., 0., 0.],\n",
       "       [0., 0., 0., 0., 0., 0., 0., 0., 0.],\n",
       "       [0., 0., 0., 0., 0., 0., 1., 0., 0.],\n",
       "       [0., 0., 0., 0., 0., 0., 0., 1., 0.],\n",
       "       [0., 0., 0., 0., 0., 0., 0., 0., 1.],\n",
       "       [0., 0., 0., 0., 0., 0., 0., 0., 0.]])"
      ]
     },
     "execution_count": 34,
     "metadata": {},
     "output_type": "execute_result"
    }
   ],
   "source": [
    "gen_weights((3, 4), (3, 3), -1, 0)"
   ]
  },
  {
   "cell_type": "code",
   "execution_count": null,
   "id": "5f3f4db8",
   "metadata": {},
   "outputs": [],
   "source": []
  }
 ],
 "metadata": {
  "kernelspec": {
   "display_name": "Python 3 (ipykernel)",
   "language": "python",
   "name": "python3"
  },
  "language_info": {
   "codemirror_mode": {
    "name": "ipython",
    "version": 3
   },
   "file_extension": ".py",
   "mimetype": "text/x-python",
   "name": "python",
   "nbconvert_exporter": "python",
   "pygments_lexer": "ipython3",
   "version": "3.8.10"
  }
 },
 "nbformat": 4,
 "nbformat_minor": 5
}
