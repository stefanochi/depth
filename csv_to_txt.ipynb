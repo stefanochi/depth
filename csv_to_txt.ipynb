{
 "cells": [
  {
   "cell_type": "code",
   "execution_count": 166,
   "id": "22f290b1",
   "metadata": {},
   "outputs": [],
   "source": [
    "import numpy as np\n",
    "import matplotlib.pyplot as plt"
   ]
  },
  {
   "cell_type": "code",
   "execution_count": 167,
   "id": "4f270c88",
   "metadata": {},
   "outputs": [],
   "source": [
    "events = np.loadtxt(\"data/test.csv\", delimiter=\",\", skiprows=2)"
   ]
  },
  {
   "cell_type": "code",
   "execution_count": 168,
   "id": "82c5c290",
   "metadata": {},
   "outputs": [],
   "source": [
    "events[:, 0] -= events[0, 0]"
   ]
  },
  {
   "cell_type": "code",
   "execution_count": 169,
   "id": "883cc611",
   "metadata": {},
   "outputs": [
    {
     "data": {
      "text/plain": [
       "4.229223"
      ]
     },
     "execution_count": 169,
     "metadata": {},
     "output_type": "execute_result"
    }
   ],
   "source": [
    "events[-1, 0] * 1e-6"
   ]
  },
  {
   "cell_type": "code",
   "execution_count": 170,
   "id": "61d01848",
   "metadata": {},
   "outputs": [],
   "source": [
    "events[:, 0] *= 1e-6"
   ]
  },
  {
   "cell_type": "code",
   "execution_count": 171,
   "id": "26976054",
   "metadata": {},
   "outputs": [],
   "source": [
    "np.savetxt(\"test_cup.txt\", events, fmt=\"%.7f %d %d %d\")"
   ]
  },
  {
   "cell_type": "code",
   "execution_count": 172,
   "id": "23f8fc8e",
   "metadata": {},
   "outputs": [
    {
     "data": {
      "text/plain": [
       "(3846725, 4)"
      ]
     },
     "execution_count": 172,
     "metadata": {},
     "output_type": "execute_result"
    }
   ],
   "source": [
    "events.shape"
   ]
  },
  {
   "cell_type": "code",
   "execution_count": 182,
   "id": "85faf3a3",
   "metadata": {},
   "outputs": [],
   "source": [
    "evs = events[1000000:1000000 + 500000]"
   ]
  },
  {
   "cell_type": "code",
   "execution_count": 183,
   "id": "343bc0d9",
   "metadata": {},
   "outputs": [],
   "source": [
    "img = np.zeros((480, 640))\n",
    "for e in evs:\n",
    "    x = int(e[1])\n",
    "    y = int(e[2])\n",
    "    img[y, x] = 1"
   ]
  },
  {
   "cell_type": "code",
   "execution_count": 184,
   "id": "0a5f3bcf",
   "metadata": {},
   "outputs": [
    {
     "data": {
      "text/plain": [
       "<matplotlib.image.AxesImage at 0x2391e0e8190>"
      ]
     },
     "execution_count": 184,
     "metadata": {},
     "output_type": "execute_result"
    },
    {
     "data": {
      "image/png": "[encoded data removed]",
      "text/plain": [
       "<Figure size 432x288 with 1 Axes>"
      ]
     },
     "metadata": {
      "needs_background": "light"
     },
     "output_type": "display_data"
    }
   ],
   "source": [
    "plt.imshow(img, interpolation=\"none\")"
   ]
  },
  {
   "cell_type": "code",
   "execution_count": 185,
   "id": "9454c563",
   "metadata": {},
   "outputs": [
    {
     "data": {
      "text/plain": [
       "1.385382"
      ]
     },
     "execution_count": 185,
     "metadata": {},
     "output_type": "execute_result"
    }
   ],
   "source": [
    "evs[0, 0]"
   ]
  },
  {
   "cell_type": "code",
   "execution_count": 186,
   "id": "2817c88d",
   "metadata": {},
   "outputs": [
    {
     "data": {
      "text/plain": [
       "1.778775"
      ]
     },
     "execution_count": 186,
     "metadata": {},
     "output_type": "execute_result"
    }
   ],
   "source": [
    "evs[-1, 0]"
   ]
  },
  {
   "cell_type": "code",
   "execution_count": null,
   "id": "293933ae",
   "metadata": {},
   "outputs": [],
   "source": []
  }
 ],
 "metadata": {
  "kernelspec": {
   "display_name": "Python 3 (ipykernel)",
   "language": "python",
   "name": "python3"
  },
  "language_info": {
   "codemirror_mode": {
    "name": "ipython",
    "version": 3
   },
   "file_extension": ".py",
   "mimetype": "text/x-python",
   "name": "python",
   "nbconvert_exporter": "python",
   "pygments_lexer": "ipython3",
   "version": "3.8.10"
  }
 },
 "nbformat": 4,
 "nbformat_minor": 5
}
