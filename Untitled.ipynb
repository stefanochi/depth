{
 "cells": [
  {
   "cell_type": "code",
   "execution_count": 1,
   "id": "a8a1add0",
   "metadata": {},
   "outputs": [],
   "source": [
    "import numpy as np\n",
    "import matplotlib.pyplot as plt"
   ]
  },
  {
   "cell_type": "code",
   "execution_count": 2,
   "id": "926500f8",
   "metadata": {},
   "outputs": [],
   "source": [
    "f = 200\n",
    "dt = 0.001"
   ]
  },
  {
   "cell_type": "code",
   "execution_count": 3,
   "id": "c835fbe4",
   "metadata": {},
   "outputs": [],
   "source": [
    "fdz = lambda v, dt : f * v * dt"
   ]
  },
  {
   "cell_type": "code",
   "execution_count": 4,
   "id": "1e842b55",
   "metadata": {},
   "outputs": [],
   "source": [
    "vs = np.linspace(0.1, 10, 100)"
   ]
  },
  {
   "cell_type": "code",
   "execution_count": 5,
   "id": "fe832b31",
   "metadata": {},
   "outputs": [],
   "source": [
    "dz = [fdz(v, dt) for v in vs]"
   ]
  },
  {
   "cell_type": "code",
   "execution_count": 6,
   "id": "f25afabb",
   "metadata": {},
   "outputs": [
    {
     "data": {
      "text/plain": [
       "[<matplotlib.lines.Line2D at 0x14163bb8cd0>]"
      ]
     },
     "execution_count": 6,
     "metadata": {},
     "output_type": "execute_result"
    },
    {
     "data": {
      "image/png": "[encoded data removed]",
      "text/plain": [
       "<Figure size 432x288 with 1 Axes>"
      ]
     },
     "metadata": {
      "needs_background": "light"
     },
     "output_type": "display_data"
    }
   ],
   "source": [
    "plt.plot(vs, dz)"
   ]
  },
  {
   "cell_type": "code",
   "execution_count": 7,
   "id": "f406c98e",
   "metadata": {},
   "outputs": [],
   "source": [
    "dts = np.linspace(0.0001, 0.01, 100)\n",
    "dz = [fdz(5, dt) for dt in dts]"
   ]
  },
  {
   "cell_type": "code",
   "execution_count": 8,
   "id": "cd9a6fbe",
   "metadata": {},
   "outputs": [
    {
     "data": {
      "text/plain": [
       "[<matplotlib.lines.Line2D at 0x14165ee9b20>]"
      ]
     },
     "execution_count": 8,
     "metadata": {},
     "output_type": "execute_result"
    },
    {
     "data": {
      "image/png": "[encoded data removed]",
      "text/plain": [
       "<Figure size 432x288 with 1 Axes>"
      ]
     },
     "metadata": {
      "needs_background": "light"
     },
     "output_type": "display_data"
    }
   ],
   "source": [
    "plt.plot(dts, dz)"
   ]
  },
  {
   "cell_type": "code",
   "execution_count": 9,
   "id": "9857f42e",
   "metadata": {},
   "outputs": [
    {
     "data": {
      "text/plain": [
       "[0.1,\n",
       " 0.2,\n",
       " 0.30000000000000004,\n",
       " 0.4,\n",
       " 0.5,\n",
       " 0.6000000000000001,\n",
       " 0.7000000000000001,\n",
       " 0.8,\n",
       " 0.9000000000000001,\n",
       " 1.0,\n",
       " 1.1,\n",
       " 1.2000000000000002,\n",
       " 1.3000000000000003,\n",
       " 1.4000000000000001,\n",
       " 1.5,\n",
       " 1.6,\n",
       " 1.7000000000000002,\n",
       " 1.8000000000000003,\n",
       " 1.9000000000000001,\n",
       " 2.0,\n",
       " 2.1,\n",
       " 2.2,\n",
       " 2.3,\n",
       " 2.4,\n",
       " 2.5,\n",
       " 2.6,\n",
       " 2.7,\n",
       " 2.8,\n",
       " 2.9,\n",
       " 3.0,\n",
       " 3.1,\n",
       " 3.2,\n",
       " 3.3,\n",
       " 3.4,\n",
       " 3.5,\n",
       " 3.6,\n",
       " 3.7,\n",
       " 3.8,\n",
       " 3.9,\n",
       " 4.0,\n",
       " 4.1000000000000005,\n",
       " 4.2,\n",
       " 4.300000000000001,\n",
       " 4.4,\n",
       " 4.500000000000001,\n",
       " 4.6000000000000005,\n",
       " 4.7,\n",
       " 4.800000000000001,\n",
       " 4.9,\n",
       " 5.0,\n",
       " 5.1000000000000005,\n",
       " 5.200000000000001,\n",
       " 5.300000000000001,\n",
       " 5.4,\n",
       " 5.500000000000001,\n",
       " 5.6000000000000005,\n",
       " 5.7,\n",
       " 5.800000000000001,\n",
       " 5.9,\n",
       " 6.0,\n",
       " 6.1000000000000005,\n",
       " 6.200000000000001,\n",
       " 6.300000000000001,\n",
       " 6.4,\n",
       " 6.500000000000001,\n",
       " 6.6000000000000005,\n",
       " 6.7,\n",
       " 6.800000000000001,\n",
       " 6.9,\n",
       " 7.000000000000001,\n",
       " 7.1000000000000005,\n",
       " 7.200000000000001,\n",
       " 7.300000000000001,\n",
       " 7.4,\n",
       " 7.500000000000001,\n",
       " 7.6000000000000005,\n",
       " 7.7,\n",
       " 7.800000000000001,\n",
       " 7.9,\n",
       " 8.0,\n",
       " 8.1,\n",
       " 8.2,\n",
       " 8.3,\n",
       " 8.4,\n",
       " 8.5,\n",
       " 8.6,\n",
       " 8.7,\n",
       " 8.8,\n",
       " 8.9,\n",
       " 9.0,\n",
       " 9.1,\n",
       " 9.2,\n",
       " 9.299999999999999,\n",
       " 9.4,\n",
       " 9.5,\n",
       " 9.6,\n",
       " 9.700000000000001,\n",
       " 9.799999999999999,\n",
       " 9.899999999999999,\n",
       " 10.0]"
      ]
     },
     "execution_count": 9,
     "metadata": {},
     "output_type": "execute_result"
    }
   ],
   "source": [
    "dz"
   ]
  },
  {
   "cell_type": "code",
   "execution_count": 33,
   "id": "7a797b4e",
   "metadata": {},
   "outputs": [],
   "source": [
    "f = 200\n",
    "v = 5 # m/s\n",
    "steps = 2**8"
   ]
  },
  {
   "cell_type": "code",
   "execution_count": 34,
   "id": "e37f5fa4",
   "metadata": {},
   "outputs": [],
   "source": [
    "def depth_range(dt):\n",
    "    points = [f * v * i * dt for i in np.arange(1, steps)]\n",
    "    return points"
   ]
  },
  {
   "cell_type": "code",
   "execution_count": 35,
   "id": "6453d056",
   "metadata": {},
   "outputs": [],
   "source": [
    "points = depth_range(0.001)"
   ]
  },
  {
   "cell_type": "code",
   "execution_count": 36,
   "id": "2b3c0cc5",
   "metadata": {},
   "outputs": [
    {
     "data": {
      "text/plain": [
       "<matplotlib.collections.PathCollection at 0x14166ad3490>"
      ]
     },
     "execution_count": 36,
     "metadata": {},
     "output_type": "execute_result"
    },
    {
     "data": {
      "image/png": "[encoded data removed]",
      "text/plain": [
       "<Figure size 720x720 with 1 Axes>"
      ]
     },
     "metadata": {
      "needs_background": "light"
     },
     "output_type": "display_data"
    }
   ],
   "source": [
    "plt.figure(figsize=(10, 10))\n",
    "freq = 5\n",
    "plt.scatter(([0.001] * (steps-1))[::freq], points[::freq], s=400, marker=\"_\", linewidths=1)"
   ]
  },
  {
   "cell_type": "code",
   "execution_count": 37,
   "id": "ed7f2835",
   "metadata": {},
   "outputs": [],
   "source": [
    "dts = np.linspace(0.0001, 0.001, 10)"
   ]
  },
  {
   "cell_type": "code",
   "execution_count": 38,
   "id": "4ca3c6f7",
   "metadata": {},
   "outputs": [
    {
     "data": {
      "image/png": "[encoded data removed]",
      "text/plain": [
       "<Figure size 1440x720 with 1 Axes>"
      ]
     },
     "metadata": {
      "needs_background": "light"
     },
     "output_type": "display_data"
    }
   ],
   "source": [
    "fig = plt.figure(figsize=(20, 10))\n",
    "freq = 2**3\n",
    "for dt in dts:\n",
    "    points = depth_range(dt)\n",
    "    sc = plt.scatter(([dt] * (steps-1))[::freq], points[::freq], s=500, marker=\"_\", linewidths=1)\n",
    "    plt.scatter(dt, points[0], s=2000, marker=\"_\", linewidths=1, color=sc.get_facecolor()[0])\n",
    "    plt.scatter(dt, points[-1], s=2000, marker=\"_\", linewidths=1, color=sc.get_facecolor()[0])\n",
    "plt.gca().invert_xaxis()\n",
    "plt.xlabel(\"Timestep Duration\", fontsize=26, labelpad=30)\n",
    "plt.ylabel(\"Depth Range\", fontsize=26, labelpad=20)\n",
    "fig.suptitle(\"Depth ranges at 5 m/s\", fontsize=(26))\n",
    "plt.xticks(ticks=dts, fontsize=20, rotation=0)\n",
    "yticks = plt.yticks()[0][1:-1]\n",
    "yticks = np.linspace(yticks.min(), yticks.max(), 10).astype(int)\n",
    "plt.yticks(ticks=yticks, fontsize=20, rotation=0)\n",
    "plt.tight_layout()"
   ]
  },
  {
   "cell_type": "code",
   "execution_count": 16,
   "id": "762c88c2",
   "metadata": {},
   "outputs": [],
   "source": [
    "points = np.array(points)"
   ]
  },
  {
   "cell_type": "code",
   "execution_count": 17,
   "id": "68bc0eb4",
   "metadata": {},
   "outputs": [
    {
     "data": {
      "text/plain": [
       "(255,)"
      ]
     },
     "execution_count": 17,
     "metadata": {},
     "output_type": "execute_result"
    }
   ],
   "source": [
    "points.shape"
   ]
  },
  {
   "cell_type": "code",
   "execution_count": null,
   "id": "178e3f3c",
   "metadata": {},
   "outputs": [],
   "source": []
  },
  {
   "cell_type": "code",
   "execution_count": null,
   "id": "4adfecec",
   "metadata": {},
   "outputs": [],
   "source": []
  },
  {
   "cell_type": "code",
   "execution_count": null,
   "id": "78f58f21",
   "metadata": {},
   "outputs": [],
   "source": []
  },
  {
   "cell_type": "code",
   "execution_count": null,
   "id": "16c53c33",
   "metadata": {},
   "outputs": [],
   "source": []
  },
  {
   "cell_type": "code",
   "execution_count": null,
   "id": "c15f4121",
   "metadata": {},
   "outputs": [],
   "source": []
  }
 ],
 "metadata": {
  "kernelspec": {
   "display_name": "Python 3 (ipykernel)",
   "language": "python",
   "name": "python3"
  },
  "language_info": {
   "codemirror_mode": {
    "name": "ipython",
    "version": 3
   },
   "file_extension": ".py",
   "mimetype": "text/x-python",
   "name": "python",
   "nbconvert_exporter": "python",
   "pygments_lexer": "ipython3",
   "version": "3.8.10"
  }
 },
 "nbformat": 4,
 "nbformat_minor": 5
}
