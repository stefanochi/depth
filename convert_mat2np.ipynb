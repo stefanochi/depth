{
 "cells": [
  {
   "cell_type": "code",
   "execution_count": 52,
   "id": "b48a4bc2",
   "metadata": {},
   "outputs": [],
   "source": [
    "import numpy as np\n",
    "import scipy.io as io"
   ]
  },
  {
   "cell_type": "code",
   "execution_count": 53,
   "id": "f6686a6f",
   "metadata": {},
   "outputs": [],
   "source": [
    "path = \"C:/Users/schiavaz/lava-nc/depth/\"\n",
    "dataset = \"data/stripes/\""
   ]
  },
  {
   "cell_type": "code",
   "execution_count": 54,
   "id": "fac4e273",
   "metadata": {},
   "outputs": [],
   "source": [
    "events_mlab = io.loadmat(path + dataset + \"stripes.mat\")"
   ]
  },
  {
   "cell_type": "code",
   "execution_count": 55,
   "id": "d7b4c230",
   "metadata": {},
   "outputs": [],
   "source": [
    "events = events_mlab[\"events\"].astype(np.float64)"
   ]
  },
  {
   "cell_type": "code",
   "execution_count": 56,
   "id": "6e4c6b1b",
   "metadata": {},
   "outputs": [],
   "source": [
    "events[:, [0, 1, 2, 3]] = events[:,[3, 0, 1, 2]]"
   ]
  },
  {
   "cell_type": "code",
   "execution_count": 57,
   "id": "bf8a038a",
   "metadata": {},
   "outputs": [],
   "source": [
    "events[:,0] = events[:,0].astype(np.float64) * 1e-6"
   ]
  },
  {
   "cell_type": "code",
   "execution_count": 58,
   "id": "542ad2ee",
   "metadata": {},
   "outputs": [],
   "source": [
    "np.savetxt(path + dataset + \"events.txt\", events, fmt=\"%.9f %d %d %d\")"
   ]
  },
  {
   "cell_type": "code",
   "execution_count": 79,
   "id": "3db2a1d2",
   "metadata": {},
   "outputs": [],
   "source": [
    "times = np.linspace(events[0, 0], events[-1, 0], 100)"
   ]
  },
  {
   "cell_type": "code",
   "execution_count": 80,
   "id": "3ec5f094",
   "metadata": {},
   "outputs": [],
   "source": [
    "p = np.zeros((times.shape[0], 8))"
   ]
  },
  {
   "cell_type": "code",
   "execution_count": 81,
   "id": "a3d08673",
   "metadata": {},
   "outputs": [],
   "source": [
    "p[:,1] += 0.15 * times"
   ]
  },
  {
   "cell_type": "code",
   "execution_count": 82,
   "id": "5cf3f5f0",
   "metadata": {},
   "outputs": [],
   "source": [
    "p[:,-1] = 1"
   ]
  },
  {
   "cell_type": "code",
   "execution_count": 83,
   "id": "ab12887f",
   "metadata": {},
   "outputs": [],
   "source": [
    "p[:,0] = times"
   ]
  },
  {
   "cell_type": "code",
   "execution_count": 84,
   "id": "780a51f4",
   "metadata": {
    "scrolled": false
   },
   "outputs": [],
   "source": [
    "np.savetxt(path + dataset + \"groundtruth.txt\", p, fmt=\"%.9f %.9f %f %f %f %f %f %f\")"
   ]
  },
  {
   "cell_type": "code",
   "execution_count": 116,
   "id": "aa16bd0d",
   "metadata": {},
   "outputs": [],
   "source": [
    "gt_depths = np.zeros((times.shape[0], 128, 128))"
   ]
  },
  {
   "cell_type": "code",
   "execution_count": 117,
   "id": "9a2199a7",
   "metadata": {},
   "outputs": [],
   "source": [
    "for d in gt_depths:\n",
    "    d[70:,:] = 0.1\n",
    "    d[30:70,:] = 0.2\n",
    "    d[:30, :] = 5"
   ]
  },
  {
   "cell_type": "code",
   "execution_count": 118,
   "id": "b1fdddcd",
   "metadata": {},
   "outputs": [],
   "source": [
    "np.save(path + dataset + \"gt_depths.npy\", gt_depths)"
   ]
  },
  {
   "cell_type": "code",
   "execution_count": 113,
   "id": "b6ec4e5e",
   "metadata": {},
   "outputs": [],
   "source": [
    "gt_times_str = np.zeros((times.shape[0], 1))"
   ]
  },
  {
   "cell_type": "code",
   "execution_count": 114,
   "id": "32f1d507",
   "metadata": {},
   "outputs": [],
   "source": [
    "gt_times_str[:,0] = times"
   ]
  },
  {
   "cell_type": "code",
   "execution_count": 115,
   "id": "41da097c",
   "metadata": {},
   "outputs": [],
   "source": [
    "np.savetxt(path + dataset + \"depthmaps.txt\", gt_times_str, fmt=\"%.9f test.exr\")"
   ]
  },
  {
   "cell_type": "code",
   "execution_count": null,
   "id": "6d3184dc",
   "metadata": {},
   "outputs": [],
   "source": []
  }
 ],
 "metadata": {
  "kernelspec": {
   "display_name": "Python 3 (ipykernel)",
   "language": "python",
   "name": "python3"
  },
  "language_info": {
   "codemirror_mode": {
    "name": "ipython",
    "version": 3
   },
   "file_extension": ".py",
   "mimetype": "text/x-python",
   "name": "python",
   "nbconvert_exporter": "python",
   "pygments_lexer": "ipython3",
   "version": "3.8.10"
  }
 },
 "nbformat": 4,
 "nbformat_minor": 5
}
