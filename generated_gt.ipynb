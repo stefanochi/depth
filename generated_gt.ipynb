{
 "cells": [
  {
   "cell_type": "code",
   "execution_count": 1,
   "id": "b7c51c82",
   "metadata": {},
   "outputs": [],
   "source": [
    "import numpy as np"
   ]
  },
  {
   "cell_type": "code",
   "execution_count": 2,
   "id": "95503621",
   "metadata": {},
   "outputs": [],
   "source": [
    "path = \"C:/Users/schiavaz/lava-nc/depth/\"\n",
    "dataset = \"data/slider_close/\""
   ]
  },
  {
   "cell_type": "code",
   "execution_count": 3,
   "id": "6e1dd2ca",
   "metadata": {},
   "outputs": [],
   "source": [
    "events = np.loadtxt(path + dataset + \"events.txt\")"
   ]
  },
  {
   "cell_type": "code",
   "execution_count": 14,
   "id": "60a4e382",
   "metadata": {},
   "outputs": [],
   "source": [
    "t_start = events[0, 0]\n",
    "t_end = events[-1, 0]\n",
    "img_shape = (180, 240)"
   ]
  },
  {
   "cell_type": "code",
   "execution_count": 5,
   "id": "ff957dd0",
   "metadata": {},
   "outputs": [],
   "source": [
    "duration = t_end - t_start"
   ]
  },
  {
   "cell_type": "code",
   "execution_count": 6,
   "id": "7cae5714",
   "metadata": {},
   "outputs": [],
   "source": [
    "gt_rate = 30 # fps"
   ]
  },
  {
   "cell_type": "code",
   "execution_count": 7,
   "id": "ddc02a84",
   "metadata": {},
   "outputs": [],
   "source": [
    "gt_times = np.arange(t_start, t_end, 1.0 / gt_rate)"
   ]
  },
  {
   "cell_type": "code",
   "execution_count": 9,
   "id": "432ddae2",
   "metadata": {},
   "outputs": [
    {
     "data": {
      "text/plain": [
       "(193,)"
      ]
     },
     "execution_count": 9,
     "metadata": {},
     "output_type": "execute_result"
    }
   ],
   "source": [
    "gt_times.shape"
   ]
  },
  {
   "cell_type": "code",
   "execution_count": 20,
   "id": "70bc9a4a",
   "metadata": {},
   "outputs": [],
   "source": [
    "# save the times in depthmaps.txt only the first value is used\n",
    "np.savetxt(path + dataset + \"depthmaps.txt\", gt_times, fmt=\"%.9f 0.0\")"
   ]
  },
  {
   "cell_type": "code",
   "execution_count": 15,
   "id": "d693d4c7",
   "metadata": {},
   "outputs": [],
   "source": [
    "gt_depths = np.zeros((gt_times.shape[0], img_shape[0], img_shape[1]))"
   ]
  },
  {
   "cell_type": "code",
   "execution_count": 17,
   "id": "b0938783",
   "metadata": {},
   "outputs": [],
   "source": [
    "# define the gt values here\n",
    "gt_depths[:, :, :] = 0.231"
   ]
  },
  {
   "cell_type": "code",
   "execution_count": 18,
   "id": "24380394",
   "metadata": {},
   "outputs": [],
   "source": [
    "np.save(path + dataset + \"gt_depths.npy\", gt_depths)"
   ]
  },
  {
   "cell_type": "code",
   "execution_count": null,
   "id": "fc6183ce",
   "metadata": {},
   "outputs": [],
   "source": []
  }
 ],
 "metadata": {
  "kernelspec": {
   "display_name": "Python 3 (ipykernel)",
   "language": "python",
   "name": "python3"
  },
  "language_info": {
   "codemirror_mode": {
    "name": "ipython",
    "version": 3
   },
   "file_extension": ".py",
   "mimetype": "text/x-python",
   "name": "python",
   "nbconvert_exporter": "python",
   "pygments_lexer": "ipython3",
   "version": "3.8.10"
  }
 },
 "nbformat": 4,
 "nbformat_minor": 5
}
