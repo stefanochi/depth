{
 "cells": [
  {
   "cell_type": "code",
   "execution_count": 1,
   "id": "05eb8adf",
   "metadata": {},
   "outputs": [],
   "source": [
    "import numpy as np\n",
    "import utils\n",
    "import matplotlib.pyplot as plt\n",
    "from lava.proc.lif.process import LIF\n",
    "from lava.proc.io.source import RingBuffer\n",
    "from lava.proc.monitor.process import Monitor\n",
    "from lava.magma.core.run_conditions import RunSteps\n",
    "from lava.magma.core.run_configs import Loihi1SimCfg\n",
    "from lava.proc.dense.process import Dense\n",
    "from lava.lib.dnf.kernels.kernels import MultiPeakKernel\n",
    "from lava.lib.dnf.operations.operations import Convolution\n",
    "from lava.lib.dnf.connect.connect import connect\n",
    "from lava.lib.dnf.operations.operations import ExpandDims\n",
    "from lava.lib.dnf.operations.operations import Weights"
   ]
  },
  {
   "cell_type": "code",
   "execution_count": 11,
   "id": "b1a778e4",
   "metadata": {},
   "outputs": [],
   "source": [
    "input_px = LIF(shape=(2, ))"
   ]
  },
  {
   "cell_type": "code",
   "execution_count": 12,
   "id": "7e6616c5",
   "metadata": {},
   "outputs": [],
   "source": [
    "timesteps = 3\n",
    "vel_input = np.zeros((2, timesteps))\n",
    "vel_input[0, 0] = 100\n",
    "vel_input[1, -1] = 100\n",
    "#input neurons\n",
    "vel_input_n = RingBuffer(vel_input)"
   ]
  },
  {
   "cell_type": "code",
   "execution_count": 13,
   "id": "2c2156e4",
   "metadata": {},
   "outputs": [],
   "source": [
    "#vel neurons\n",
    "speed_low = LIF(shape=(2, ), du=0.1)\n",
    "speed_mid = LIF(shape=(2, ), du=0.3)\n",
    "speed_high = LIF(shape=(2, ), du=0.5)\n",
    "\n",
    "vel_input_n.s_out.connect(speed_low.a_in)\n",
    "vel_input_n.s_out.connect(speed_mid.a_in)\n",
    "vel_input_n.s_out.connect(speed_high.a_in)"
   ]
  },
  {
   "cell_type": "code",
   "execution_count": 14,
   "id": "fbf3273d",
   "metadata": {},
   "outputs": [],
   "source": [
    "monitor_events = Monitor()\n",
    "monitor_events.probe(vel_input_n.s_out, timesteps)"
   ]
  },
  {
   "cell_type": "code",
   "execution_count": 15,
   "id": "db67c5ac",
   "metadata": {},
   "outputs": [],
   "source": [
    "# monitor_low = Monitor()\n",
    "# monitor_mid = Monitor()\n",
    "# monitor_high = Monitor()\n",
    "# monitor_low.probe(speed_low.u, timesteps)\n",
    "# monitor_mid.probe(speed_mid.u, timesteps)\n",
    "# monitor_high.probe(speed_high.u, timesteps)"
   ]
  },
  {
   "cell_type": "code",
   "execution_count": 16,
   "id": "fef93506",
   "metadata": {},
   "outputs": [],
   "source": [
    "s_monitor_low = Monitor()\n",
    "s_monitor_mid = Monitor()\n",
    "s_monitor_high = Monitor()\n",
    "s_monitor_low.probe(speed_low.s_out, timesteps)\n",
    "s_monitor_mid.probe(speed_mid.s_out, timesteps)\n",
    "s_monitor_high.probe(speed_high.s_out, timesteps)"
   ]
  },
  {
   "cell_type": "code",
   "execution_count": 17,
   "id": "637ef686",
   "metadata": {},
   "outputs": [],
   "source": [
    "v_monitor_low = Monitor()\n",
    "v_monitor_mid = Monitor()\n",
    "v_monitor_high = Monitor()\n",
    "v_monitor_low.probe(speed_low.v, timesteps)\n",
    "v_monitor_mid.probe(speed_mid.v, timesteps)\n",
    "v_monitor_high.probe(speed_high.v, timesteps)"
   ]
  },
  {
   "cell_type": "code",
   "execution_count": 18,
   "id": "f752a90f",
   "metadata": {},
   "outputs": [
    {
     "name": "stdout",
     "output_type": "stream",
     "text": [
      "[Loihi1SimCfg]: Using the first PyProcessModel PySendModelFloat available for Process Process_13::RingBuffer.\n",
      "[Loihi1SimCfg]: Using the first PyProcessModel PyLifModelFloat available for Process Process_15::LIF.\n",
      "[Loihi1SimCfg]: Using the first PyProcessModel PyLifModelFloat available for Process Process_14::LIF.\n",
      "[Loihi1SimCfg]: Using the first PyProcessModel PyLifModelFloat available for Process Process_16::LIF.\n"
     ]
    }
   ],
   "source": [
    "run_condition = RunSteps(num_steps=timesteps, blocking=True)\n",
    "vel_input_n.run(condition=run_condition, run_cfg=Loihi1SimCfg())"
   ]
  },
  {
   "cell_type": "code",
   "execution_count": 91,
   "id": "ce71bbdc",
   "metadata": {},
   "outputs": [
    {
     "data": {
      "text/plain": [
       "{'Process_53': {'s_out': array([[100.,   0.],\n",
       "         [  0.,   0.],\n",
       "         [  0., 100.]])}}"
      ]
     },
     "execution_count": 91,
     "metadata": {},
     "output_type": "execute_result"
    }
   ],
   "source": [
    "monitor_events.get_data()"
   ]
  },
  {
   "cell_type": "code",
   "execution_count": 92,
   "id": "6161cc3d",
   "metadata": {},
   "outputs": [
    {
     "data": {
      "text/plain": [
       "{'Process_54': {'s_out': array([[1., 0.],\n",
       "         [1., 0.],\n",
       "         [1., 1.]])}}"
      ]
     },
     "execution_count": 92,
     "metadata": {},
     "output_type": "execute_result"
    }
   ],
   "source": [
    "s_monitor_low.get_data()"
   ]
  },
  {
   "cell_type": "code",
   "execution_count": 93,
   "id": "7455b383",
   "metadata": {},
   "outputs": [
    {
     "ename": "NameError",
     "evalue": "name 'monitor_mid' is not defined",
     "output_type": "error",
     "traceback": [
      "\u001b[1;31m---------------------------------------------------------------------------\u001b[0m",
      "\u001b[1;31mNameError\u001b[0m                                 Traceback (most recent call last)",
      "\u001b[1;32m~\\AppData\\Local\\Temp/ipykernel_20708/3941083725.py\u001b[0m in \u001b[0;36m<module>\u001b[1;34m\u001b[0m\n\u001b[1;32m----> 1\u001b[1;33m \u001b[0mmonitor_mid\u001b[0m\u001b[1;33m.\u001b[0m\u001b[0mget_data\u001b[0m\u001b[1;33m(\u001b[0m\u001b[1;33m)\u001b[0m\u001b[1;33m\u001b[0m\u001b[1;33m\u001b[0m\u001b[0m\n\u001b[0m",
      "\u001b[1;31mNameError\u001b[0m: name 'monitor_mid' is not defined"
     ]
    }
   ],
   "source": [
    "monitor_mid.get_data()"
   ]
  },
  {
   "cell_type": "code",
   "execution_count": 94,
   "id": "cd4f825d",
   "metadata": {},
   "outputs": [
    {
     "ename": "NameError",
     "evalue": "name 'monitor_high' is not defined",
     "output_type": "error",
     "traceback": [
      "\u001b[1;31m---------------------------------------------------------------------------\u001b[0m",
      "\u001b[1;31mNameError\u001b[0m                                 Traceback (most recent call last)",
      "\u001b[1;32m~\\AppData\\Local\\Temp/ipykernel_20708/332157972.py\u001b[0m in \u001b[0;36m<module>\u001b[1;34m\u001b[0m\n\u001b[1;32m----> 1\u001b[1;33m \u001b[0mmonitor_high\u001b[0m\u001b[1;33m.\u001b[0m\u001b[0mget_data\u001b[0m\u001b[1;33m(\u001b[0m\u001b[1;33m)\u001b[0m\u001b[1;33m\u001b[0m\u001b[1;33m\u001b[0m\u001b[0m\n\u001b[0m",
      "\u001b[1;31mNameError\u001b[0m: name 'monitor_high' is not defined"
     ]
    }
   ],
   "source": [
    "monitor_high.get_data()"
   ]
  },
  {
   "cell_type": "code",
   "execution_count": 95,
   "id": "265eb5d7",
   "metadata": {},
   "outputs": [
    {
     "data": {
      "text/plain": [
       "{'Process_54': {'v': array([[0., 0.],\n",
       "         [0., 0.],\n",
       "         [0., 0.]])}}"
      ]
     },
     "execution_count": 95,
     "metadata": {},
     "output_type": "execute_result"
    }
   ],
   "source": [
    "v_monitor_low.get_data()"
   ]
  },
  {
   "cell_type": "code",
   "execution_count": 10,
   "id": "fb548d6d",
   "metadata": {},
   "outputs": [],
   "source": [
    "vel_input_n.stop()"
   ]
  },
  {
   "cell_type": "code",
   "execution_count": null,
   "id": "793b8b8e",
   "metadata": {},
   "outputs": [],
   "source": []
  }
 ],
 "metadata": {
  "kernelspec": {
   "display_name": "Python 3 (ipykernel)",
   "language": "python",
   "name": "python3"
  },
  "language_info": {
   "codemirror_mode": {
    "name": "ipython",
    "version": 3
   },
   "file_extension": ".py",
   "mimetype": "text/x-python",
   "name": "python",
   "nbconvert_exporter": "python",
   "pygments_lexer": "ipython3",
   "version": "3.8.10"
  }
 },
 "nbformat": 4,
 "nbformat_minor": 5
}
