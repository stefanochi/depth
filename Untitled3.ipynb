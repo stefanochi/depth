{
 "cells": [
  {
   "cell_type": "code",
   "execution_count": 1,
   "id": "e6f7d998",
   "metadata": {},
   "outputs": [
    {
     "name": "stdout",
     "output_type": "stream",
     "text": [
      "Jupyter environment detected. Enabling Open3D WebVisualizer.\n",
      "[Open3D INFO] WebRTC GUI backend enabled.\n",
      "[Open3D INFO] WebRTCWindowSystem: HTTP handshake server disabled.\n"
     ]
    }
   ],
   "source": [
    "%load_ext autoreload\n",
    "%autoreload 2\n",
    "from gtd2d import gtd2d\n",
    "import numpy as np\n",
    "import matplotlib.pyplot as plt\n",
    "from scipy.spatial.transform import Rotation as R\n",
    "import open3d as o3d\n",
    "import matplotlib\n",
    "import matplotlib.cm as cm\n",
    "from tqdm import tqdm"
   ]
  },
  {
   "cell_type": "code",
   "execution_count": null,
   "id": "c5cb165d",
   "metadata": {},
   "outputs": [
    {
     "name": "stderr",
     "output_type": "stream",
     "text": [
      "  0%|                                                                                          | 0/118 [00:00<?, ?it/s]C:\\Users\\schiavaz\\lava-nc\\depth\\gtd2d\\runner\\python_runner.py:66: RuntimeWarning: invalid value encountered in true_divide\n",
      "  filter_data = np.divide(np.nansum(raw_depths[idx:i + 1], axis=0), n_measurements,\n",
      " 55%|████████████████████████████████████████████▌                                    | 65/118 [01:58<01:46,  2.01s/it]"
     ]
    }
   ],
   "source": [
    "out = gtd2d.run()"
   ]
  },
  {
   "cell_type": "code",
   "execution_count": null,
   "id": "f3f9dcf7",
   "metadata": {},
   "outputs": [],
   "source": [
    "raw_depths = out[\"median_depths\"]"
   ]
  },
  {
   "cell_type": "code",
   "execution_count": null,
   "id": "f4aab525",
   "metadata": {},
   "outputs": [],
   "source": [
    "raw_depths.shape"
   ]
  },
  {
   "cell_type": "code",
   "execution_count": null,
   "id": "c47fa605",
   "metadata": {},
   "outputs": [],
   "source": [
    "m = plt.imshow(raw_depths[50], interpolation=\"none\", cmap=\"jet_r\", vmax=5)\n",
    "plt.colorbar(m)"
   ]
  },
  {
   "cell_type": "code",
   "execution_count": null,
   "id": "f7292cbd",
   "metadata": {},
   "outputs": [],
   "source": [
    "plt.hist(raw_depths[1].flatten(), 100, range=(-1, 3.5));"
   ]
  },
  {
   "cell_type": "code",
   "execution_count": null,
   "id": "f093f798",
   "metadata": {},
   "outputs": [],
   "source": [
    "flow_u = out[\"flow_u\"]\n",
    "flow_v = out[\"flow_v\"]"
   ]
  },
  {
   "cell_type": "code",
   "execution_count": null,
   "id": "5e273b11",
   "metadata": {},
   "outputs": [],
   "source": [
    "idx = 3\n",
    "U = flow_u[idx]\n",
    "V = flow_v[idx]\n",
    "m = np.sqrt(U**2 + V**2)"
   ]
  },
  {
   "cell_type": "code",
   "execution_count": null,
   "id": "12c646ce",
   "metadata": {},
   "outputs": [],
   "source": [
    "%matplotlib inline\n",
    "plt.figure(figsize=(20, 20))\n",
    "plt.quiver(U[::10, ::10], V[::10, ::10], m[::10, ::10], cmap=\"jet_r\")\n",
    "plt.gca().invert_yaxis()"
   ]
  },
  {
   "cell_type": "code",
   "execution_count": null,
   "id": "32c0dee3",
   "metadata": {},
   "outputs": [],
   "source": [
    "m = plt.imshow(V, interpolation=\"none\")\n",
    "plt.colorbar(m)"
   ]
  },
  {
   "cell_type": "code",
   "execution_count": null,
   "id": "8cad0bc6",
   "metadata": {},
   "outputs": [],
   "source": [
    "path = \"C:/Users/schiavaz/lava-nc/depth/\"\n",
    "dataset = \"data/esim_data/curvy/\"\n",
    "\n",
    "poses = np.loadtxt(path + dataset + \"groundtruth.txt\")\n",
    "poses[:, [1, 2, 3]] = poses[:, [2, 3, 1]]\n",
    "calib = np.loadtxt(path + dataset + \"calib.txt\")\n",
    "calib[0] = 200\n",
    "calib[1] = 200\n",
    "calib[2] = 120\n",
    "calib[3] = 90"
   ]
  },
  {
   "cell_type": "code",
   "execution_count": null,
   "id": "a6527b59",
   "metadata": {},
   "outputs": [],
   "source": [
    "raw_depths = out[\"mean_depths\"][::1]\n",
    "times = out[\"times\"][::1]"
   ]
  },
  {
   "cell_type": "code",
   "execution_count": null,
   "id": "7f19c261",
   "metadata": {},
   "outputs": [],
   "source": [
    "def _image2pointcloud(d, v_range=None):\n",
    "    points = []\n",
    "    for x in range(d.shape[1]):\n",
    "        for y in range(d.shape[0]):\n",
    "            if np.isnan(d[y, x]):\n",
    "                continue\n",
    "            if v_range != None:\n",
    "                if v_range[0] > d[y, x] or d[y, x] > v_range[1]:\n",
    "                    continue\n",
    "            points.append([x, y, d[y, x]])\n",
    "    return np.array(points)"
   ]
  },
  {
   "cell_type": "code",
   "execution_count": null,
   "id": "7aa55375",
   "metadata": {},
   "outputs": [],
   "source": [
    "def project3d(points, calib, pose):\n",
    "    K = np.array([\n",
    "        [calib[0], 0, calib[2]],\n",
    "        [0, calib[1], calib[3]],\n",
    "        [0, 0, 1]\n",
    "    ])\n",
    "\n",
    "    t = pose[1:4].reshape(3, 1)\n",
    "    q = pose[4:]\n",
    "\n",
    "    r = R.from_quat(q)\n",
    "    r_m = r.as_matrix()\n",
    "\n",
    "    K_b = np.block([\n",
    "        [K, np.zeros((3, 1))],\n",
    "        [np.zeros((1, 3)), 1]\n",
    "    ])\n",
    "    rt_b = np.block([\n",
    "        [r_m, t],\n",
    "        [np.zeros((1, 3)), 1]\n",
    "    ])\n",
    "\n",
    "    proj = []\n",
    "    for p in points:\n",
    "        if p[2] == 0:\n",
    "            continue\n",
    "        po = np.array([p[0], p[1], 1, 1 / p[2]])\n",
    "        test = p[2] * np.linalg.inv(K_b @ rt_b) @ po\n",
    "        proj.append(test.transpose())\n",
    "\n",
    "    proj = np.array(proj)\n",
    "    return proj"
   ]
  },
  {
   "cell_type": "code",
   "execution_count": null,
   "id": "fd4e87bb",
   "metadata": {},
   "outputs": [],
   "source": [
    "projected_points = np.zeros((1, 4))\n",
    "ps = []\n",
    "p_init = poses[0]\n",
    "for i, d in enumerate(tqdm(raw_depths)):\n",
    "    points = _image2pointcloud(d)\n",
    "\n",
    "    idx = np.searchsorted(poses[:, 0], times[i])\n",
    "#     print(times[i])\n",
    "    p0 = poses[idx - 1]\n",
    "    p1 = poses[idx]\n",
    "    y = (times[i] - p0[0]) / (p1[0] - p0[0])\n",
    "    p = (p0 * (1 - y) + p1 * (y))\n",
    "    p[1:4] = p[1:4].reshape(1, 3) @ np.diag([-1, 1, 1])\n",
    "#     p = poses[0]\n",
    "#     print(\"p0: {},\\np1:{},\\np:{}\".format(p0[:4], p1[:4], p[:4]))\n",
    "    ps.append([p[2], p[3], p[1]])\n",
    "    \n",
    "    proj = project3d(points, calib, p)\n",
    "    if proj.size == 0:\n",
    "        continue\n",
    "    projected_points = np.concatenate((projected_points, proj))"
   ]
  },
  {
   "cell_type": "code",
   "execution_count": null,
   "id": "5c5bcbce",
   "metadata": {},
   "outputs": [],
   "source": [
    "def points_to_open3d_pointcloud(points, cmap=\"jet_r\", z=2):\n",
    "\n",
    "    pcd = o3d.geometry.PointCloud()\n",
    "    pcd.points = o3d.utility.Vector3dVector(points)\n",
    "\n",
    "    minima = min(points[:, z])\n",
    "    maxima = max(points[:, z])\n",
    "    print(minima)\n",
    "    print(maxima)\n",
    "    print(\"---\")\n",
    "\n",
    "    norm = matplotlib.colors.Normalize(vmin=minima, vmax=maxima, clip=True)\n",
    "    mapper = cm.ScalarMappable(norm=norm, cmap=cmap)\n",
    "\n",
    "    colors = mapper.to_rgba(points[:, z])[:,:3]\n",
    "    print(colors.shape)\n",
    "\n",
    "    pcd.colors = o3d.utility.Vector3dVector(colors)\n",
    "\n",
    "    return pcd"
   ]
  },
  {
   "cell_type": "code",
   "execution_count": null,
   "id": "a2c663aa",
   "metadata": {},
   "outputs": [],
   "source": [
    "proj = projected_points[projected_points[:,1] > -3]\n",
    "pcd = points_to_open3d_pointcloud(proj[:,:3], cmap=\"jet\", z=1)\n",
    "\n",
    "o3d.visualization.draw_geometries([pcd])"
   ]
  },
  {
   "cell_type": "code",
   "execution_count": null,
   "id": "a017e0c2",
   "metadata": {},
   "outputs": [],
   "source": [
    "pcd_d = pcd.random_down_sample(0.2)\n",
    "pcd_f, l = pcd_d.remove_radius_outlier(nb_points=15, radius=0.05)\n",
    "# pcd_f, l = pcd_d.remove_statistical_outlier(nb_neighbors=30, std_ratio=0.2, print_progress=True)"
   ]
  },
  {
   "cell_type": "code",
   "execution_count": null,
   "id": "b210cbf0",
   "metadata": {},
   "outputs": [],
   "source": [
    "pcd_b = pcd_f.voxel_down_sample(voxel_size=0.02)"
   ]
  },
  {
   "cell_type": "code",
   "execution_count": null,
   "id": "d05960ca",
   "metadata": {},
   "outputs": [],
   "source": [
    "o3d.visualization.draw_geometries([pcd_b])"
   ]
  },
  {
   "cell_type": "code",
   "execution_count": null,
   "id": "c553e763",
   "metadata": {},
   "outputs": [],
   "source": [
    "ps = np.array(ps)\n",
    "ps_b = np.copy(ps)"
   ]
  },
  {
   "cell_type": "code",
   "execution_count": null,
   "id": "8716c1e0",
   "metadata": {},
   "outputs": [],
   "source": [
    "ps_b[:, 0] += 3"
   ]
  },
  {
   "cell_type": "code",
   "execution_count": null,
   "id": "794e9af9",
   "metadata": {},
   "outputs": [],
   "source": [
    "# proj = projected_points[projected_points[:,2] > -3]\n",
    "ps_pcd = points_to_open3d_pointcloud(ps_b, cmap=\"spring\", z=2)\n",
    "\n",
    "o3d.visualization.draw_geometries([pcd_b, ps_pcd])"
   ]
  },
  {
   "cell_type": "code",
   "execution_count": null,
   "id": "942ae09c",
   "metadata": {},
   "outputs": [],
   "source": [
    "median_depths = out[\"median_depths\"]"
   ]
  },
  {
   "cell_type": "code",
   "execution_count": null,
   "id": "ef562d3d",
   "metadata": {},
   "outputs": [],
   "source": [
    "idx = 120\n",
    "med_m = np.ma.masked_where(median_depths[idx]==0, median_depths[idx])\n",
    "m = plt.imshow(med_m, interpolation=\"none\", cmap=\"jet_r\", vmax=3)\n",
    "plt.colorbar(m)"
   ]
  },
  {
   "cell_type": "code",
   "execution_count": null,
   "id": "316145cb",
   "metadata": {},
   "outputs": [],
   "source": []
  },
  {
   "cell_type": "code",
   "execution_count": null,
   "id": "c8b3b9ea",
   "metadata": {},
   "outputs": [],
   "source": []
  },
  {
   "cell_type": "code",
   "execution_count": null,
   "id": "279ee435",
   "metadata": {},
   "outputs": [],
   "source": []
  }
 ],
 "metadata": {
  "kernelspec": {
   "display_name": "Python 3 (ipykernel)",
   "language": "python",
   "name": "python3"
  },
  "language_info": {
   "codemirror_mode": {
    "name": "ipython",
    "version": 3
   },
   "file_extension": ".py",
   "mimetype": "text/x-python",
   "name": "python",
   "nbconvert_exporter": "python",
   "pygments_lexer": "ipython3",
   "version": "3.8.10"
  }
 },
 "nbformat": 4,
 "nbformat_minor": 5
}
