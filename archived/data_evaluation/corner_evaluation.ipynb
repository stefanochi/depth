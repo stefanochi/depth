{
 "cells": [
  {
   "cell_type": "code",
   "execution_count": 132,
   "id": "5aa2508d",
   "metadata": {},
   "outputs": [],
   "source": [
    "import numpy as np\n",
    "import matplotlib.pyplot as plt"
   ]
  },
  {
   "cell_type": "code",
   "execution_count": 133,
   "id": "773ed8ef",
   "metadata": {},
   "outputs": [],
   "source": [
    "events_corner = np.loadtxt(\"../data_processed/events_corner.txt\")\n",
    "events = np.loadtxt(\"../data/events.txt\")"
   ]
  },
  {
   "cell_type": "code",
   "execution_count": 150,
   "id": "2bcc1542",
   "metadata": {},
   "outputs": [],
   "source": [
    "time_range = [2.7, 2.9]\n",
    "idx_range = [np.searchsorted(events[:,0], time_range[0]), np.searchsorted(events[:,0], time_range[1])]\n",
    "events_time = events[idx_range[0]:idx_range[1], :]\n",
    "events_corner_time = events_corner[idx_range[0]:idx_range[1]]"
   ]
  },
  {
   "cell_type": "code",
   "execution_count": 151,
   "id": "b708a61a",
   "metadata": {},
   "outputs": [],
   "source": [
    "def img_from_events(events, events_corner=None, check_corner=False):\n",
    "    img_height = int(events[:,2].max()+1)\n",
    "    img_width = int(events[:,1].max()+1)\n",
    "    img = np.zeros((img_height, img_width))\n",
    "    for i, e in enumerate(events):\n",
    "        if e[3] == 1:\n",
    "            continue\n",
    "        if check_corner:\n",
    "            if events_corner[i] == 0:\n",
    "                continue\n",
    "        x = int(e[1])\n",
    "        y = int(e[2])\n",
    "        img[y, x] += 1\n",
    "    return img"
   ]
  },
  {
   "cell_type": "code",
   "execution_count": 152,
   "id": "eebb849b",
   "metadata": {},
   "outputs": [],
   "source": [
    "img = img_from_events(events_time, events_corner_time, check_corner=True)"
   ]
  },
  {
   "cell_type": "code",
   "execution_count": 153,
   "id": "cdd6d13c",
   "metadata": {},
   "outputs": [
    {
     "data": {
      "text/plain": [
       "<matplotlib.image.AxesImage at 0x1c2a738fca0>"
      ]
     },
     "execution_count": 153,
     "metadata": {},
     "output_type": "execute_result"
    },
    {
     "data": {
      "image/png": "[encoded data removed]",
      "text/plain": [
       "<Figure size 720x720 with 1 Axes>"
      ]
     },
     "metadata": {
      "needs_background": "light"
     },
     "output_type": "display_data"
    }
   ],
   "source": [
    "plt.figure(figsize=(10, 10))\n",
    "plt.imshow(img, interpolation=\"none\")"
   ]
  },
  {
   "cell_type": "code",
   "execution_count": 121,
   "id": "cefde85b",
   "metadata": {},
   "outputs": [],
   "source": [
    "events_corner_filtered = events_time[events_corner_time == 1]"
   ]
  },
  {
   "cell_type": "code",
   "execution_count": 122,
   "id": "3e65da03",
   "metadata": {},
   "outputs": [
    {
     "data": {
      "text/plain": [
       "(189, 4)"
      ]
     },
     "execution_count": 122,
     "metadata": {},
     "output_type": "execute_result"
    }
   ],
   "source": [
    "events_corner_filtered.shape"
   ]
  },
  {
   "cell_type": "code",
   "execution_count": 123,
   "id": "cfb0a974",
   "metadata": {},
   "outputs": [],
   "source": [
    "#np.savetxt(\"../data_processed/events_corner_filt.txt\", events_corner_filtered)"
   ]
  },
  {
   "cell_type": "code",
   "execution_count": 124,
   "id": "f9c97990",
   "metadata": {},
   "outputs": [],
   "source": [
    "def filter_refactory(events, ref_time):\n",
    "    time_dict = {}\n",
    "    result = []\n",
    "    for e in events:\n",
    "        key = (e[1], e[2])\n",
    "        if key not in time_dict:\n",
    "            time_dict[key] = e[0]\n",
    "            result.append(e)\n",
    "            continue\n",
    "        if e[0] - time_dict[key] > ref_time:\n",
    "            time_dict[key] = e[0]\n",
    "            result.append(e)\n",
    "    return np.array(result)"
   ]
  },
  {
   "cell_type": "code",
   "execution_count": 125,
   "id": "f7471d3c",
   "metadata": {},
   "outputs": [],
   "source": [
    "events_filtered_ref = filter_refactory(events_corner_filtered, 0.1)"
   ]
  },
  {
   "cell_type": "code",
   "execution_count": 126,
   "id": "080d6f88",
   "metadata": {},
   "outputs": [],
   "source": [
    "img = img_from_events(events_filtered_ref)"
   ]
  },
  {
   "cell_type": "code",
   "execution_count": 127,
   "id": "de2f9636",
   "metadata": {},
   "outputs": [
    {
     "data": {
      "text/plain": [
       "<matplotlib.image.AxesImage at 0x1c2a6fab640>"
      ]
     },
     "execution_count": 127,
     "metadata": {},
     "output_type": "execute_result"
    },
    {
     "data": {
      "image/png": "[encoded data removed]",
      "text/plain": [
       "<Figure size 432x288 with 1 Axes>"
      ]
     },
     "metadata": {
      "needs_background": "light"
     },
     "output_type": "display_data"
    }
   ],
   "source": [
    "plt.imshow(img)"
   ]
  },
  {
   "cell_type": "code",
   "execution_count": 115,
   "id": "51175df4",
   "metadata": {},
   "outputs": [
    {
     "data": {
      "text/plain": [
       "3.0"
      ]
     },
     "execution_count": 115,
     "metadata": {},
     "output_type": "execute_result"
    }
   ],
   "source": [
    "img.max()"
   ]
  },
  {
   "cell_type": "code",
   "execution_count": 116,
   "id": "5657817f",
   "metadata": {},
   "outputs": [],
   "source": [
    "#np.savetxt(\"../data_processed/events_corner_filt_ref.txt\", events_filtered_ref)"
   ]
  },
  {
   "cell_type": "code",
   "execution_count": null,
   "id": "ae782d26",
   "metadata": {},
   "outputs": [],
   "source": []
  }
 ],
 "metadata": {
  "kernelspec": {
   "display_name": "Python 3 (ipykernel)",
   "language": "python",
   "name": "python3"
  },
  "language_info": {
   "codemirror_mode": {
    "name": "ipython",
    "version": 3
   },
   "file_extension": ".py",
   "mimetype": "text/x-python",
   "name": "python",
   "nbconvert_exporter": "python",
   "pygments_lexer": "ipython3",
   "version": "3.9.7"
  }
 },
 "nbformat": 4,
 "nbformat_minor": 5
}
