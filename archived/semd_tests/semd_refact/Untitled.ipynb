{
 "cells": [
  {
   "cell_type": "code",
   "execution_count": 1,
   "id": "af2a2f8e",
   "metadata": {},
   "outputs": [
    {
     "name": "stdout",
     "output_type": "stream",
     "text": [
      "(42186, 42364)\n"
     ]
    },
    {
     "ename": "MemoryError",
     "evalue": "Unable to allocate 13.3 GiB for an array with shape (42186, 42364) and data type float64",
     "output_type": "error",
     "traceback": [
      "\u001b[1;31m---------------------------------------------------------------------------\u001b[0m",
      "\u001b[1;31mMemoryError\u001b[0m                               Traceback (most recent call last)",
      "\u001b[1;32m~\\AppData\\Local\\Temp/ipykernel_27732/1472496644.py\u001b[0m in \u001b[0;36m<module>\u001b[1;34m\u001b[0m\n\u001b[0;32m    102\u001b[0m \u001b[0mprint\u001b[0m\u001b[1;33m(\u001b[0m\u001b[0mexcit_w\u001b[0m\u001b[1;33m.\u001b[0m\u001b[0mshape\u001b[0m\u001b[1;33m)\u001b[0m\u001b[1;33m\u001b[0m\u001b[1;33m\u001b[0m\u001b[0m\n\u001b[0;32m    103\u001b[0m \u001b[1;33m\u001b[0m\u001b[0m\n\u001b[1;32m--> 104\u001b[1;33m \u001b[0mdense_excit\u001b[0m \u001b[1;33m=\u001b[0m \u001b[0mDense\u001b[0m\u001b[1;33m(\u001b[0m\u001b[0mshape\u001b[0m\u001b[1;33m=\u001b[0m\u001b[1;33m(\u001b[0m\u001b[0mexcit_w\u001b[0m\u001b[1;33m.\u001b[0m\u001b[0mshape\u001b[0m\u001b[1;33m)\u001b[0m\u001b[1;33m,\u001b[0m \u001b[0mweights\u001b[0m\u001b[1;33m=\u001b[0m\u001b[0mexcit_w\u001b[0m\u001b[1;33m)\u001b[0m\u001b[1;33m\u001b[0m\u001b[1;33m\u001b[0m\u001b[0m\n\u001b[0m\u001b[0;32m    105\u001b[0m \u001b[0mdense_trig\u001b[0m \u001b[1;33m=\u001b[0m \u001b[0mDense\u001b[0m\u001b[1;33m(\u001b[0m\u001b[0mshape\u001b[0m\u001b[1;33m=\u001b[0m\u001b[0mtrig_w\u001b[0m\u001b[1;33m.\u001b[0m\u001b[0mshape\u001b[0m\u001b[1;33m,\u001b[0m \u001b[0mweights\u001b[0m\u001b[1;33m=\u001b[0m\u001b[0mtrig_w\u001b[0m\u001b[1;33m)\u001b[0m\u001b[1;33m\u001b[0m\u001b[1;33m\u001b[0m\u001b[0m\n\u001b[0;32m    106\u001b[0m \u001b[1;33m\u001b[0m\u001b[0m\n",
      "\u001b[1;32m~\\lava-nc\\lava\\src\\lava\\magma\\core\\process\\process.py\u001b[0m in \u001b[0;36m__call__\u001b[1;34m(cls, *args, **kwargs)\u001b[0m\n\u001b[0;32m     96\u001b[0m \u001b[1;33m\u001b[0m\u001b[0m\n\u001b[0;32m     97\u001b[0m     \u001b[1;32mdef\u001b[0m \u001b[0m__call__\u001b[0m\u001b[1;33m(\u001b[0m\u001b[0mcls\u001b[0m\u001b[1;33m,\u001b[0m \u001b[1;33m*\u001b[0m\u001b[0margs\u001b[0m\u001b[1;33m,\u001b[0m \u001b[1;33m**\u001b[0m\u001b[0mkwargs\u001b[0m\u001b[1;33m)\u001b[0m\u001b[1;33m:\u001b[0m\u001b[1;33m\u001b[0m\u001b[1;33m\u001b[0m\u001b[0m\n\u001b[1;32m---> 98\u001b[1;33m         \u001b[0mobj\u001b[0m \u001b[1;33m=\u001b[0m \u001b[0mtype\u001b[0m\u001b[1;33m.\u001b[0m\u001b[0m__call__\u001b[0m\u001b[1;33m(\u001b[0m\u001b[0mcls\u001b[0m\u001b[1;33m,\u001b[0m \u001b[1;33m*\u001b[0m\u001b[0margs\u001b[0m\u001b[1;33m,\u001b[0m \u001b[1;33m**\u001b[0m\u001b[0mkwargs\u001b[0m\u001b[1;33m)\u001b[0m\u001b[1;33m\u001b[0m\u001b[1;33m\u001b[0m\u001b[0m\n\u001b[0m\u001b[0;32m     99\u001b[0m         \u001b[0mgetattr\u001b[0m\u001b[1;33m(\u001b[0m\u001b[0mobj\u001b[0m\u001b[1;33m,\u001b[0m \u001b[1;34m\"_post_init\"\u001b[0m\u001b[1;33m)\u001b[0m\u001b[1;33m(\u001b[0m\u001b[1;33m)\u001b[0m\u001b[1;33m\u001b[0m\u001b[1;33m\u001b[0m\u001b[0m\n\u001b[0;32m    100\u001b[0m         \u001b[1;32mreturn\u001b[0m \u001b[0mobj\u001b[0m\u001b[1;33m\u001b[0m\u001b[1;33m\u001b[0m\u001b[0m\n",
      "\u001b[1;32m~\\lava-nc\\lava\\src\\lava\\proc\\dense\\process.py\u001b[0m in \u001b[0;36m__init__\u001b[1;34m(self, **kwargs)\u001b[0m\n\u001b[0;32m     61\u001b[0m         \u001b[1;32mif\u001b[0m \u001b[0mlen\u001b[0m\u001b[1;33m(\u001b[0m\u001b[0mshape\u001b[0m\u001b[1;33m)\u001b[0m \u001b[1;33m!=\u001b[0m \u001b[1;36m2\u001b[0m\u001b[1;33m:\u001b[0m\u001b[1;33m\u001b[0m\u001b[1;33m\u001b[0m\u001b[0m\n\u001b[0;32m     62\u001b[0m             \u001b[1;32mraise\u001b[0m \u001b[0mAssertionError\u001b[0m\u001b[1;33m(\u001b[0m\u001b[1;34m\"Dense Process 'shape' expected a 2D tensor.\"\u001b[0m\u001b[1;33m)\u001b[0m\u001b[1;33m\u001b[0m\u001b[1;33m\u001b[0m\u001b[0m\n\u001b[1;32m---> 63\u001b[1;33m         \u001b[0mweights\u001b[0m \u001b[1;33m=\u001b[0m \u001b[0mkwargs\u001b[0m\u001b[1;33m.\u001b[0m\u001b[0mpop\u001b[0m\u001b[1;33m(\u001b[0m\u001b[1;34m\"weights\"\u001b[0m\u001b[1;33m,\u001b[0m \u001b[0mnp\u001b[0m\u001b[1;33m.\u001b[0m\u001b[0mzeros\u001b[0m\u001b[1;33m(\u001b[0m\u001b[0mshape\u001b[0m\u001b[1;33m=\u001b[0m\u001b[0mshape\u001b[0m\u001b[1;33m)\u001b[0m\u001b[1;33m)\u001b[0m\u001b[1;33m\u001b[0m\u001b[1;33m\u001b[0m\u001b[0m\n\u001b[0m\u001b[0;32m     64\u001b[0m         \u001b[1;32mif\u001b[0m \u001b[0mlen\u001b[0m\u001b[1;33m(\u001b[0m\u001b[0mnp\u001b[0m\u001b[1;33m.\u001b[0m\u001b[0mshape\u001b[0m\u001b[1;33m(\u001b[0m\u001b[0mweights\u001b[0m\u001b[1;33m)\u001b[0m\u001b[1;33m)\u001b[0m \u001b[1;33m!=\u001b[0m \u001b[1;36m2\u001b[0m\u001b[1;33m:\u001b[0m\u001b[1;33m\u001b[0m\u001b[1;33m\u001b[0m\u001b[0m\n\u001b[0;32m     65\u001b[0m             raise AssertionError(\"Dense Process 'weights' expected a 2D \"\n",
      "\u001b[1;31mMemoryError\u001b[0m: Unable to allocate 13.3 GiB for an array with shape (42186, 42364) and data type float64"
     ]
    }
   ],
   "source": [
    "import sys\n",
    "\n",
    "sys.path.append(\"../../\")\n",
    "\n",
    "import numpy as np\n",
    "import matplotlib.pyplot as plt\n",
    "from tqdm import tqdm\n",
    "\n",
    "from lava.proc.io.source import RingBuffer\n",
    "from lava.proc.io.sink import RingBuffer as SinkBuffer\n",
    "\n",
    "from lava.proc.conv.process import Conv#\n",
    "from lava.proc.lif.process import LIF\n",
    "from lava.proc.dense.process import Dense\n",
    "from lava.proc.monitor.process import Monitor\n",
    "\n",
    "from lava.lib.dnf.connect.reshape_int.process import ReshapeInt\n",
    "from lava.lib.dnf.connect.reshape_bool.process import ReshapeBool\n",
    "\n",
    "\n",
    "from lava.magma.core.run_configs import RunConfig, Loihi1SimCfg\n",
    "from lava.magma.core.run_conditions import RunSteps\n",
    "\n",
    "from semd.proc.tde.process import TDE\n",
    "\n",
    "from utils import gen_weights\n",
    "\n",
    "events_range = np.loadtxt(\"../../data_processed/events_refact.txt\")\n",
    "# this data is already filtered by time, no need to redo it here\n",
    "events = events_range\n",
    "\n",
    "# patch_center = (40, 76)\n",
    "# patch_size = 150\n",
    "# x_lim = (patch_center[1] - int(patch_size / 2), patch_center[1] + int(patch_size / 2) - 1)\n",
    "# y_lim = (patch_center[0] - int(patch_size / 2), patch_center[0] + int(patch_size / 2) - 1)\n",
    "# print(x_lim)\n",
    "\n",
    "# events_filtered = events_range\n",
    "# events_filtered = events_filtered[\n",
    "#     np.logical_and((x_lim[0] <= events_filtered[:, 1]), (events_filtered[:, 1] <= x_lim[1]))]\n",
    "# events_filtered = events_filtered[\n",
    "#     np.logical_and((y_lim[0] <= events_filtered[:, 2]), (events_filtered[:, 2] <= y_lim[1]))]\n",
    "# # events_filtered = events_filtered[[(y_lim[0] >= events_range[:,2]) & (events_range[:,2] <= y_lim[1])]\n",
    "# events_filtered = np.array(events_filtered)\n",
    "# events = events_filtered\n",
    "\n",
    "t_start = events[0, 0]\n",
    "duration = events[-1, 0] - events[0, 0]\n",
    "\n",
    "# prepare event data for input to process using lava.io.source\n",
    "timesteps = 100\n",
    "width = 240\n",
    "height = 180\n",
    "\n",
    "result = np.zeros((height, width, timesteps), dtype=int)\n",
    "\n",
    "for e in events:\n",
    "    x = int(e[1])\n",
    "    y = int(e[2])\n",
    "\n",
    "#     x = int(e[1]) - patch_center[1] + int(patch_size / 2)\n",
    "#     y = int(e[2]) - patch_center[0] + int(patch_size / 2)\n",
    "    time = int((float(e[0]) - t_start) / duration * timesteps) - 1\n",
    "\n",
    "    if e[3] == 1:\n",
    "        continue\n",
    "        #consider only positive events\n",
    "    result[y, x, time] = 1.0\n",
    "\n",
    "# input layer\n",
    "input_n = RingBuffer(result)\n",
    "\n",
    "shape = (height, width)\n",
    "conv_factor = 1\n",
    "internal_shape = (shape[0] * shape[1],)\n",
    "out_shape = (int(shape[0] / conv_factor) -2, int(shape[1] / conv_factor) -2)\n",
    "\n",
    "conv_weight = np.ones((1, 3, 3, 1)) * 1.7\n",
    "conv = Conv(\n",
    "    input_shape=(shape[0], shape[1], 1),\n",
    "    weight=conv_weight,\n",
    "    stride=(conv_factor, conv_factor)\n",
    "    )\n",
    "\n",
    "input_reshape = ReshapeInt(shape_in=(shape), shape_out=(shape[0], shape[1], 1))\n",
    "input_n.s_out.connect(input_reshape.s_in)\n",
    "input_reshape.s_out.connect(conv.s_in)\n",
    "\n",
    "conv_reshape = ReshapeInt(shape_in=(out_shape[0], out_shape[1], 1), shape_out=out_shape)\n",
    "conv.a_out.connect(conv_reshape.s_in)\n",
    "\n",
    "lif = LIF(shape=out_shape, du=1.0, dv=0.0, vth=10.0)\n",
    "\n",
    "conv_reshape.s_out.connect(lif.a_in)\n",
    "\n",
    "detector_shape = (out_shape[0], out_shape[1] - 1)\n",
    "left_detector = TDE(shape=detector_shape, du=(0.05))\n",
    "\n",
    "excit_w = gen_weights(out_shape, detector_shape, 1, 0).transpose()\n",
    "trig_w = gen_weights(out_shape, detector_shape, -1, 0).transpose()\n",
    "\n",
    "print(excit_w.shape)\n",
    "\n",
    "dense_excit = Dense(shape=(excit_w.shape), weights=excit_w)\n",
    "dense_trig = Dense(shape=trig_w.shape, weights=trig_w)\n",
    "\n",
    "reshape_lif = ReshapeBool(shape_in=(out_shape[0], out_shape[1]), shape_out=(out_shape[0]*out_shape[1],))\n",
    "lif.s_out.connect(reshape_lif.s_in)\n",
    "\n",
    "reshape_lif.s_out.connect(dense_excit.s_in)\n",
    "reshape_lif.s_out.connect(dense_trig.s_in)\n",
    "\n",
    "reshape_excit = ReshapeInt(shape_in=(detector_shape[0]*detector_shape[1], ), shape_out=(detector_shape))\n",
    "reshape_trig = ReshapeInt(shape_in=(detector_shape[0]*detector_shape[1], ), shape_out=(detector_shape))\n",
    "\n",
    "dense_excit.a_out.connect(reshape_excit.s_in)\n",
    "dense_trig.a_out.connect(reshape_trig.s_in)\n",
    "\n",
    "reshape_excit.s_out.connect(left_detector.a_in)\n",
    "reshape_trig.s_out.connect(left_detector.t_in)\n",
    "\n",
    "output_n = SinkBuffer(shape=detector_shape, buffer=100)\n",
    "left_detector.s_out.connect(output_n.a_in)\n",
    "\n",
    "output_lif = SinkBuffer(shape=out_shape, buffer=100)\n",
    "lif.s_out.connect(output_lif.a_in)\n",
    "\n",
    "output_n_in = SinkBuffer(shape=shape, buffer=100)\n",
    "input_n.s_out.connect(output_n_in.a_in)\n",
    "\n",
    "monitor = Monitor()\n",
    "monitor.probe(left_detector.u, num_steps=100)\n",
    "\n",
    "rcfg = Loihi1SimCfg(select_tag='floating_pt', select_sub_proc_model=False)\n",
    "\n",
    "for i in tqdm(range(100)):\n",
    "    run_condition = RunSteps(num_steps=1)\n",
    "    input_n.run(condition=run_condition, run_cfg=rcfg)\n",
    "    \n",
    "data = output_n.data.get()\n",
    "data_in = output_n_in.data.get()\n",
    "data_lif = output_lif.data.get()\n",
    "data_u = monitor.get_data()\n",
    "input_n.stop()"
   ]
  },
  {
   "cell_type": "code",
   "execution_count": null,
   "id": "bac72a1e",
   "metadata": {},
   "outputs": [],
   "source": [
    "plt.hist(data.flatten(), 10)"
   ]
  },
  {
   "cell_type": "code",
   "execution_count": null,
   "id": "ff3d26ab",
   "metadata": {},
   "outputs": [],
   "source": [
    "plt.figure(figsize=(20, 20))\n",
    "plt.imshow(np.sum(data, axis=-1), cmap=\"jet\")"
   ]
  },
  {
   "cell_type": "code",
   "execution_count": null,
   "id": "f5c851f6",
   "metadata": {},
   "outputs": [],
   "source": [
    "data_sum = np.sum(data[:,:,:], axis=-1)\n",
    "data_masked = np.ma.masked_where(np.logical_or(data_sum == 0, data_sum > 20.0), data_sum)\n",
    "plt.figure(figsize=(20, 20))\n",
    "plt.imshow(data_masked)"
   ]
  },
  {
   "cell_type": "code",
   "execution_count": null,
   "id": "2620ff99",
   "metadata": {},
   "outputs": [],
   "source": [
    "plt.imshow(np.sum(data[:5,45:50,20:30],axis=-1))"
   ]
  },
  {
   "cell_type": "code",
   "execution_count": null,
   "id": "5d14a4db",
   "metadata": {},
   "outputs": [],
   "source": [
    "plt.plot(data[2,46,])"
   ]
  },
  {
   "cell_type": "code",
   "execution_count": null,
   "id": "0c57e618",
   "metadata": {},
   "outputs": [],
   "source": [
    "data_u = data_u[\"Process_5\"][\"u\"]"
   ]
  },
  {
   "cell_type": "code",
   "execution_count": null,
   "id": "67b1c7a1",
   "metadata": {},
   "outputs": [],
   "source": [
    "plt.figure(figsize=(10, 10))\n",
    "plt.imshow(np.sum(data_in[:,:,:], axis=-1))"
   ]
  },
  {
   "cell_type": "code",
   "execution_count": null,
   "id": "7a382316",
   "metadata": {},
   "outputs": [],
   "source": [
    "data_sum = np.sum(data_u, axis=0)\n",
    "np.unravel_index(data_sum.argmax(), data_sum.shape)"
   ]
  },
  {
   "cell_type": "code",
   "execution_count": null,
   "id": "4fe596be",
   "metadata": {},
   "outputs": [],
   "source": [
    "plt.imshow(np.sum(data_u[:,:,:], axis=0))"
   ]
  },
  {
   "cell_type": "code",
   "execution_count": null,
   "id": "b2da6f86",
   "metadata": {},
   "outputs": [],
   "source": [
    "sum_fil = np.ma.masked_where(data_sum < 10, data_sum)\n",
    "plt.imshow(sum_fil)"
   ]
  },
  {
   "cell_type": "code",
   "execution_count": null,
   "id": "289d293b",
   "metadata": {},
   "outputs": [],
   "source": [
    "plt.imshow(data_u[80,:,:])"
   ]
  },
  {
   "cell_type": "code",
   "execution_count": null,
   "id": "1d67e3bb",
   "metadata": {},
   "outputs": [],
   "source": [
    "plt.imshow(data_in[:,:,4])"
   ]
  },
  {
   "cell_type": "code",
   "execution_count": null,
   "id": "b7692145",
   "metadata": {},
   "outputs": [],
   "source": [
    "plt.imshow(np.sum(data_in[:,:,:], axis=-1))"
   ]
  },
  {
   "cell_type": "code",
   "execution_count": null,
   "id": "a8a981b0",
   "metadata": {},
   "outputs": [],
   "source": [
    "plt.imshow(np.sum(data_u[:,:,:], axis=0))"
   ]
  },
  {
   "cell_type": "code",
   "execution_count": null,
   "id": "b0a84833",
   "metadata": {},
   "outputs": [],
   "source": [
    "data_u.max()"
   ]
  },
  {
   "cell_type": "code",
   "execution_count": null,
   "id": "f2ab4520",
   "metadata": {},
   "outputs": [],
   "source": [
    "plt.imshow(np.sum(data_lif, axis=-1))"
   ]
  },
  {
   "cell_type": "code",
   "execution_count": null,
   "id": "be389481",
   "metadata": {},
   "outputs": [],
   "source": []
  },
  {
   "cell_type": "code",
   "execution_count": null,
   "id": "9a7cbc68",
   "metadata": {},
   "outputs": [],
   "source": []
  }
 ],
 "metadata": {
  "kernelspec": {
   "display_name": "Python 3 (ipykernel)",
   "language": "python",
   "name": "python3"
  },
  "language_info": {
   "codemirror_mode": {
    "name": "ipython",
    "version": 3
   },
   "file_extension": ".py",
   "mimetype": "text/x-python",
   "name": "python",
   "nbconvert_exporter": "python",
   "pygments_lexer": "ipython3",
   "version": "3.8.10"
  }
 },
 "nbformat": 4,
 "nbformat_minor": 5
}
