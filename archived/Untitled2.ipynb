{
 "cells": [
  {
   "cell_type": "code",
   "execution_count": 2,
   "id": "f8187c0f",
   "metadata": {},
   "outputs": [],
   "source": [
    "import numpy as np\n",
    "import matplotlib.pyplot as plt"
   ]
  },
  {
   "cell_type": "code",
   "execution_count": 75,
   "id": "f81819c6",
   "metadata": {},
   "outputs": [],
   "source": [
    "shape = (3, 3)\n",
    "n_elems = shape[0] * shape[1]"
   ]
  },
  {
   "cell_type": "code",
   "execution_count": 79,
   "id": "396cbf60",
   "metadata": {},
   "outputs": [],
   "source": [
    "d = np.ones(shape[0]*(shape[1]-1))\n",
    "# d[shape[0]-1::shape[0]] = 0\n",
    "right = np.diag(d, -shape[0])"
   ]
  },
  {
   "cell_type": "code",
   "execution_count": 80,
   "id": "8bdaeacf",
   "metadata": {},
   "outputs": [
    {
     "data": {
      "text/plain": [
       "<matplotlib.image.AxesImage at 0x195671c5730>"
      ]
     },
     "execution_count": 80,
     "metadata": {},
     "output_type": "execute_result"
    },
    {
     "data": {
      "image/png": "[encoded data removed]",
      "text/plain": [
       "<Figure size 432x288 with 1 Axes>"
      ]
     },
     "metadata": {
      "needs_background": "light"
     },
     "output_type": "display_data"
    }
   ],
   "source": [
    "plt.imshow(right)"
   ]
  },
  {
   "cell_type": "code",
   "execution_count": 65,
   "id": "0373eb4b",
   "metadata": {},
   "outputs": [],
   "source": [
    "d = np.ones(n_elems-1)\n",
    "d[shape[0]-1::shape[0]] = 0"
   ]
  },
  {
   "cell_type": "code",
   "execution_count": 92,
   "id": "20da5c90",
   "metadata": {},
   "outputs": [],
   "source": [
    "diag = np.diagonal(right)"
   ]
  },
  {
   "cell_type": "code",
   "execution_count": 93,
   "id": "daf5417f",
   "metadata": {},
   "outputs": [],
   "source": [
    "diag = np.ones((9,9))"
   ]
  },
  {
   "cell_type": "code",
   "execution_count": 94,
   "id": "72731579",
   "metadata": {},
   "outputs": [
    {
     "data": {
      "text/plain": [
       "array([[0., 0., 0., 0., 0., 0., 0., 0., 0.],\n",
       "       [0., 0., 0., 0., 0., 0., 0., 0., 0.],\n",
       "       [0., 0., 0., 0., 0., 0., 0., 0., 0.],\n",
       "       [1., 0., 0., 0., 0., 0., 0., 0., 0.],\n",
       "       [0., 1., 0., 0., 0., 0., 0., 0., 0.],\n",
       "       [0., 0., 1., 0., 0., 0., 0., 0., 0.],\n",
       "       [0., 0., 0., 1., 0., 0., 0., 0., 0.],\n",
       "       [0., 0., 0., 0., 1., 0., 0., 0., 0.],\n",
       "       [0., 0., 0., 0., 0., 1., 0., 0., 0.]])"
      ]
     },
     "execution_count": 94,
     "metadata": {},
     "output_type": "execute_result"
    }
   ],
   "source": [
    "right"
   ]
  },
  {
   "cell_type": "code",
   "execution_count": null,
   "id": "73d390dd",
   "metadata": {},
   "outputs": [],
   "source": []
  }
 ],
 "metadata": {
  "kernelspec": {
   "display_name": "Python 3 (ipykernel)",
   "language": "python",
   "name": "python3"
  },
  "language_info": {
   "codemirror_mode": {
    "name": "ipython",
    "version": 3
   },
   "file_extension": ".py",
   "mimetype": "text/x-python",
   "name": "python",
   "nbconvert_exporter": "python",
   "pygments_lexer": "ipython3",
   "version": "3.8.10"
  }
 },
 "nbformat": 4,
 "nbformat_minor": 5
}
