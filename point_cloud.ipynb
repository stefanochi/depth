{
 "cells": [
  {
   "cell_type": "code",
   "execution_count": 29,
   "id": "4353f7fe",
   "metadata": {},
   "outputs": [],
   "source": [
    "import numpy as np\n",
    "import matplotlib.pyplot as plt\n",
    "import copy"
   ]
  },
  {
   "cell_type": "code",
   "execution_count": 30,
   "id": "de407edf",
   "metadata": {},
   "outputs": [],
   "source": [
    "import open3d as o3d"
   ]
  },
  {
   "cell_type": "code",
   "execution_count": 31,
   "id": "56c90aab",
   "metadata": {},
   "outputs": [],
   "source": [
    "path = \"C:/Users/schiavaz/lava-nc/depth/\"\n",
    "dataset = \"data/esim_data/line_top/\""
   ]
  },
  {
   "cell_type": "code",
   "execution_count": 32,
   "id": "8453c7ba",
   "metadata": {},
   "outputs": [],
   "source": [
    "from os import listdir\n",
    "fs = [f for f in listdir(path + dataset + \"test/\")]\n",
    "pcds = [o3d.io.read_point_cloud(path + dataset + \"test/\"+ f) for f in fs]"
   ]
  },
  {
   "cell_type": "code",
   "execution_count": 33,
   "id": "95481561",
   "metadata": {},
   "outputs": [
    {
     "name": "stdout",
     "output_type": "stream",
     "text": [
      "PointCloud with 3742 points.\n"
     ]
    }
   ],
   "source": [
    "pcd = o3d.io.read_point_cloud(path + dataset + \"/test/2.336294000.pcd\")\n",
    "print(pcd)"
   ]
  },
  {
   "cell_type": "code",
   "execution_count": 34,
   "id": "ff5b1326",
   "metadata": {},
   "outputs": [],
   "source": [
    "o3d.visualization.draw_geometries([pcd])"
   ]
  },
  {
   "cell_type": "code",
   "execution_count": 35,
   "id": "53ab6a97",
   "metadata": {},
   "outputs": [],
   "source": [
    "pcd_res = o3d.io.read_point_cloud(path + dataset + \"/result_pcd.pcd\")"
   ]
  },
  {
   "cell_type": "code",
   "execution_count": 36,
   "id": "1bb0b628",
   "metadata": {},
   "outputs": [],
   "source": [
    "o3d.visualization.draw_geometries([pcd_res, pcd])"
   ]
  },
  {
   "cell_type": "code",
   "execution_count": 37,
   "id": "bcd6dbc4",
   "metadata": {},
   "outputs": [],
   "source": [
    "def draw_registration_result(source, target, transformation):\n",
    "    source_temp = copy.deepcopy(source)\n",
    "    target_temp = copy.deepcopy(target)\n",
    "    source_temp.paint_uniform_color([1, 0.706, 0])\n",
    "    target_temp.paint_uniform_color([0, 0.651, 0.929])\n",
    "    source_temp.transform(transformation)\n",
    "    o3d.visualization.draw_geometries([source_temp, target_temp],\n",
    "                                      zoom=0.4459,\n",
    "                                      front=[0.9288, -0.2951, -0.2242],\n",
    "                                      lookat=[1.6784, 2.0612, 1.4451],\n",
    "                                      up=[-0.3402, -0.9189, -0.1996])"
   ]
  },
  {
   "cell_type": "code",
   "execution_count": 73,
   "id": "6cac76d3",
   "metadata": {},
   "outputs": [],
   "source": [
    "source = pcd_res\n",
    "target = pcd\n",
    "threshold = 100.0\n",
    "\n",
    "T = np.eye(4)\n",
    "T[:3, :3] = source.get_rotation_matrix_from_xyz((np.pi, 0, 0))\n",
    "T[2, 3] = 0\n",
    "trans_init = T\n",
    "draw_registration_result(source, target, trans_init)"
   ]
  },
  {
   "cell_type": "code",
   "execution_count": 74,
   "id": "392937b9",
   "metadata": {},
   "outputs": [
    {
     "name": "stdout",
     "output_type": "stream",
     "text": [
      "Apply point-to-point ICP\n",
      "RegistrationResult with fitness=1.000000e+00, inlier_rmse=8.029091e-02, and correspondence_set size of 27819\n",
      "Access transformation to get result.\n",
      "Transformation is:\n",
      "[[ 9.99810524e-01 -4.42447988e-04  1.94607255e-02 -1.15972959e-01]\n",
      " [-2.85963569e-04 -9.99967613e-01 -8.04308516e-03 -3.58429800e-01]\n",
      " [ 1.94636539e-02  8.03599614e-03 -9.99778270e-01  8.46457573e-03]\n",
      " [ 0.00000000e+00  0.00000000e+00  0.00000000e+00  1.00000000e+00]]\n"
     ]
    }
   ],
   "source": [
    "print(\"Apply point-to-point ICP\")\n",
    "reg_p2p = o3d.pipelines.registration.registration_icp(\n",
    "    source, target, threshold, trans_init,\n",
    "    o3d.pipelines.registration.TransformationEstimationPointToPoint())\n",
    "print(reg_p2p)\n",
    "print(\"Transformation is:\")\n",
    "print(reg_p2p.transformation)\n",
    "draw_registration_result(source, target, reg_p2p.transformation)"
   ]
  },
  {
   "cell_type": "code",
   "execution_count": 72,
   "id": "d98824b3",
   "metadata": {},
   "outputs": [
    {
     "data": {
      "text/plain": [
       "0.08029091"
      ]
     },
     "execution_count": 72,
     "metadata": {},
     "output_type": "execute_result"
    }
   ],
   "source": [
    "8.029091e-02"
   ]
  },
  {
   "cell_type": "code",
   "execution_count": null,
   "id": "407c33e1",
   "metadata": {},
   "outputs": [],
   "source": []
  }
 ],
 "metadata": {
  "kernelspec": {
   "display_name": "Python 3 (ipykernel)",
   "language": "python",
   "name": "python3"
  },
  "language_info": {
   "codemirror_mode": {
    "name": "ipython",
    "version": 3
   },
   "file_extension": ".py",
   "mimetype": "text/x-python",
   "name": "python",
   "nbconvert_exporter": "python",
   "pygments_lexer": "ipython3",
   "version": "3.8.10"
  }
 },
 "nbformat": 4,
 "nbformat_minor": 5
}
